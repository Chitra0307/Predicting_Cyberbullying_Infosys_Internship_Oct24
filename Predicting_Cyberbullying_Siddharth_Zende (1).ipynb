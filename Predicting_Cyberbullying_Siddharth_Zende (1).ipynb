{
  "cells": [
    {
      "cell_type": "code",
      "execution_count": null,
      "metadata": {
        "id": "Du-zkTHUTDEm"
      },
      "outputs": [],
      "source": []
    },
    {
      "cell_type": "markdown",
      "source": [
        "# Infosys Springboard ML Project\n",
        "## Predicting Cyberbullying using ML techniques\n",
        "### Siddharth Zende"
      ],
      "metadata": {
        "id": "SYyG1VClRol4"
      }
    },
    {
      "cell_type": "code",
      "execution_count": null,
      "metadata": {
        "id": "PGuUlrAsBLO9"
      },
      "outputs": [],
      "source": []
    },
    {
      "cell_type": "markdown",
      "metadata": {
        "id": "7VOHQkWi5xm1"
      },
      "source": [
        "# Loading the Dataset\n"
      ]
    },
    {
      "cell_type": "code",
      "execution_count": null,
      "metadata": {
        "id": "lUBwSokKMWhA"
      },
      "outputs": [],
      "source": []
    },
    {
      "cell_type": "code",
      "source": [],
      "metadata": {
        "id": "ZtgrIA8hlKay"
      },
      "execution_count": null,
      "outputs": []
    },
    {
      "cell_type": "code",
      "execution_count": 1,
      "metadata": {
        "colab": {
          "base_uri": "https://localhost:8080/"
        },
        "id": "6nyDzTt-TFck",
        "outputId": "d5a47d46-5cdc-4dac-e2d7-4035061ebc01"
      },
      "outputs": [
        {
          "output_type": "stream",
          "name": "stdout",
          "text": [
            "Mounted at /content/drive\n"
          ]
        }
      ],
      "source": [
        "from google.colab import drive\n",
        "drive.mount('/content/drive')"
      ]
    },
    {
      "cell_type": "code",
      "execution_count": null,
      "metadata": {
        "id": "zU2NV0AHbw4k"
      },
      "outputs": [],
      "source": []
    },
    {
      "cell_type": "code",
      "execution_count": null,
      "metadata": {
        "colab": {
          "base_uri": "https://localhost:8080/"
        },
        "id": "UE69jfLA51I4",
        "outputId": "8b9637da-b2d2-4ee0-b181-b8c10ce3989a"
      },
      "outputs": [
        {
          "output_type": "stream",
          "name": "stdout",
          "text": [
            "Requirement already satisfied: numpy in /usr/local/lib/python3.10/dist-packages (1.26.4)\n",
            "Requirement already satisfied: pandas in /usr/local/lib/python3.10/dist-packages (2.2.2)\n",
            "Requirement already satisfied: scikit-learn in /usr/local/lib/python3.10/dist-packages (1.5.2)\n",
            "Requirement already satisfied: python-dateutil>=2.8.2 in /usr/local/lib/python3.10/dist-packages (from pandas) (2.8.2)\n",
            "Requirement already satisfied: pytz>=2020.1 in /usr/local/lib/python3.10/dist-packages (from pandas) (2024.2)\n",
            "Requirement already satisfied: tzdata>=2022.7 in /usr/local/lib/python3.10/dist-packages (from pandas) (2024.2)\n",
            "Requirement already satisfied: scipy>=1.6.0 in /usr/local/lib/python3.10/dist-packages (from scikit-learn) (1.13.1)\n",
            "Requirement already satisfied: joblib>=1.2.0 in /usr/local/lib/python3.10/dist-packages (from scikit-learn) (1.4.2)\n",
            "Requirement already satisfied: threadpoolctl>=3.1.0 in /usr/local/lib/python3.10/dist-packages (from scikit-learn) (3.5.0)\n",
            "Requirement already satisfied: six>=1.5 in /usr/local/lib/python3.10/dist-packages (from python-dateutil>=2.8.2->pandas) (1.16.0)\n"
          ]
        }
      ],
      "source": [
        "!pip install numpy pandas scikit-learn"
      ]
    },
    {
      "cell_type": "code",
      "execution_count": 2,
      "metadata": {
        "colab": {
          "base_uri": "https://localhost:8080/"
        },
        "id": "5sgDOoTHBchM",
        "outputId": "5fb43e66-4969-458d-ce85-0e6daf43d4e2"
      },
      "outputs": [
        {
          "output_type": "stream",
          "name": "stdout",
          "text": [
            "                                                text label  \\\n",
            "0  all and at attack blame bully ca call doing fa...   age   \n",
            "1  12 2019 arm at becoming being boy bullied bull...   age   \n",
            "2  actually and be better bullied but class did d...   age   \n",
            "3  bully don from gay he him his kid no one proba...   age   \n",
            "4  and are being bully bullying evidence from is ...   age   \n",
            "\n",
            "                                          tweet_text cyberbullying_type  \n",
            "0  all and at attack blame bully ca call doing fa...                age  \n",
            "1  12 2019 arm at becoming being boy bullied bull...                age  \n",
            "2  actually and be better bullied but class did d...                age  \n",
            "3  bully don from gay he him his kid no one proba...                age  \n",
            "4  and are being bully bullying evidence from is ...                age  \n"
          ]
        }
      ],
      "source": [
        "import pandas as pd\n",
        "\n",
        "def load_dataset_in_chunks(file_path, chunk_size=1000):\n",
        "    # Read the dataset in chunks\n",
        "    chunks = pd.read_csv(file_path, chunksize=chunk_size, encoding='ISO-8859-1', low_memory=False, on_bad_lines='skip')\n",
        "    # Combine all chunks into one DataFrame\n",
        "    return pd.concat(chunks, ignore_index=True)\n",
        "\n",
        "# Usage\n",
        "file_path = '/content/drive/MyDrive/Colab Notebooks/modified_dataset_cleaned.csv'\n",
        "df = load_dataset_in_chunks(file_path)\n",
        "\n",
        "# Check the loaded data\n",
        "print(df.head())"
      ]
    },
    {
      "cell_type": "code",
      "execution_count": null,
      "metadata": {
        "id": "L4sRBxQTBrN2",
        "colab": {
          "base_uri": "https://localhost:8080/",
          "height": 424
        },
        "outputId": "d72563d7-8d74-4f4e-99db-a9dc9818ebb1"
      },
      "outputs": [
        {
          "output_type": "execute_result",
          "data": {
            "text/plain": [
              "                                               tweet_text   cyberbullying_type\n",
              "0                                  Get fucking real dude.  other_cyberbullying\n",
              "1        She is as dirty as they come  and that crook ...  other_cyberbullying\n",
              "2        why did you fuck it up. I could do it all day...  other_cyberbullying\n",
              "3        Dude they dont finish enclosing the fucking s...  other_cyberbullying\n",
              "4        WTF are you talking about Men? No men thats n...  other_cyberbullying\n",
              "...                                                   ...                  ...\n",
              "330711  my bad i had nothing to do and w i wanted to s...  other_cyberbullying\n",
              "330712  simpleton comment regarding a stupid opinion p...  other_cyberbullying\n",
              "330713  I was wondering - what kind of a nut case does...  other_cyberbullying\n",
              "330714   there would be returning co champs in chuck f...  other_cyberbullying\n",
              "330715  jane margaret truesdell american journalist ja...  other_cyberbullying\n",
              "\n",
              "[330716 rows x 2 columns]"
            ],
            "text/html": [
              "\n",
              "  <div id=\"df-21b86923-f3e3-44d0-935f-3fdbdf21b510\" class=\"colab-df-container\">\n",
              "    <div>\n",
              "<style scoped>\n",
              "    .dataframe tbody tr th:only-of-type {\n",
              "        vertical-align: middle;\n",
              "    }\n",
              "\n",
              "    .dataframe tbody tr th {\n",
              "        vertical-align: top;\n",
              "    }\n",
              "\n",
              "    .dataframe thead th {\n",
              "        text-align: right;\n",
              "    }\n",
              "</style>\n",
              "<table border=\"1\" class=\"dataframe\">\n",
              "  <thead>\n",
              "    <tr style=\"text-align: right;\">\n",
              "      <th></th>\n",
              "      <th>tweet_text</th>\n",
              "      <th>cyberbullying_type</th>\n",
              "    </tr>\n",
              "  </thead>\n",
              "  <tbody>\n",
              "    <tr>\n",
              "      <th>0</th>\n",
              "      <td>Get fucking real dude.</td>\n",
              "      <td>other_cyberbullying</td>\n",
              "    </tr>\n",
              "    <tr>\n",
              "      <th>1</th>\n",
              "      <td>She is as dirty as they come  and that crook ...</td>\n",
              "      <td>other_cyberbullying</td>\n",
              "    </tr>\n",
              "    <tr>\n",
              "      <th>2</th>\n",
              "      <td>why did you fuck it up. I could do it all day...</td>\n",
              "      <td>other_cyberbullying</td>\n",
              "    </tr>\n",
              "    <tr>\n",
              "      <th>3</th>\n",
              "      <td>Dude they dont finish enclosing the fucking s...</td>\n",
              "      <td>other_cyberbullying</td>\n",
              "    </tr>\n",
              "    <tr>\n",
              "      <th>4</th>\n",
              "      <td>WTF are you talking about Men? No men thats n...</td>\n",
              "      <td>other_cyberbullying</td>\n",
              "    </tr>\n",
              "    <tr>\n",
              "      <th>...</th>\n",
              "      <td>...</td>\n",
              "      <td>...</td>\n",
              "    </tr>\n",
              "    <tr>\n",
              "      <th>330711</th>\n",
              "      <td>my bad i had nothing to do and w i wanted to s...</td>\n",
              "      <td>other_cyberbullying</td>\n",
              "    </tr>\n",
              "    <tr>\n",
              "      <th>330712</th>\n",
              "      <td>simpleton comment regarding a stupid opinion p...</td>\n",
              "      <td>other_cyberbullying</td>\n",
              "    </tr>\n",
              "    <tr>\n",
              "      <th>330713</th>\n",
              "      <td>I was wondering - what kind of a nut case does...</td>\n",
              "      <td>other_cyberbullying</td>\n",
              "    </tr>\n",
              "    <tr>\n",
              "      <th>330714</th>\n",
              "      <td>there would be returning co champs in chuck f...</td>\n",
              "      <td>other_cyberbullying</td>\n",
              "    </tr>\n",
              "    <tr>\n",
              "      <th>330715</th>\n",
              "      <td>jane margaret truesdell american journalist ja...</td>\n",
              "      <td>other_cyberbullying</td>\n",
              "    </tr>\n",
              "  </tbody>\n",
              "</table>\n",
              "<p>330716 rows × 2 columns</p>\n",
              "</div>\n",
              "    <div class=\"colab-df-buttons\">\n",
              "\n",
              "  <div class=\"colab-df-container\">\n",
              "    <button class=\"colab-df-convert\" onclick=\"convertToInteractive('df-21b86923-f3e3-44d0-935f-3fdbdf21b510')\"\n",
              "            title=\"Convert this dataframe to an interactive table.\"\n",
              "            style=\"display:none;\">\n",
              "\n",
              "  <svg xmlns=\"http://www.w3.org/2000/svg\" height=\"24px\" viewBox=\"0 -960 960 960\">\n",
              "    <path d=\"M120-120v-720h720v720H120Zm60-500h600v-160H180v160Zm220 220h160v-160H400v160Zm0 220h160v-160H400v160ZM180-400h160v-160H180v160Zm440 0h160v-160H620v160ZM180-180h160v-160H180v160Zm440 0h160v-160H620v160Z\"/>\n",
              "  </svg>\n",
              "    </button>\n",
              "\n",
              "  <style>\n",
              "    .colab-df-container {\n",
              "      display:flex;\n",
              "      gap: 12px;\n",
              "    }\n",
              "\n",
              "    .colab-df-convert {\n",
              "      background-color: #E8F0FE;\n",
              "      border: none;\n",
              "      border-radius: 50%;\n",
              "      cursor: pointer;\n",
              "      display: none;\n",
              "      fill: #1967D2;\n",
              "      height: 32px;\n",
              "      padding: 0 0 0 0;\n",
              "      width: 32px;\n",
              "    }\n",
              "\n",
              "    .colab-df-convert:hover {\n",
              "      background-color: #E2EBFA;\n",
              "      box-shadow: 0px 1px 2px rgba(60, 64, 67, 0.3), 0px 1px 3px 1px rgba(60, 64, 67, 0.15);\n",
              "      fill: #174EA6;\n",
              "    }\n",
              "\n",
              "    .colab-df-buttons div {\n",
              "      margin-bottom: 4px;\n",
              "    }\n",
              "\n",
              "    [theme=dark] .colab-df-convert {\n",
              "      background-color: #3B4455;\n",
              "      fill: #D2E3FC;\n",
              "    }\n",
              "\n",
              "    [theme=dark] .colab-df-convert:hover {\n",
              "      background-color: #434B5C;\n",
              "      box-shadow: 0px 1px 3px 1px rgba(0, 0, 0, 0.15);\n",
              "      filter: drop-shadow(0px 1px 2px rgba(0, 0, 0, 0.3));\n",
              "      fill: #FFFFFF;\n",
              "    }\n",
              "  </style>\n",
              "\n",
              "    <script>\n",
              "      const buttonEl =\n",
              "        document.querySelector('#df-21b86923-f3e3-44d0-935f-3fdbdf21b510 button.colab-df-convert');\n",
              "      buttonEl.style.display =\n",
              "        google.colab.kernel.accessAllowed ? 'block' : 'none';\n",
              "\n",
              "      async function convertToInteractive(key) {\n",
              "        const element = document.querySelector('#df-21b86923-f3e3-44d0-935f-3fdbdf21b510');\n",
              "        const dataTable =\n",
              "          await google.colab.kernel.invokeFunction('convertToInteractive',\n",
              "                                                    [key], {});\n",
              "        if (!dataTable) return;\n",
              "\n",
              "        const docLinkHtml = 'Like what you see? Visit the ' +\n",
              "          '<a target=\"_blank\" href=https://colab.research.google.com/notebooks/data_table.ipynb>data table notebook</a>'\n",
              "          + ' to learn more about interactive tables.';\n",
              "        element.innerHTML = '';\n",
              "        dataTable['output_type'] = 'display_data';\n",
              "        await google.colab.output.renderOutput(dataTable, element);\n",
              "        const docLink = document.createElement('div');\n",
              "        docLink.innerHTML = docLinkHtml;\n",
              "        element.appendChild(docLink);\n",
              "      }\n",
              "    </script>\n",
              "  </div>\n",
              "\n",
              "\n",
              "<div id=\"df-35394472-8c7a-433c-8ac2-729d55a0e38e\">\n",
              "  <button class=\"colab-df-quickchart\" onclick=\"quickchart('df-35394472-8c7a-433c-8ac2-729d55a0e38e')\"\n",
              "            title=\"Suggest charts\"\n",
              "            style=\"display:none;\">\n",
              "\n",
              "<svg xmlns=\"http://www.w3.org/2000/svg\" height=\"24px\"viewBox=\"0 0 24 24\"\n",
              "     width=\"24px\">\n",
              "    <g>\n",
              "        <path d=\"M19 3H5c-1.1 0-2 .9-2 2v14c0 1.1.9 2 2 2h14c1.1 0 2-.9 2-2V5c0-1.1-.9-2-2-2zM9 17H7v-7h2v7zm4 0h-2V7h2v10zm4 0h-2v-4h2v4z\"/>\n",
              "    </g>\n",
              "</svg>\n",
              "  </button>\n",
              "\n",
              "<style>\n",
              "  .colab-df-quickchart {\n",
              "      --bg-color: #E8F0FE;\n",
              "      --fill-color: #1967D2;\n",
              "      --hover-bg-color: #E2EBFA;\n",
              "      --hover-fill-color: #174EA6;\n",
              "      --disabled-fill-color: #AAA;\n",
              "      --disabled-bg-color: #DDD;\n",
              "  }\n",
              "\n",
              "  [theme=dark] .colab-df-quickchart {\n",
              "      --bg-color: #3B4455;\n",
              "      --fill-color: #D2E3FC;\n",
              "      --hover-bg-color: #434B5C;\n",
              "      --hover-fill-color: #FFFFFF;\n",
              "      --disabled-bg-color: #3B4455;\n",
              "      --disabled-fill-color: #666;\n",
              "  }\n",
              "\n",
              "  .colab-df-quickchart {\n",
              "    background-color: var(--bg-color);\n",
              "    border: none;\n",
              "    border-radius: 50%;\n",
              "    cursor: pointer;\n",
              "    display: none;\n",
              "    fill: var(--fill-color);\n",
              "    height: 32px;\n",
              "    padding: 0;\n",
              "    width: 32px;\n",
              "  }\n",
              "\n",
              "  .colab-df-quickchart:hover {\n",
              "    background-color: var(--hover-bg-color);\n",
              "    box-shadow: 0 1px 2px rgba(60, 64, 67, 0.3), 0 1px 3px 1px rgba(60, 64, 67, 0.15);\n",
              "    fill: var(--button-hover-fill-color);\n",
              "  }\n",
              "\n",
              "  .colab-df-quickchart-complete:disabled,\n",
              "  .colab-df-quickchart-complete:disabled:hover {\n",
              "    background-color: var(--disabled-bg-color);\n",
              "    fill: var(--disabled-fill-color);\n",
              "    box-shadow: none;\n",
              "  }\n",
              "\n",
              "  .colab-df-spinner {\n",
              "    border: 2px solid var(--fill-color);\n",
              "    border-color: transparent;\n",
              "    border-bottom-color: var(--fill-color);\n",
              "    animation:\n",
              "      spin 1s steps(1) infinite;\n",
              "  }\n",
              "\n",
              "  @keyframes spin {\n",
              "    0% {\n",
              "      border-color: transparent;\n",
              "      border-bottom-color: var(--fill-color);\n",
              "      border-left-color: var(--fill-color);\n",
              "    }\n",
              "    20% {\n",
              "      border-color: transparent;\n",
              "      border-left-color: var(--fill-color);\n",
              "      border-top-color: var(--fill-color);\n",
              "    }\n",
              "    30% {\n",
              "      border-color: transparent;\n",
              "      border-left-color: var(--fill-color);\n",
              "      border-top-color: var(--fill-color);\n",
              "      border-right-color: var(--fill-color);\n",
              "    }\n",
              "    40% {\n",
              "      border-color: transparent;\n",
              "      border-right-color: var(--fill-color);\n",
              "      border-top-color: var(--fill-color);\n",
              "    }\n",
              "    60% {\n",
              "      border-color: transparent;\n",
              "      border-right-color: var(--fill-color);\n",
              "    }\n",
              "    80% {\n",
              "      border-color: transparent;\n",
              "      border-right-color: var(--fill-color);\n",
              "      border-bottom-color: var(--fill-color);\n",
              "    }\n",
              "    90% {\n",
              "      border-color: transparent;\n",
              "      border-bottom-color: var(--fill-color);\n",
              "    }\n",
              "  }\n",
              "</style>\n",
              "\n",
              "  <script>\n",
              "    async function quickchart(key) {\n",
              "      const quickchartButtonEl =\n",
              "        document.querySelector('#' + key + ' button');\n",
              "      quickchartButtonEl.disabled = true;  // To prevent multiple clicks.\n",
              "      quickchartButtonEl.classList.add('colab-df-spinner');\n",
              "      try {\n",
              "        const charts = await google.colab.kernel.invokeFunction(\n",
              "            'suggestCharts', [key], {});\n",
              "      } catch (error) {\n",
              "        console.error('Error during call to suggestCharts:', error);\n",
              "      }\n",
              "      quickchartButtonEl.classList.remove('colab-df-spinner');\n",
              "      quickchartButtonEl.classList.add('colab-df-quickchart-complete');\n",
              "    }\n",
              "    (() => {\n",
              "      let quickchartButtonEl =\n",
              "        document.querySelector('#df-35394472-8c7a-433c-8ac2-729d55a0e38e button');\n",
              "      quickchartButtonEl.style.display =\n",
              "        google.colab.kernel.accessAllowed ? 'block' : 'none';\n",
              "    })();\n",
              "  </script>\n",
              "</div>\n",
              "\n",
              "  <div id=\"id_5af76927-7b4c-44bc-bcd4-dfadace83e4d\">\n",
              "    <style>\n",
              "      .colab-df-generate {\n",
              "        background-color: #E8F0FE;\n",
              "        border: none;\n",
              "        border-radius: 50%;\n",
              "        cursor: pointer;\n",
              "        display: none;\n",
              "        fill: #1967D2;\n",
              "        height: 32px;\n",
              "        padding: 0 0 0 0;\n",
              "        width: 32px;\n",
              "      }\n",
              "\n",
              "      .colab-df-generate:hover {\n",
              "        background-color: #E2EBFA;\n",
              "        box-shadow: 0px 1px 2px rgba(60, 64, 67, 0.3), 0px 1px 3px 1px rgba(60, 64, 67, 0.15);\n",
              "        fill: #174EA6;\n",
              "      }\n",
              "\n",
              "      [theme=dark] .colab-df-generate {\n",
              "        background-color: #3B4455;\n",
              "        fill: #D2E3FC;\n",
              "      }\n",
              "\n",
              "      [theme=dark] .colab-df-generate:hover {\n",
              "        background-color: #434B5C;\n",
              "        box-shadow: 0px 1px 3px 1px rgba(0, 0, 0, 0.15);\n",
              "        filter: drop-shadow(0px 1px 2px rgba(0, 0, 0, 0.3));\n",
              "        fill: #FFFFFF;\n",
              "      }\n",
              "    </style>\n",
              "    <button class=\"colab-df-generate\" onclick=\"generateWithVariable('df')\"\n",
              "            title=\"Generate code using this dataframe.\"\n",
              "            style=\"display:none;\">\n",
              "\n",
              "  <svg xmlns=\"http://www.w3.org/2000/svg\" height=\"24px\"viewBox=\"0 0 24 24\"\n",
              "       width=\"24px\">\n",
              "    <path d=\"M7,19H8.4L18.45,9,17,7.55,7,17.6ZM5,21V16.75L18.45,3.32a2,2,0,0,1,2.83,0l1.4,1.43a1.91,1.91,0,0,1,.58,1.4,1.91,1.91,0,0,1-.58,1.4L9.25,21ZM18.45,9,17,7.55Zm-12,3A5.31,5.31,0,0,0,4.9,8.1,5.31,5.31,0,0,0,1,6.5,5.31,5.31,0,0,0,4.9,4.9,5.31,5.31,0,0,0,6.5,1,5.31,5.31,0,0,0,8.1,4.9,5.31,5.31,0,0,0,12,6.5,5.46,5.46,0,0,0,6.5,12Z\"/>\n",
              "  </svg>\n",
              "    </button>\n",
              "    <script>\n",
              "      (() => {\n",
              "      const buttonEl =\n",
              "        document.querySelector('#id_5af76927-7b4c-44bc-bcd4-dfadace83e4d button.colab-df-generate');\n",
              "      buttonEl.style.display =\n",
              "        google.colab.kernel.accessAllowed ? 'block' : 'none';\n",
              "\n",
              "      buttonEl.onclick = () => {\n",
              "        google.colab.notebook.generateWithVariable('df');\n",
              "      }\n",
              "      })();\n",
              "    </script>\n",
              "  </div>\n",
              "\n",
              "    </div>\n",
              "  </div>\n"
            ],
            "application/vnd.google.colaboratory.intrinsic+json": {
              "type": "dataframe",
              "variable_name": "df"
            }
          },
          "metadata": {},
          "execution_count": 194
        }
      ],
      "source": [
        "df"
      ]
    },
    {
      "cell_type": "code",
      "source": [
        "unique_values = df['cyberbullying_type'].unique()\n",
        "print(\"Unique values in 'cyberbullying_type' column:\")\n",
        "print(unique_values)"
      ],
      "metadata": {
        "colab": {
          "base_uri": "https://localhost:8080/"
        },
        "id": "Sl2BvkoiIo_P",
        "outputId": "c7d31c8e-3740-4e82-d8fc-9a3b0b5a13da"
      },
      "execution_count": null,
      "outputs": [
        {
          "output_type": "stream",
          "name": "stdout",
          "text": [
            "Unique values in 'cyberbullying_type' column:\n",
            "['other_cyberbullying' 'not_cyberbullying' 'gender' 'religion' 'age'\n",
            " 'ethnicity']\n"
          ]
        }
      ]
    },
    {
      "cell_type": "markdown",
      "metadata": {
        "id": "ymCdUM9RCKXH"
      },
      "source": [
        "# Preprocessing startes"
      ]
    },
    {
      "cell_type": "markdown",
      "metadata": {
        "id": "_AuXsekXCFV3"
      },
      "source": [
        "Converting into Lower Case\n"
      ]
    },
    {
      "cell_type": "code",
      "execution_count": null,
      "metadata": {
        "colab": {
          "base_uri": "https://localhost:8080/"
        },
        "id": "Prpy7Of0CPKj",
        "outputId": "263bb53a-90de-4d08-f7d2-da6e9a4b9737"
      },
      "outputs": [
        {
          "output_type": "stream",
          "name": "stdout",
          "text": [
            "                                          tweet_text   cyberbullying_type\n",
            "0                             get fucking real dude.  other_cyberbullying\n",
            "1   she is as dirty as they come  and that crook ...  other_cyberbullying\n",
            "2   why did you fuck it up. i could do it all day...  other_cyberbullying\n",
            "3   dude they dont finish enclosing the fucking s...  other_cyberbullying\n",
            "4   wtf are you talking about men? no men thats n...  other_cyberbullying\n"
          ]
        }
      ],
      "source": [
        "# Convert the 'tweet_text' column to lowercase (assuming 'tweet_text' is the column name)\n",
        "df['tweet_text'] = df['tweet_text'].str.lower()\n",
        "\n",
        "# Check the first few rows after conversion\n",
        "print(df.head())"
      ]
    },
    {
      "cell_type": "markdown",
      "metadata": {
        "id": "gcmm060uDdMS"
      },
      "source": [
        "Checking Null Values"
      ]
    },
    {
      "cell_type": "code",
      "execution_count": null,
      "metadata": {
        "colab": {
          "base_uri": "https://localhost:8080/"
        },
        "id": "0gpsBBPBDcyx",
        "outputId": "d57f990e-ee22-4119-aed4-eb2ce4b231b5"
      },
      "outputs": [
        {
          "output_type": "stream",
          "name": "stdout",
          "text": [
            "tweet_text            55\n",
            "cyberbullying_type     0\n",
            "dtype: int64\n"
          ]
        }
      ],
      "source": [
        "# Check for null values in the entire DataFrame\n",
        "null_values = df.isnull().sum()\n",
        "\n",
        "# Display the null values count for each column\n",
        "print(null_values)"
      ]
    },
    {
      "cell_type": "code",
      "execution_count": null,
      "metadata": {
        "colab": {
          "base_uri": "https://localhost:8080/"
        },
        "id": "aMnEsiOcC8E9",
        "outputId": "b8831731-8aaa-458b-df6d-689e8d45ecf5"
      },
      "outputs": [
        {
          "output_type": "stream",
          "name": "stdout",
          "text": [
            "tweet_text            0\n",
            "cyberbullying_type    0\n",
            "dtype: int64\n"
          ]
        }
      ],
      "source": [
        "# Drop rows where any column has null values\n",
        "df_cleaned = df.dropna()\n",
        "\n",
        "# Check if null values are removed\n",
        "print(df_cleaned.isnull().sum())"
      ]
    },
    {
      "cell_type": "markdown",
      "metadata": {
        "id": "_27hXijpD6pL"
      },
      "source": [
        "Checking Duplicate Rows"
      ]
    },
    {
      "cell_type": "code",
      "execution_count": null,
      "metadata": {
        "colab": {
          "base_uri": "https://localhost:8080/"
        },
        "id": "gQypQAD0D5rx",
        "outputId": "259c1c58-259a-4504-d217-3f3fce9af731"
      },
      "outputs": [
        {
          "output_type": "stream",
          "name": "stdout",
          "text": [
            "Number of duplicate rows: 160267\n",
            "                                               tweet_text   cyberbullying_type\n",
            "385                                                #name?  other_cyberbullying\n",
            "441                                                #name?  other_cyberbullying\n",
            "494                                                #name?  other_cyberbullying\n",
            "544                                                #name?  other_cyberbullying\n",
            "793                                            i hate you  other_cyberbullying\n",
            "...                                                   ...                  ...\n",
            "330711  my bad i had nothing to do and w i wanted to s...  other_cyberbullying\n",
            "330712  simpleton comment regarding a stupid opinion p...  other_cyberbullying\n",
            "330713  i was wondering - what kind of a nut case does...  other_cyberbullying\n",
            "330714   there would be returning co champs in chuck f...  other_cyberbullying\n",
            "330715  jane margaret truesdell american journalist ja...  other_cyberbullying\n",
            "\n",
            "[160267 rows x 2 columns]\n"
          ]
        }
      ],
      "source": [
        "# Check for duplicate rows\n",
        "duplicate_rows = df[df.duplicated()]\n",
        "\n",
        "# Display the number of duplicate rows\n",
        "print(f\"Number of duplicate rows: {duplicate_rows.shape[0]}\")\n",
        "\n",
        "# Optionally, display the duplicate rows\n",
        "print(duplicate_rows)"
      ]
    },
    {
      "cell_type": "code",
      "execution_count": null,
      "metadata": {
        "colab": {
          "base_uri": "https://localhost:8080/"
        },
        "id": "G9uz6i9hD-aN",
        "outputId": "3d50254d-c7be-41f9-c6b6-51bc01262ec3"
      },
      "outputs": [
        {
          "output_type": "stream",
          "name": "stdout",
          "text": [
            "Number of rows after removing duplicates: 170449\n"
          ]
        }
      ],
      "source": [
        "# Remove duplicate rows\n",
        "df_cleaned = df.drop_duplicates()\n",
        "\n",
        "# Check the number of rows after removing duplicates\n",
        "print(f\"Number of rows after removing duplicates: {df_cleaned.shape[0]}\")\n"
      ]
    },
    {
      "cell_type": "code",
      "execution_count": null,
      "metadata": {
        "colab": {
          "base_uri": "https://localhost:8080/"
        },
        "id": "KDKQZhEBEIFv",
        "outputId": "328fe7a1-98a1-4400-d444-95b127dfebe0"
      },
      "outputs": [
        {
          "output_type": "stream",
          "name": "stdout",
          "text": [
            "Number of duplicate rows after cleaning: 0\n"
          ]
        }
      ],
      "source": [
        "# Check for duplicate rows again after removal\n",
        "duplicate_rows_after_cleaning = df_cleaned[df_cleaned.duplicated()]\n",
        "\n",
        "# Display the number of duplicate rows after cleaning\n",
        "print(f\"Number of duplicate rows after cleaning: {duplicate_rows_after_cleaning.shape[0]}\")"
      ]
    },
    {
      "cell_type": "markdown",
      "metadata": {
        "id": "z73462rfEhla"
      },
      "source": [
        "Removing Stop words Like \"the\", \"a\", \"an\", \"in\", \"on\", \"at\", \"with\", \"and\", \"but\", \"or\",\"he\", \"she\", \"it\", \"they\",\"is\", \"are\", \"was\", \"were\""
      ]
    },
    {
      "cell_type": "code",
      "execution_count": null,
      "metadata": {
        "colab": {
          "base_uri": "https://localhost:8080/"
        },
        "id": "Glg40R6rEMt2",
        "outputId": "3ef0e05f-e571-447e-de7f-88880ae5f906"
      },
      "outputs": [
        {
          "output_type": "stream",
          "name": "stdout",
          "text": [
            "                                          tweet_text   cyberbullying_type\n",
            "0                             get fucking real dude.  other_cyberbullying\n",
            "1  as dirty as come that crook rengel dems so fuc...  other_cyberbullying\n",
            "2  why did you fuck up. i could do all day too. l...  other_cyberbullying\n",
            "3  dude dont finish enclosing fucking showers. i ...  other_cyberbullying\n",
            "4  wtf you talking about men? no men thats not me...  other_cyberbullying\n"
          ]
        }
      ],
      "source": [
        "# List of stop words to remove\n",
        "stop_words = [\"the\", \"a\", \"an\", \"in\", \"on\", \"at\", \"with\", \"and\", \"but\", \"or\", \"he\", \"she\", \"it\", \"they\", \"is\", \"are\", \"was\", \"were\"]\n",
        "\n",
        "# Create a regex pattern for these stop words\n",
        "stop_words_pattern = r'\\b(?:' + '|'.join(stop_words) + r')\\b'\n",
        "\n",
        "# Remove stop words from 'tweet_text' column using .loc to avoid SettingWithCopyWarning\n",
        "df_cleaned.loc[:, 'tweet_text'] = df_cleaned['tweet_text'].str.replace(stop_words_pattern, '', regex=True)\n",
        "\n",
        "# Remove any extra spaces that may result from removing words\n",
        "df_cleaned.loc[:, 'tweet_text'] = df_cleaned['tweet_text'].str.replace(r'\\s+', ' ', regex=True).str.strip()\n",
        "\n",
        "# Check the first few rows after removing stop words\n",
        "print(df_cleaned.head())"
      ]
    },
    {
      "cell_type": "markdown",
      "metadata": {
        "id": "zFdAX7XXKCMC"
      },
      "source": [
        "Removing URL'S"
      ]
    },
    {
      "cell_type": "code",
      "execution_count": null,
      "metadata": {
        "colab": {
          "base_uri": "https://localhost:8080/"
        },
        "id": "tFW-2D_aEo5Y",
        "outputId": "a19110ad-2fa0-4409-cead-798a6eb77a25"
      },
      "outputs": [
        {
          "output_type": "stream",
          "name": "stdout",
          "text": [
            "Number of URLs present: 7775.0\n"
          ]
        }
      ],
      "source": [
        "# Count the number of URLs in the 'tweet_text' column\n",
        "url_count = df_cleaned['tweet_text'].str.count(r'http[s]?://\\S+|www\\.\\S+').sum()\n",
        "\n",
        "print(f\"Number of URLs present: {url_count}\")"
      ]
    },
    {
      "cell_type": "code",
      "execution_count": null,
      "metadata": {
        "colab": {
          "base_uri": "https://localhost:8080/"
        },
        "id": "M3YHxyHkKFKT",
        "outputId": "5fc9a9e0-ad1a-4204-96e7-402714a172cb"
      },
      "outputs": [
        {
          "output_type": "stream",
          "name": "stdout",
          "text": [
            "                                          tweet_text   cyberbullying_type\n",
            "0                             get fucking real dude.  other_cyberbullying\n",
            "1  as dirty as come that crook rengel dems so fuc...  other_cyberbullying\n",
            "2  why did you fuck up. i could do all day too. l...  other_cyberbullying\n",
            "3  dude dont finish enclosing fucking showers. i ...  other_cyberbullying\n",
            "4  wtf you talking about men? no men thats not me...  other_cyberbullying\n"
          ]
        }
      ],
      "source": [
        "# Remove URLs from 'tweet_text' column using .loc\n",
        "df_cleaned.loc[:, 'tweet_text'] = df_cleaned['tweet_text'].str.replace(r'http[s]?://\\S+|www\\.\\S+', '', regex=True)\n",
        "\n",
        "# Check the first few rows after removing URLs\n",
        "print(df_cleaned.head())"
      ]
    },
    {
      "cell_type": "code",
      "execution_count": null,
      "metadata": {
        "colab": {
          "base_uri": "https://localhost:8080/"
        },
        "id": "2cvTqpkvKH0G",
        "outputId": "f55ad4fe-49fc-41cf-9d47-6fb2ada2a11b"
      },
      "outputs": [
        {
          "output_type": "stream",
          "name": "stdout",
          "text": [
            "Number of URLs present: 0.0\n"
          ]
        }
      ],
      "source": [
        "# Count the number of URLs in the 'tweet_text' column\n",
        "url_count = df_cleaned['tweet_text'].str.count(r'http[s]?://\\S+|www\\.\\S+').sum()\n",
        "\n",
        "print(f\"Number of URLs present: {url_count}\")"
      ]
    },
    {
      "cell_type": "code",
      "execution_count": null,
      "metadata": {
        "colab": {
          "base_uri": "https://localhost:8080/"
        },
        "id": "MMgxtTa9KdaD",
        "outputId": "9077c583-f4e6-4c87-b9ff-e5c3b81e0fab"
      },
      "outputs": [
        {
          "output_type": "stream",
          "name": "stdout",
          "text": [
            "                                          tweet_text   cyberbullying_type\n",
            "0                             get fucking real dude.  other_cyberbullying\n",
            "1  as dirty as come that crook rengel dems so fuc...  other_cyberbullying\n",
            "2  why did you fuck up. i could do all day too. l...  other_cyberbullying\n",
            "3  dude dont finish enclosing fucking showers. i ...  other_cyberbullying\n",
            "4  wtf you talking about men? no men thats not me...  other_cyberbullying\n"
          ]
        }
      ],
      "source": [
        "# Remove unwanted spaces and clean up the text\n",
        "df_cleaned.loc[:, 'tweet_text'] = df_cleaned['tweet_text'].str.replace(r'\\s+', ' ', regex=True).str.strip()\n",
        "\n",
        "# Check the first few rows after removing URLs and unwanted spaces\n",
        "print(df_cleaned.head())"
      ]
    },
    {
      "cell_type": "code",
      "execution_count": null,
      "metadata": {
        "colab": {
          "base_uri": "https://localhost:8080/"
        },
        "id": "vy3xdTEdKg_f",
        "outputId": "ea0dccc7-edfc-4d4c-ef5c-386827b08651"
      },
      "outputs": [
        {
          "output_type": "stream",
          "name": "stdout",
          "text": [
            "Data saved to /content/drive/MyDrive/Colab Notebooks/modified_dataset_cleaned.csv\n"
          ]
        }
      ],
      "source": [
        "# Define the file path to save the modified dataset\n",
        "output_file_path = '/content/drive/MyDrive/Colab Notebooks/modified_dataset_cleaned.csv'\n",
        "\n",
        "# Save the DataFrame to a CSV file\n",
        "df_cleaned.to_csv(output_file_path, index=False)\n",
        "\n",
        "print(f\"Data saved to {output_file_path}\")"
      ]
    },
    {
      "cell_type": "code",
      "source": [
        "# Print column names\n",
        "print(df.columns)\n"
      ],
      "metadata": {
        "colab": {
          "base_uri": "https://localhost:8080/"
        },
        "id": "_iPqwd7rJCsU",
        "outputId": "f9d6b0ad-8e6f-4d6d-f081-565dbb637296"
      },
      "execution_count": null,
      "outputs": [
        {
          "output_type": "stream",
          "name": "stdout",
          "text": [
            "Index(['tweet_text', 'cyberbullying_type'], dtype='object')\n"
          ]
        }
      ]
    },
    {
      "cell_type": "code",
      "execution_count": null,
      "metadata": {
        "colab": {
          "base_uri": "https://localhost:8080/"
        },
        "id": "d4tWQ6BBx6GM",
        "outputId": "442406c5-759c-4f44-c0eb-83e99b08cc11"
      },
      "outputs": [
        {
          "output_type": "stream",
          "name": "stdout",
          "text": [
            "Unique values in 'cyberbullying_type' column:\n",
            "['other_cyberbullying' 'not_cyberbullying' 'gender' 'religion' 'age'\n",
            " 'ethnicity']\n"
          ]
        }
      ],
      "source": [
        "# Check unique values in the 'cyberbullying_type' column\n",
        "unique_values = df['cyberbullying_type'].unique()\n",
        "print(\"Unique values in 'cyberbullying_type' column:\")\n",
        "print(unique_values)"
      ]
    },
    {
      "cell_type": "code",
      "execution_count": null,
      "metadata": {
        "colab": {
          "base_uri": "https://localhost:8080/"
        },
        "id": "Ko87I-fbyVji",
        "outputId": "d9415294-565b-41c5-d17c-43fcb38d5acb"
      },
      "outputs": [
        {
          "output_type": "stream",
          "name": "stdout",
          "text": [
            "cyberbullying_type\n",
            "other_cyberbullying    290560\n",
            "not_cyberbullying        8498\n",
            "religion                 7992\n",
            "age                      7986\n",
            "gender                   7969\n",
            "ethnicity                7711\n",
            "Name: count, dtype: int64\n"
          ]
        }
      ],
      "source": [
        "print(df['cyberbullying_type'].value_counts())"
      ]
    },
    {
      "cell_type": "code",
      "execution_count": null,
      "metadata": {
        "id": "Joh_9m5WyY8M"
      },
      "outputs": [],
      "source": []
    },
    {
      "cell_type": "markdown",
      "metadata": {
        "id": "cHGRSGamKx8L"
      },
      "source": [
        "# Comparison of Cyberbullying Types"
      ]
    },
    {
      "cell_type": "code",
      "execution_count": null,
      "metadata": {
        "colab": {
          "base_uri": "https://localhost:8080/",
          "height": 607
        },
        "id": "ihaVg3I3K2zS",
        "outputId": "c1fdb143-8401-4607-bfca-7f59c58accc6"
      },
      "outputs": [
        {
          "output_type": "display_data",
          "data": {
            "text/plain": [
              "<Figure size 1000x600 with 1 Axes>"
            ],
            "image/png": "[encoded data removed]"
          },
          "metadata": {}
        }
      ],
      "source": [
        "import matplotlib.pyplot as plt\n",
        "\n",
        "# Count the occurrences of each cyberbullying type\n",
        "cyberbullying_counts = df['cyberbullying_type'].value_counts()\n",
        "\n",
        "# Create a bar plot\n",
        "plt.figure(figsize=(10, 6))\n",
        "cyberbullying_counts.plot(kind='bar', color='skyblue')\n",
        "\n",
        "# Add title and labels\n",
        "plt.title('Comparison of Different Types of Cyberbullying')\n",
        "plt.xlabel('Cyberbullying Types')\n",
        "plt.ylabel('Count')\n",
        "plt.xticks(rotation=45)\n",
        "plt.grid(axis='y')\n",
        "\n",
        "# Show the plot\n",
        "plt.tight_layout()\n",
        "plt.show()"
      ]
    },
    {
      "cell_type": "code",
      "execution_count": null,
      "metadata": {
        "colab": {
          "base_uri": "https://localhost:8080/"
        },
        "id": "szj8zSDaK3i5",
        "outputId": "624ae894-6d8e-4818-9c6d-f54ced487d0a"
      },
      "outputs": [
        {
          "output_type": "stream",
          "name": "stdout",
          "text": [
            "Data saved to /content/drive/MyDrive/Colab Notebooks/modified_dataset_cleaned.csv\n"
          ]
        }
      ],
      "source": [
        "# Define the file path to save the modified dataset\n",
        "output_file_path = '/content/drive/MyDrive/Colab Notebooks/modified_dataset_cleaned.csv'\n",
        "\n",
        "# Save the DataFrame to a CSV file\n",
        "df.to_csv(output_file_path, index=False)\n",
        "\n",
        "print(f\"Data saved to {output_file_path}\")"
      ]
    },
    {
      "cell_type": "code",
      "execution_count": null,
      "metadata": {
        "id": "B9fIUWYfLlLU"
      },
      "outputs": [],
      "source": []
    },
    {
      "cell_type": "markdown",
      "metadata": {
        "id": "qCia9QC6Lzpw"
      },
      "source": [
        "# Data Lemitization Starts"
      ]
    },
    {
      "cell_type": "code",
      "execution_count": null,
      "metadata": {
        "colab": {
          "base_uri": "https://localhost:8080/"
        },
        "id": "If8j1biUL4XX",
        "outputId": "19192e45-5e81-44f0-8faf-a4ee41d7e492"
      },
      "outputs": [
        {
          "output_type": "stream",
          "name": "stdout",
          "text": [
            "Requirement already satisfied: nltk in /usr/local/lib/python3.10/dist-packages (3.9.1)\n",
            "Requirement already satisfied: click in /usr/local/lib/python3.10/dist-packages (from nltk) (8.1.7)\n",
            "Requirement already satisfied: joblib in /usr/local/lib/python3.10/dist-packages (from nltk) (1.4.2)\n",
            "Requirement already satisfied: regex>=2021.8.3 in /usr/local/lib/python3.10/dist-packages (from nltk) (2024.9.11)\n",
            "Requirement already satisfied: tqdm in /usr/local/lib/python3.10/dist-packages (from nltk) (4.66.6)\n"
          ]
        }
      ],
      "source": [
        "!pip install nltk"
      ]
    },
    {
      "cell_type": "code",
      "execution_count": null,
      "metadata": {
        "colab": {
          "base_uri": "https://localhost:8080/"
        },
        "id": "RwVxKnsAL6KQ",
        "outputId": "85c8a4a5-211f-414c-88e6-7dcc79198ec5"
      },
      "outputs": [
        {
          "output_type": "stream",
          "name": "stderr",
          "text": [
            "[nltk_data] Downloading package wordnet to /root/nltk_data...\n",
            "[nltk_data]   Package wordnet is already up-to-date!\n",
            "[nltk_data] Downloading package punkt to /root/nltk_data...\n",
            "[nltk_data]   Package punkt is already up-to-date!\n"
          ]
        },
        {
          "output_type": "execute_result",
          "data": {
            "text/plain": [
              "True"
            ]
          },
          "metadata": {},
          "execution_count": 123
        }
      ],
      "source": [
        "import nltk\n",
        "nltk.download('wordnet')\n",
        "nltk.download('punkt')"
      ]
    },
    {
      "cell_type": "markdown",
      "source": [
        "###### removal of NAN values\n"
      ],
      "metadata": {
        "id": "GpiYSK1KkOud"
      }
    },
    {
      "cell_type": "code",
      "execution_count": null,
      "metadata": {
        "colab": {
          "base_uri": "https://localhost:8080/"
        },
        "id": "EnJEYN5uNhBa",
        "outputId": "02b9b526-7d83-405a-ee20-1d27ab52676c"
      },
      "outputs": [
        {
          "output_type": "stream",
          "name": "stdout",
          "text": [
            "text                    0\n",
            "label                   0\n",
            "tweet_text            522\n",
            "cyberbullying_type      0\n",
            "dtype: int64\n"
          ]
        }
      ],
      "source": [
        "# Fill NaN values in the 'tweet_text' column with an empty string\n",
        "df['text'] = df['text'].fillna('')\n",
        "\n",
        "# Fill NaN values in the 'cyberbullying_type' column with a placeholder 'unknown'\n",
        "df['label'] = df['label'].fillna('unknown')\n",
        "\n",
        "# Verify that NaN values have been handled\n",
        "print(df.isnull().sum())"
      ]
    },
    {
      "cell_type": "code",
      "execution_count": null,
      "metadata": {
        "colab": {
          "base_uri": "https://localhost:8080/"
        },
        "id": "azZbfJlht0QJ",
        "outputId": "fda31398-a58e-4fec-8f0c-46710862c89c"
      },
      "outputs": [
        {
          "output_type": "stream",
          "name": "stdout",
          "text": [
            "Data saved to /content/drive/MyDrive/Colab Notebooks/modified_dataset_cleaned.csv\n"
          ]
        }
      ],
      "source": [
        "# Define the file path to save the modified dataset\n",
        "output_file_path = '/content/drive/MyDrive/Colab Notebooks/modified_dataset_cleaned.csv'\n",
        "\n",
        "# Save the DataFrame to a CSV file\n",
        "df.to_csv(output_file_path, index=False)\n",
        "\n",
        "print(f\"Data saved to {output_file_path}\")"
      ]
    },
    {
      "cell_type": "code",
      "execution_count": null,
      "metadata": {
        "colab": {
          "base_uri": "https://localhost:8080/"
        },
        "id": "T6PZApNP3BNH",
        "outputId": "7e963bb4-cc01-4c25-edb4-b28e0f7d4e14"
      },
      "outputs": [
        {
          "output_type": "stream",
          "name": "stderr",
          "text": [
            "[nltk_data] Downloading package wordnet to /root/nltk_data...\n"
          ]
        },
        {
          "output_type": "execute_result",
          "data": {
            "text/plain": [
              "True"
            ]
          },
          "metadata": {},
          "execution_count": 4
        }
      ],
      "source": [
        "nltk.download('wordnet')"
      ]
    },
    {
      "cell_type": "code",
      "execution_count": null,
      "metadata": {
        "colab": {
          "base_uri": "https://localhost:8080/"
        },
        "id": "IMWBKsc43JEd",
        "outputId": "3271999d-c4d7-4bb1-f25e-bb987fe15340"
      },
      "outputs": [
        {
          "output_type": "stream",
          "name": "stderr",
          "text": [
            "[nltk_data] Downloading package punkt_tab to /root/nltk_data...\n",
            "[nltk_data]   Unzipping tokenizers/punkt_tab.zip.\n"
          ]
        },
        {
          "output_type": "execute_result",
          "data": {
            "text/plain": [
              "True"
            ]
          },
          "metadata": {},
          "execution_count": 5
        }
      ],
      "source": [
        "nltk.download('punkt_tab')"
      ]
    },
    {
      "cell_type": "code",
      "execution_count": null,
      "metadata": {
        "colab": {
          "base_uri": "https://localhost:8080/"
        },
        "id": "vgdvOM53L8Tq",
        "outputId": "91a88ab1-3230-4eb8-e020-8b811212eb33"
      },
      "outputs": [
        {
          "output_type": "stream",
          "name": "stderr",
          "text": [
            "[nltk_data] Downloading package punkt to /root/nltk_data...\n",
            "[nltk_data]   Package punkt is already up-to-date!\n"
          ]
        }
      ],
      "source": [
        "import nltk\n",
        "from nltk.stem import WordNetLemmatizer\n",
        "from nltk.tokenize import word_tokenize\n",
        "\n",
        "# Download required NLTK resources\n",
        "nltk.download('punkt')\n",
        "\n",
        "lemmatizer = WordNetLemmatizer()\n",
        "\n",
        "# Define a function to lemmatize the text\n",
        "def lemmatize_text(text):\n",
        "    words = word_tokenize(text)\n",
        "    lemmatized_words = [lemmatizer.lemmatize(word) for word in words]\n",
        "    return ' '.join(lemmatized_words)\n",
        "\n",
        "# Apply lemmatization to the 'tweet_text' column\n",
        "df['tweet_text'] = df['tweet_text'].apply(lemmatize_text)"
      ]
    },
    {
      "cell_type": "code",
      "execution_count": null,
      "metadata": {
        "colab": {
          "base_uri": "https://localhost:8080/",
          "height": 424
        },
        "id": "nUpnpA6zMQ_k",
        "outputId": "cd7c4807-f096-4db4-a098-59ca277253b6"
      },
      "outputs": [
        {
          "output_type": "execute_result",
          "data": {
            "text/plain": [
              "                                               tweet_text   cyberbullying_type\n",
              "0                                 get fucking real dude .  other_cyberbullying\n",
              "1       she is a dirty a they come and that crook reng...  other_cyberbullying\n",
              "2       why did you fuck it up . i could do it all day...  other_cyberbullying\n",
              "3       dude they dont finish enclosing the fucking sh...  other_cyberbullying\n",
              "4       wtf are you talking about men ? no men thats n...  other_cyberbullying\n",
              "...                                                   ...                  ...\n",
              "330711  my bad i had nothing to do and w i wanted to s...  other_cyberbullying\n",
              "330712  simpleton comment regarding a stupid opinion p...  other_cyberbullying\n",
              "330713  i wa wondering - what kind of a nut case doe c...  other_cyberbullying\n",
              "330714  there would be returning co champ in chuck for...  other_cyberbullying\n",
              "330715  jane margaret truesdell american journalist ja...  other_cyberbullying\n",
              "\n",
              "[330716 rows x 2 columns]"
            ],
            "text/html": [
              "\n",
              "  <div id=\"df-4e98fde6-d061-4007-be9c-d4e8d33e0171\" class=\"colab-df-container\">\n",
              "    <div>\n",
              "<style scoped>\n",
              "    .dataframe tbody tr th:only-of-type {\n",
              "        vertical-align: middle;\n",
              "    }\n",
              "\n",
              "    .dataframe tbody tr th {\n",
              "        vertical-align: top;\n",
              "    }\n",
              "\n",
              "    .dataframe thead th {\n",
              "        text-align: right;\n",
              "    }\n",
              "</style>\n",
              "<table border=\"1\" class=\"dataframe\">\n",
              "  <thead>\n",
              "    <tr style=\"text-align: right;\">\n",
              "      <th></th>\n",
              "      <th>tweet_text</th>\n",
              "      <th>cyberbullying_type</th>\n",
              "    </tr>\n",
              "  </thead>\n",
              "  <tbody>\n",
              "    <tr>\n",
              "      <th>0</th>\n",
              "      <td>get fucking real dude .</td>\n",
              "      <td>other_cyberbullying</td>\n",
              "    </tr>\n",
              "    <tr>\n",
              "      <th>1</th>\n",
              "      <td>she is a dirty a they come and that crook reng...</td>\n",
              "      <td>other_cyberbullying</td>\n",
              "    </tr>\n",
              "    <tr>\n",
              "      <th>2</th>\n",
              "      <td>why did you fuck it up . i could do it all day...</td>\n",
              "      <td>other_cyberbullying</td>\n",
              "    </tr>\n",
              "    <tr>\n",
              "      <th>3</th>\n",
              "      <td>dude they dont finish enclosing the fucking sh...</td>\n",
              "      <td>other_cyberbullying</td>\n",
              "    </tr>\n",
              "    <tr>\n",
              "      <th>4</th>\n",
              "      <td>wtf are you talking about men ? no men thats n...</td>\n",
              "      <td>other_cyberbullying</td>\n",
              "    </tr>\n",
              "    <tr>\n",
              "      <th>...</th>\n",
              "      <td>...</td>\n",
              "      <td>...</td>\n",
              "    </tr>\n",
              "    <tr>\n",
              "      <th>330711</th>\n",
              "      <td>my bad i had nothing to do and w i wanted to s...</td>\n",
              "      <td>other_cyberbullying</td>\n",
              "    </tr>\n",
              "    <tr>\n",
              "      <th>330712</th>\n",
              "      <td>simpleton comment regarding a stupid opinion p...</td>\n",
              "      <td>other_cyberbullying</td>\n",
              "    </tr>\n",
              "    <tr>\n",
              "      <th>330713</th>\n",
              "      <td>i wa wondering - what kind of a nut case doe c...</td>\n",
              "      <td>other_cyberbullying</td>\n",
              "    </tr>\n",
              "    <tr>\n",
              "      <th>330714</th>\n",
              "      <td>there would be returning co champ in chuck for...</td>\n",
              "      <td>other_cyberbullying</td>\n",
              "    </tr>\n",
              "    <tr>\n",
              "      <th>330715</th>\n",
              "      <td>jane margaret truesdell american journalist ja...</td>\n",
              "      <td>other_cyberbullying</td>\n",
              "    </tr>\n",
              "  </tbody>\n",
              "</table>\n",
              "<p>330716 rows × 2 columns</p>\n",
              "</div>\n",
              "    <div class=\"colab-df-buttons\">\n",
              "\n",
              "  <div class=\"colab-df-container\">\n",
              "    <button class=\"colab-df-convert\" onclick=\"convertToInteractive('df-4e98fde6-d061-4007-be9c-d4e8d33e0171')\"\n",
              "            title=\"Convert this dataframe to an interactive table.\"\n",
              "            style=\"display:none;\">\n",
              "\n",
              "  <svg xmlns=\"http://www.w3.org/2000/svg\" height=\"24px\" viewBox=\"0 -960 960 960\">\n",
              "    <path d=\"M120-120v-720h720v720H120Zm60-500h600v-160H180v160Zm220 220h160v-160H400v160Zm0 220h160v-160H400v160ZM180-400h160v-160H180v160Zm440 0h160v-160H620v160ZM180-180h160v-160H180v160Zm440 0h160v-160H620v160Z\"/>\n",
              "  </svg>\n",
              "    </button>\n",
              "\n",
              "  <style>\n",
              "    .colab-df-container {\n",
              "      display:flex;\n",
              "      gap: 12px;\n",
              "    }\n",
              "\n",
              "    .colab-df-convert {\n",
              "      background-color: #E8F0FE;\n",
              "      border: none;\n",
              "      border-radius: 50%;\n",
              "      cursor: pointer;\n",
              "      display: none;\n",
              "      fill: #1967D2;\n",
              "      height: 32px;\n",
              "      padding: 0 0 0 0;\n",
              "      width: 32px;\n",
              "    }\n",
              "\n",
              "    .colab-df-convert:hover {\n",
              "      background-color: #E2EBFA;\n",
              "      box-shadow: 0px 1px 2px rgba(60, 64, 67, 0.3), 0px 1px 3px 1px rgba(60, 64, 67, 0.15);\n",
              "      fill: #174EA6;\n",
              "    }\n",
              "\n",
              "    .colab-df-buttons div {\n",
              "      margin-bottom: 4px;\n",
              "    }\n",
              "\n",
              "    [theme=dark] .colab-df-convert {\n",
              "      background-color: #3B4455;\n",
              "      fill: #D2E3FC;\n",
              "    }\n",
              "\n",
              "    [theme=dark] .colab-df-convert:hover {\n",
              "      background-color: #434B5C;\n",
              "      box-shadow: 0px 1px 3px 1px rgba(0, 0, 0, 0.15);\n",
              "      filter: drop-shadow(0px 1px 2px rgba(0, 0, 0, 0.3));\n",
              "      fill: #FFFFFF;\n",
              "    }\n",
              "  </style>\n",
              "\n",
              "    <script>\n",
              "      const buttonEl =\n",
              "        document.querySelector('#df-4e98fde6-d061-4007-be9c-d4e8d33e0171 button.colab-df-convert');\n",
              "      buttonEl.style.display =\n",
              "        google.colab.kernel.accessAllowed ? 'block' : 'none';\n",
              "\n",
              "      async function convertToInteractive(key) {\n",
              "        const element = document.querySelector('#df-4e98fde6-d061-4007-be9c-d4e8d33e0171');\n",
              "        const dataTable =\n",
              "          await google.colab.kernel.invokeFunction('convertToInteractive',\n",
              "                                                    [key], {});\n",
              "        if (!dataTable) return;\n",
              "\n",
              "        const docLinkHtml = 'Like what you see? Visit the ' +\n",
              "          '<a target=\"_blank\" href=https://colab.research.google.com/notebooks/data_table.ipynb>data table notebook</a>'\n",
              "          + ' to learn more about interactive tables.';\n",
              "        element.innerHTML = '';\n",
              "        dataTable['output_type'] = 'display_data';\n",
              "        await google.colab.output.renderOutput(dataTable, element);\n",
              "        const docLink = document.createElement('div');\n",
              "        docLink.innerHTML = docLinkHtml;\n",
              "        element.appendChild(docLink);\n",
              "      }\n",
              "    </script>\n",
              "  </div>\n",
              "\n",
              "\n",
              "<div id=\"df-a71dae6b-e6c4-4166-ae23-c2bc4d7cf1b5\">\n",
              "  <button class=\"colab-df-quickchart\" onclick=\"quickchart('df-a71dae6b-e6c4-4166-ae23-c2bc4d7cf1b5')\"\n",
              "            title=\"Suggest charts\"\n",
              "            style=\"display:none;\">\n",
              "\n",
              "<svg xmlns=\"http://www.w3.org/2000/svg\" height=\"24px\"viewBox=\"0 0 24 24\"\n",
              "     width=\"24px\">\n",
              "    <g>\n",
              "        <path d=\"M19 3H5c-1.1 0-2 .9-2 2v14c0 1.1.9 2 2 2h14c1.1 0 2-.9 2-2V5c0-1.1-.9-2-2-2zM9 17H7v-7h2v7zm4 0h-2V7h2v10zm4 0h-2v-4h2v4z\"/>\n",
              "    </g>\n",
              "</svg>\n",
              "  </button>\n",
              "\n",
              "<style>\n",
              "  .colab-df-quickchart {\n",
              "      --bg-color: #E8F0FE;\n",
              "      --fill-color: #1967D2;\n",
              "      --hover-bg-color: #E2EBFA;\n",
              "      --hover-fill-color: #174EA6;\n",
              "      --disabled-fill-color: #AAA;\n",
              "      --disabled-bg-color: #DDD;\n",
              "  }\n",
              "\n",
              "  [theme=dark] .colab-df-quickchart {\n",
              "      --bg-color: #3B4455;\n",
              "      --fill-color: #D2E3FC;\n",
              "      --hover-bg-color: #434B5C;\n",
              "      --hover-fill-color: #FFFFFF;\n",
              "      --disabled-bg-color: #3B4455;\n",
              "      --disabled-fill-color: #666;\n",
              "  }\n",
              "\n",
              "  .colab-df-quickchart {\n",
              "    background-color: var(--bg-color);\n",
              "    border: none;\n",
              "    border-radius: 50%;\n",
              "    cursor: pointer;\n",
              "    display: none;\n",
              "    fill: var(--fill-color);\n",
              "    height: 32px;\n",
              "    padding: 0;\n",
              "    width: 32px;\n",
              "  }\n",
              "\n",
              "  .colab-df-quickchart:hover {\n",
              "    background-color: var(--hover-bg-color);\n",
              "    box-shadow: 0 1px 2px rgba(60, 64, 67, 0.3), 0 1px 3px 1px rgba(60, 64, 67, 0.15);\n",
              "    fill: var(--button-hover-fill-color);\n",
              "  }\n",
              "\n",
              "  .colab-df-quickchart-complete:disabled,\n",
              "  .colab-df-quickchart-complete:disabled:hover {\n",
              "    background-color: var(--disabled-bg-color);\n",
              "    fill: var(--disabled-fill-color);\n",
              "    box-shadow: none;\n",
              "  }\n",
              "\n",
              "  .colab-df-spinner {\n",
              "    border: 2px solid var(--fill-color);\n",
              "    border-color: transparent;\n",
              "    border-bottom-color: var(--fill-color);\n",
              "    animation:\n",
              "      spin 1s steps(1) infinite;\n",
              "  }\n",
              "\n",
              "  @keyframes spin {\n",
              "    0% {\n",
              "      border-color: transparent;\n",
              "      border-bottom-color: var(--fill-color);\n",
              "      border-left-color: var(--fill-color);\n",
              "    }\n",
              "    20% {\n",
              "      border-color: transparent;\n",
              "      border-left-color: var(--fill-color);\n",
              "      border-top-color: var(--fill-color);\n",
              "    }\n",
              "    30% {\n",
              "      border-color: transparent;\n",
              "      border-left-color: var(--fill-color);\n",
              "      border-top-color: var(--fill-color);\n",
              "      border-right-color: var(--fill-color);\n",
              "    }\n",
              "    40% {\n",
              "      border-color: transparent;\n",
              "      border-right-color: var(--fill-color);\n",
              "      border-top-color: var(--fill-color);\n",
              "    }\n",
              "    60% {\n",
              "      border-color: transparent;\n",
              "      border-right-color: var(--fill-color);\n",
              "    }\n",
              "    80% {\n",
              "      border-color: transparent;\n",
              "      border-right-color: var(--fill-color);\n",
              "      border-bottom-color: var(--fill-color);\n",
              "    }\n",
              "    90% {\n",
              "      border-color: transparent;\n",
              "      border-bottom-color: var(--fill-color);\n",
              "    }\n",
              "  }\n",
              "</style>\n",
              "\n",
              "  <script>\n",
              "    async function quickchart(key) {\n",
              "      const quickchartButtonEl =\n",
              "        document.querySelector('#' + key + ' button');\n",
              "      quickchartButtonEl.disabled = true;  // To prevent multiple clicks.\n",
              "      quickchartButtonEl.classList.add('colab-df-spinner');\n",
              "      try {\n",
              "        const charts = await google.colab.kernel.invokeFunction(\n",
              "            'suggestCharts', [key], {});\n",
              "      } catch (error) {\n",
              "        console.error('Error during call to suggestCharts:', error);\n",
              "      }\n",
              "      quickchartButtonEl.classList.remove('colab-df-spinner');\n",
              "      quickchartButtonEl.classList.add('colab-df-quickchart-complete');\n",
              "    }\n",
              "    (() => {\n",
              "      let quickchartButtonEl =\n",
              "        document.querySelector('#df-a71dae6b-e6c4-4166-ae23-c2bc4d7cf1b5 button');\n",
              "      quickchartButtonEl.style.display =\n",
              "        google.colab.kernel.accessAllowed ? 'block' : 'none';\n",
              "    })();\n",
              "  </script>\n",
              "</div>\n",
              "\n",
              "  <div id=\"id_1ce82f63-0e6b-4fc0-8a40-4bd3ab8aec1f\">\n",
              "    <style>\n",
              "      .colab-df-generate {\n",
              "        background-color: #E8F0FE;\n",
              "        border: none;\n",
              "        border-radius: 50%;\n",
              "        cursor: pointer;\n",
              "        display: none;\n",
              "        fill: #1967D2;\n",
              "        height: 32px;\n",
              "        padding: 0 0 0 0;\n",
              "        width: 32px;\n",
              "      }\n",
              "\n",
              "      .colab-df-generate:hover {\n",
              "        background-color: #E2EBFA;\n",
              "        box-shadow: 0px 1px 2px rgba(60, 64, 67, 0.3), 0px 1px 3px 1px rgba(60, 64, 67, 0.15);\n",
              "        fill: #174EA6;\n",
              "      }\n",
              "\n",
              "      [theme=dark] .colab-df-generate {\n",
              "        background-color: #3B4455;\n",
              "        fill: #D2E3FC;\n",
              "      }\n",
              "\n",
              "      [theme=dark] .colab-df-generate:hover {\n",
              "        background-color: #434B5C;\n",
              "        box-shadow: 0px 1px 3px 1px rgba(0, 0, 0, 0.15);\n",
              "        filter: drop-shadow(0px 1px 2px rgba(0, 0, 0, 0.3));\n",
              "        fill: #FFFFFF;\n",
              "      }\n",
              "    </style>\n",
              "    <button class=\"colab-df-generate\" onclick=\"generateWithVariable('df')\"\n",
              "            title=\"Generate code using this dataframe.\"\n",
              "            style=\"display:none;\">\n",
              "\n",
              "  <svg xmlns=\"http://www.w3.org/2000/svg\" height=\"24px\"viewBox=\"0 0 24 24\"\n",
              "       width=\"24px\">\n",
              "    <path d=\"M7,19H8.4L18.45,9,17,7.55,7,17.6ZM5,21V16.75L18.45,3.32a2,2,0,0,1,2.83,0l1.4,1.43a1.91,1.91,0,0,1,.58,1.4,1.91,1.91,0,0,1-.58,1.4L9.25,21ZM18.45,9,17,7.55Zm-12,3A5.31,5.31,0,0,0,4.9,8.1,5.31,5.31,0,0,0,1,6.5,5.31,5.31,0,0,0,4.9,4.9,5.31,5.31,0,0,0,6.5,1,5.31,5.31,0,0,0,8.1,4.9,5.31,5.31,0,0,0,12,6.5,5.46,5.46,0,0,0,6.5,12Z\"/>\n",
              "  </svg>\n",
              "    </button>\n",
              "    <script>\n",
              "      (() => {\n",
              "      const buttonEl =\n",
              "        document.querySelector('#id_1ce82f63-0e6b-4fc0-8a40-4bd3ab8aec1f button.colab-df-generate');\n",
              "      buttonEl.style.display =\n",
              "        google.colab.kernel.accessAllowed ? 'block' : 'none';\n",
              "\n",
              "      buttonEl.onclick = () => {\n",
              "        google.colab.notebook.generateWithVariable('df');\n",
              "      }\n",
              "      })();\n",
              "    </script>\n",
              "  </div>\n",
              "\n",
              "    </div>\n",
              "  </div>\n"
            ],
            "application/vnd.google.colaboratory.intrinsic+json": {
              "type": "dataframe",
              "variable_name": "df"
            }
          },
          "metadata": {},
          "execution_count": 10
        }
      ],
      "source": [
        "df"
      ]
    },
    {
      "cell_type": "code",
      "execution_count": null,
      "metadata": {
        "colab": {
          "base_uri": "https://localhost:8080/"
        },
        "id": "3bFQoamrNqnc",
        "outputId": "9744089c-1c17-4408-8075-282bf4a351b6"
      },
      "outputs": [
        {
          "output_type": "stream",
          "name": "stdout",
          "text": [
            "Data saved to /content/drive/MyDrive/Colab Notebooks/modified_dataset_cleaned.csv\n"
          ]
        }
      ],
      "source": [
        "# Define the file path to save the modified dataset\n",
        "output_file_path = '/content/drive/MyDrive/Colab Notebooks/modified_dataset_cleaned.csv'\n",
        "\n",
        "# Save the DataFrame to a CSV file\n",
        "df.to_csv(output_file_path, index=False)\n",
        "\n",
        "print(f\"Data saved to {output_file_path}\")"
      ]
    },
    {
      "cell_type": "markdown",
      "metadata": {
        "id": "IfkBcwm7OEI1"
      },
      "source": [
        "# Tokenization Starts"
      ]
    },
    {
      "cell_type": "code",
      "execution_count": null,
      "metadata": {
        "colab": {
          "base_uri": "https://localhost:8080/"
        },
        "id": "jBQ4AWZNOHZu",
        "outputId": "9f64b6df-a864-47d7-d7ea-66f007f0e815"
      },
      "outputs": [
        {
          "output_type": "stream",
          "name": "stderr",
          "text": [
            "[nltk_data] Downloading package punkt to /root/nltk_data...\n",
            "[nltk_data]   Package punkt is already up-to-date!\n"
          ]
        },
        {
          "output_type": "stream",
          "name": "stdout",
          "text": [
            "                                          tweet_text  \\\n",
            "0                            get fucking real dude .   \n",
            "1  she is a dirty a they come and that crook reng...   \n",
            "2  why did you fuck it up . i could do it all day...   \n",
            "3  dude they dont finish enclosing the fucking sh...   \n",
            "4  wtf are you talking about men ? no men thats n...   \n",
            "\n",
            "                                              tokens  \n",
            "0                      [get, fucking, real, dude, .]  \n",
            "1  [she, is, a, dirty, a, they, come, and, that, ...  \n",
            "2  [why, did, you, fuck, it, up, ., i, could, do,...  \n",
            "3  [dude, they, dont, finish, enclosing, the, fuc...  \n",
            "4  [wtf, are, you, talking, about, men, ?, no, me...  \n"
          ]
        }
      ],
      "source": [
        "import nltk\n",
        "from nltk.tokenize import word_tokenize\n",
        "\n",
        "# Make sure to download the necessary NLTK resources\n",
        "nltk.download('punkt')\n",
        "\n",
        "# Tokenize the 'tweet_text' column after lemmatization\n",
        "df['tokens'] = df['tweet_text'].apply(word_tokenize)\n",
        "\n",
        "# Display the first few rows to check the tokenization\n",
        "print(df[['tweet_text', 'tokens']].head())"
      ]
    },
    {
      "cell_type": "code",
      "execution_count": null,
      "metadata": {
        "colab": {
          "base_uri": "https://localhost:8080/",
          "height": 424
        },
        "id": "vDCCwkdKOMg3",
        "outputId": "ff345fc4-719b-4020-ce38-c53d7b4c3655"
      },
      "outputs": [
        {
          "output_type": "execute_result",
          "data": {
            "text/plain": [
              "                                               tweet_text  \\\n",
              "0                                 get fucking real dude .   \n",
              "1       she is a dirty a they come and that crook reng...   \n",
              "2       why did you fuck it up . i could do it all day...   \n",
              "3       dude they dont finish enclosing the fucking sh...   \n",
              "4       wtf are you talking about men ? no men thats n...   \n",
              "...                                                   ...   \n",
              "330711  my bad i had nothing to do and w i wanted to s...   \n",
              "330712  simpleton comment regarding a stupid opinion p...   \n",
              "330713  i wa wondering - what kind of a nut case doe c...   \n",
              "330714  there would be returning co champ in chuck for...   \n",
              "330715  jane margaret truesdell american journalist ja...   \n",
              "\n",
              "         cyberbullying_type                                             tokens  \n",
              "0       other_cyberbullying                      [get, fucking, real, dude, .]  \n",
              "1       other_cyberbullying  [she, is, a, dirty, a, they, come, and, that, ...  \n",
              "2       other_cyberbullying  [why, did, you, fuck, it, up, ., i, could, do,...  \n",
              "3       other_cyberbullying  [dude, they, dont, finish, enclosing, the, fuc...  \n",
              "4       other_cyberbullying  [wtf, are, you, talking, about, men, ?, no, me...  \n",
              "...                     ...                                                ...  \n",
              "330711  other_cyberbullying  [my, bad, i, had, nothing, to, do, and, w, i, ...  \n",
              "330712  other_cyberbullying  [simpleton, comment, regarding, a, stupid, opi...  \n",
              "330713  other_cyberbullying  [i, wa, wondering, -, what, kind, of, a, nut, ...  \n",
              "330714  other_cyberbullying  [there, would, be, returning, co, champ, in, c...  \n",
              "330715  other_cyberbullying  [jane, margaret, truesdell, american, journali...  \n",
              "\n",
              "[330716 rows x 3 columns]"
            ],
            "text/html": [
              "\n",
              "  <div id=\"df-e971fccd-9a40-44f2-b997-42c4af8a6295\" class=\"colab-df-container\">\n",
              "    <div>\n",
              "<style scoped>\n",
              "    .dataframe tbody tr th:only-of-type {\n",
              "        vertical-align: middle;\n",
              "    }\n",
              "\n",
              "    .dataframe tbody tr th {\n",
              "        vertical-align: top;\n",
              "    }\n",
              "\n",
              "    .dataframe thead th {\n",
              "        text-align: right;\n",
              "    }\n",
              "</style>\n",
              "<table border=\"1\" class=\"dataframe\">\n",
              "  <thead>\n",
              "    <tr style=\"text-align: right;\">\n",
              "      <th></th>\n",
              "      <th>tweet_text</th>\n",
              "      <th>cyberbullying_type</th>\n",
              "      <th>tokens</th>\n",
              "    </tr>\n",
              "  </thead>\n",
              "  <tbody>\n",
              "    <tr>\n",
              "      <th>0</th>\n",
              "      <td>get fucking real dude .</td>\n",
              "      <td>other_cyberbullying</td>\n",
              "      <td>[get, fucking, real, dude, .]</td>\n",
              "    </tr>\n",
              "    <tr>\n",
              "      <th>1</th>\n",
              "      <td>she is a dirty a they come and that crook reng...</td>\n",
              "      <td>other_cyberbullying</td>\n",
              "      <td>[she, is, a, dirty, a, they, come, and, that, ...</td>\n",
              "    </tr>\n",
              "    <tr>\n",
              "      <th>2</th>\n",
              "      <td>why did you fuck it up . i could do it all day...</td>\n",
              "      <td>other_cyberbullying</td>\n",
              "      <td>[why, did, you, fuck, it, up, ., i, could, do,...</td>\n",
              "    </tr>\n",
              "    <tr>\n",
              "      <th>3</th>\n",
              "      <td>dude they dont finish enclosing the fucking sh...</td>\n",
              "      <td>other_cyberbullying</td>\n",
              "      <td>[dude, they, dont, finish, enclosing, the, fuc...</td>\n",
              "    </tr>\n",
              "    <tr>\n",
              "      <th>4</th>\n",
              "      <td>wtf are you talking about men ? no men thats n...</td>\n",
              "      <td>other_cyberbullying</td>\n",
              "      <td>[wtf, are, you, talking, about, men, ?, no, me...</td>\n",
              "    </tr>\n",
              "    <tr>\n",
              "      <th>...</th>\n",
              "      <td>...</td>\n",
              "      <td>...</td>\n",
              "      <td>...</td>\n",
              "    </tr>\n",
              "    <tr>\n",
              "      <th>330711</th>\n",
              "      <td>my bad i had nothing to do and w i wanted to s...</td>\n",
              "      <td>other_cyberbullying</td>\n",
              "      <td>[my, bad, i, had, nothing, to, do, and, w, i, ...</td>\n",
              "    </tr>\n",
              "    <tr>\n",
              "      <th>330712</th>\n",
              "      <td>simpleton comment regarding a stupid opinion p...</td>\n",
              "      <td>other_cyberbullying</td>\n",
              "      <td>[simpleton, comment, regarding, a, stupid, opi...</td>\n",
              "    </tr>\n",
              "    <tr>\n",
              "      <th>330713</th>\n",
              "      <td>i wa wondering - what kind of a nut case doe c...</td>\n",
              "      <td>other_cyberbullying</td>\n",
              "      <td>[i, wa, wondering, -, what, kind, of, a, nut, ...</td>\n",
              "    </tr>\n",
              "    <tr>\n",
              "      <th>330714</th>\n",
              "      <td>there would be returning co champ in chuck for...</td>\n",
              "      <td>other_cyberbullying</td>\n",
              "      <td>[there, would, be, returning, co, champ, in, c...</td>\n",
              "    </tr>\n",
              "    <tr>\n",
              "      <th>330715</th>\n",
              "      <td>jane margaret truesdell american journalist ja...</td>\n",
              "      <td>other_cyberbullying</td>\n",
              "      <td>[jane, margaret, truesdell, american, journali...</td>\n",
              "    </tr>\n",
              "  </tbody>\n",
              "</table>\n",
              "<p>330716 rows × 3 columns</p>\n",
              "</div>\n",
              "    <div class=\"colab-df-buttons\">\n",
              "\n",
              "  <div class=\"colab-df-container\">\n",
              "    <button class=\"colab-df-convert\" onclick=\"convertToInteractive('df-e971fccd-9a40-44f2-b997-42c4af8a6295')\"\n",
              "            title=\"Convert this dataframe to an interactive table.\"\n",
              "            style=\"display:none;\">\n",
              "\n",
              "  <svg xmlns=\"http://www.w3.org/2000/svg\" height=\"24px\" viewBox=\"0 -960 960 960\">\n",
              "    <path d=\"M120-120v-720h720v720H120Zm60-500h600v-160H180v160Zm220 220h160v-160H400v160Zm0 220h160v-160H400v160ZM180-400h160v-160H180v160Zm440 0h160v-160H620v160ZM180-180h160v-160H180v160Zm440 0h160v-160H620v160Z\"/>\n",
              "  </svg>\n",
              "    </button>\n",
              "\n",
              "  <style>\n",
              "    .colab-df-container {\n",
              "      display:flex;\n",
              "      gap: 12px;\n",
              "    }\n",
              "\n",
              "    .colab-df-convert {\n",
              "      background-color: #E8F0FE;\n",
              "      border: none;\n",
              "      border-radius: 50%;\n",
              "      cursor: pointer;\n",
              "      display: none;\n",
              "      fill: #1967D2;\n",
              "      height: 32px;\n",
              "      padding: 0 0 0 0;\n",
              "      width: 32px;\n",
              "    }\n",
              "\n",
              "    .colab-df-convert:hover {\n",
              "      background-color: #E2EBFA;\n",
              "      box-shadow: 0px 1px 2px rgba(60, 64, 67, 0.3), 0px 1px 3px 1px rgba(60, 64, 67, 0.15);\n",
              "      fill: #174EA6;\n",
              "    }\n",
              "\n",
              "    .colab-df-buttons div {\n",
              "      margin-bottom: 4px;\n",
              "    }\n",
              "\n",
              "    [theme=dark] .colab-df-convert {\n",
              "      background-color: #3B4455;\n",
              "      fill: #D2E3FC;\n",
              "    }\n",
              "\n",
              "    [theme=dark] .colab-df-convert:hover {\n",
              "      background-color: #434B5C;\n",
              "      box-shadow: 0px 1px 3px 1px rgba(0, 0, 0, 0.15);\n",
              "      filter: drop-shadow(0px 1px 2px rgba(0, 0, 0, 0.3));\n",
              "      fill: #FFFFFF;\n",
              "    }\n",
              "  </style>\n",
              "\n",
              "    <script>\n",
              "      const buttonEl =\n",
              "        document.querySelector('#df-e971fccd-9a40-44f2-b997-42c4af8a6295 button.colab-df-convert');\n",
              "      buttonEl.style.display =\n",
              "        google.colab.kernel.accessAllowed ? 'block' : 'none';\n",
              "\n",
              "      async function convertToInteractive(key) {\n",
              "        const element = document.querySelector('#df-e971fccd-9a40-44f2-b997-42c4af8a6295');\n",
              "        const dataTable =\n",
              "          await google.colab.kernel.invokeFunction('convertToInteractive',\n",
              "                                                    [key], {});\n",
              "        if (!dataTable) return;\n",
              "\n",
              "        const docLinkHtml = 'Like what you see? Visit the ' +\n",
              "          '<a target=\"_blank\" href=https://colab.research.google.com/notebooks/data_table.ipynb>data table notebook</a>'\n",
              "          + ' to learn more about interactive tables.';\n",
              "        element.innerHTML = '';\n",
              "        dataTable['output_type'] = 'display_data';\n",
              "        await google.colab.output.renderOutput(dataTable, element);\n",
              "        const docLink = document.createElement('div');\n",
              "        docLink.innerHTML = docLinkHtml;\n",
              "        element.appendChild(docLink);\n",
              "      }\n",
              "    </script>\n",
              "  </div>\n",
              "\n",
              "\n",
              "<div id=\"df-5edf0d7f-f029-4429-8b51-e7e178115fa9\">\n",
              "  <button class=\"colab-df-quickchart\" onclick=\"quickchart('df-5edf0d7f-f029-4429-8b51-e7e178115fa9')\"\n",
              "            title=\"Suggest charts\"\n",
              "            style=\"display:none;\">\n",
              "\n",
              "<svg xmlns=\"http://www.w3.org/2000/svg\" height=\"24px\"viewBox=\"0 0 24 24\"\n",
              "     width=\"24px\">\n",
              "    <g>\n",
              "        <path d=\"M19 3H5c-1.1 0-2 .9-2 2v14c0 1.1.9 2 2 2h14c1.1 0 2-.9 2-2V5c0-1.1-.9-2-2-2zM9 17H7v-7h2v7zm4 0h-2V7h2v10zm4 0h-2v-4h2v4z\"/>\n",
              "    </g>\n",
              "</svg>\n",
              "  </button>\n",
              "\n",
              "<style>\n",
              "  .colab-df-quickchart {\n",
              "      --bg-color: #E8F0FE;\n",
              "      --fill-color: #1967D2;\n",
              "      --hover-bg-color: #E2EBFA;\n",
              "      --hover-fill-color: #174EA6;\n",
              "      --disabled-fill-color: #AAA;\n",
              "      --disabled-bg-color: #DDD;\n",
              "  }\n",
              "\n",
              "  [theme=dark] .colab-df-quickchart {\n",
              "      --bg-color: #3B4455;\n",
              "      --fill-color: #D2E3FC;\n",
              "      --hover-bg-color: #434B5C;\n",
              "      --hover-fill-color: #FFFFFF;\n",
              "      --disabled-bg-color: #3B4455;\n",
              "      --disabled-fill-color: #666;\n",
              "  }\n",
              "\n",
              "  .colab-df-quickchart {\n",
              "    background-color: var(--bg-color);\n",
              "    border: none;\n",
              "    border-radius: 50%;\n",
              "    cursor: pointer;\n",
              "    display: none;\n",
              "    fill: var(--fill-color);\n",
              "    height: 32px;\n",
              "    padding: 0;\n",
              "    width: 32px;\n",
              "  }\n",
              "\n",
              "  .colab-df-quickchart:hover {\n",
              "    background-color: var(--hover-bg-color);\n",
              "    box-shadow: 0 1px 2px rgba(60, 64, 67, 0.3), 0 1px 3px 1px rgba(60, 64, 67, 0.15);\n",
              "    fill: var(--button-hover-fill-color);\n",
              "  }\n",
              "\n",
              "  .colab-df-quickchart-complete:disabled,\n",
              "  .colab-df-quickchart-complete:disabled:hover {\n",
              "    background-color: var(--disabled-bg-color);\n",
              "    fill: var(--disabled-fill-color);\n",
              "    box-shadow: none;\n",
              "  }\n",
              "\n",
              "  .colab-df-spinner {\n",
              "    border: 2px solid var(--fill-color);\n",
              "    border-color: transparent;\n",
              "    border-bottom-color: var(--fill-color);\n",
              "    animation:\n",
              "      spin 1s steps(1) infinite;\n",
              "  }\n",
              "\n",
              "  @keyframes spin {\n",
              "    0% {\n",
              "      border-color: transparent;\n",
              "      border-bottom-color: var(--fill-color);\n",
              "      border-left-color: var(--fill-color);\n",
              "    }\n",
              "    20% {\n",
              "      border-color: transparent;\n",
              "      border-left-color: var(--fill-color);\n",
              "      border-top-color: var(--fill-color);\n",
              "    }\n",
              "    30% {\n",
              "      border-color: transparent;\n",
              "      border-left-color: var(--fill-color);\n",
              "      border-top-color: var(--fill-color);\n",
              "      border-right-color: var(--fill-color);\n",
              "    }\n",
              "    40% {\n",
              "      border-color: transparent;\n",
              "      border-right-color: var(--fill-color);\n",
              "      border-top-color: var(--fill-color);\n",
              "    }\n",
              "    60% {\n",
              "      border-color: transparent;\n",
              "      border-right-color: var(--fill-color);\n",
              "    }\n",
              "    80% {\n",
              "      border-color: transparent;\n",
              "      border-right-color: var(--fill-color);\n",
              "      border-bottom-color: var(--fill-color);\n",
              "    }\n",
              "    90% {\n",
              "      border-color: transparent;\n",
              "      border-bottom-color: var(--fill-color);\n",
              "    }\n",
              "  }\n",
              "</style>\n",
              "\n",
              "  <script>\n",
              "    async function quickchart(key) {\n",
              "      const quickchartButtonEl =\n",
              "        document.querySelector('#' + key + ' button');\n",
              "      quickchartButtonEl.disabled = true;  // To prevent multiple clicks.\n",
              "      quickchartButtonEl.classList.add('colab-df-spinner');\n",
              "      try {\n",
              "        const charts = await google.colab.kernel.invokeFunction(\n",
              "            'suggestCharts', [key], {});\n",
              "      } catch (error) {\n",
              "        console.error('Error during call to suggestCharts:', error);\n",
              "      }\n",
              "      quickchartButtonEl.classList.remove('colab-df-spinner');\n",
              "      quickchartButtonEl.classList.add('colab-df-quickchart-complete');\n",
              "    }\n",
              "    (() => {\n",
              "      let quickchartButtonEl =\n",
              "        document.querySelector('#df-5edf0d7f-f029-4429-8b51-e7e178115fa9 button');\n",
              "      quickchartButtonEl.style.display =\n",
              "        google.colab.kernel.accessAllowed ? 'block' : 'none';\n",
              "    })();\n",
              "  </script>\n",
              "</div>\n",
              "\n",
              "  <div id=\"id_8424fe13-4a33-4315-8417-d9b765585d8b\">\n",
              "    <style>\n",
              "      .colab-df-generate {\n",
              "        background-color: #E8F0FE;\n",
              "        border: none;\n",
              "        border-radius: 50%;\n",
              "        cursor: pointer;\n",
              "        display: none;\n",
              "        fill: #1967D2;\n",
              "        height: 32px;\n",
              "        padding: 0 0 0 0;\n",
              "        width: 32px;\n",
              "      }\n",
              "\n",
              "      .colab-df-generate:hover {\n",
              "        background-color: #E2EBFA;\n",
              "        box-shadow: 0px 1px 2px rgba(60, 64, 67, 0.3), 0px 1px 3px 1px rgba(60, 64, 67, 0.15);\n",
              "        fill: #174EA6;\n",
              "      }\n",
              "\n",
              "      [theme=dark] .colab-df-generate {\n",
              "        background-color: #3B4455;\n",
              "        fill: #D2E3FC;\n",
              "      }\n",
              "\n",
              "      [theme=dark] .colab-df-generate:hover {\n",
              "        background-color: #434B5C;\n",
              "        box-shadow: 0px 1px 3px 1px rgba(0, 0, 0, 0.15);\n",
              "        filter: drop-shadow(0px 1px 2px rgba(0, 0, 0, 0.3));\n",
              "        fill: #FFFFFF;\n",
              "      }\n",
              "    </style>\n",
              "    <button class=\"colab-df-generate\" onclick=\"generateWithVariable('df')\"\n",
              "            title=\"Generate code using this dataframe.\"\n",
              "            style=\"display:none;\">\n",
              "\n",
              "  <svg xmlns=\"http://www.w3.org/2000/svg\" height=\"24px\"viewBox=\"0 0 24 24\"\n",
              "       width=\"24px\">\n",
              "    <path d=\"M7,19H8.4L18.45,9,17,7.55,7,17.6ZM5,21V16.75L18.45,3.32a2,2,0,0,1,2.83,0l1.4,1.43a1.91,1.91,0,0,1,.58,1.4,1.91,1.91,0,0,1-.58,1.4L9.25,21ZM18.45,9,17,7.55Zm-12,3A5.31,5.31,0,0,0,4.9,8.1,5.31,5.31,0,0,0,1,6.5,5.31,5.31,0,0,0,4.9,4.9,5.31,5.31,0,0,0,6.5,1,5.31,5.31,0,0,0,8.1,4.9,5.31,5.31,0,0,0,12,6.5,5.46,5.46,0,0,0,6.5,12Z\"/>\n",
              "  </svg>\n",
              "    </button>\n",
              "    <script>\n",
              "      (() => {\n",
              "      const buttonEl =\n",
              "        document.querySelector('#id_8424fe13-4a33-4315-8417-d9b765585d8b button.colab-df-generate');\n",
              "      buttonEl.style.display =\n",
              "        google.colab.kernel.accessAllowed ? 'block' : 'none';\n",
              "\n",
              "      buttonEl.onclick = () => {\n",
              "        google.colab.notebook.generateWithVariable('df');\n",
              "      }\n",
              "      })();\n",
              "    </script>\n",
              "  </div>\n",
              "\n",
              "    </div>\n",
              "  </div>\n"
            ],
            "application/vnd.google.colaboratory.intrinsic+json": {
              "type": "dataframe",
              "variable_name": "df"
            }
          },
          "metadata": {},
          "execution_count": 14
        }
      ],
      "source": [
        "df"
      ]
    },
    {
      "cell_type": "code",
      "execution_count": null,
      "metadata": {
        "colab": {
          "base_uri": "https://localhost:8080/"
        },
        "id": "CU-ly0VTOSJq",
        "outputId": "93280fd2-7e01-4071-b68e-891fbc81ca69"
      },
      "outputs": [
        {
          "output_type": "stream",
          "name": "stdout",
          "text": [
            "Data saved to /content/drive/MyDrive/Colab Notebooks/modified_dataset_cleaned.csv\n"
          ]
        }
      ],
      "source": [
        "# Define the file path to save the modified dataset\n",
        "output_file_path = '/content/drive/MyDrive/Colab Notebooks/modified_dataset_cleaned.csv'\n",
        "\n",
        "# Save the DataFrame to a CSV file\n",
        "df.to_csv(output_file_path, index=False)\n",
        "\n",
        "print(f\"Data saved to {output_file_path}\")"
      ]
    },
    {
      "cell_type": "markdown",
      "metadata": {
        "id": "AIO9qnN0Rd2n"
      },
      "source": []
    },
    {
      "cell_type": "markdown",
      "metadata": {
        "id": "Sh3z07bsRfRH"
      },
      "source": [
        "# Vectorization Starts"
      ]
    },
    {
      "cell_type": "code",
      "execution_count": null,
      "metadata": {
        "colab": {
          "base_uri": "https://localhost:8080/"
        },
        "id": "S8gFGYQOOxia",
        "outputId": "80ad62f6-48d0-49f4-82e3-b7835019e271"
      },
      "outputs": [
        {
          "output_type": "stream",
          "name": "stdout",
          "text": [
            "(120000, 4999)\n"
          ]
        }
      ],
      "source": [
        "from sklearn.feature_extraction.text import TfidfVectorizer\n",
        "\n",
        "# Create a TfidfVectorizer instance\n",
        "vectorizer = TfidfVectorizer(max_features=5000)  # You can adjust max_features as needed\n",
        "\n",
        "# Fit and transform the tweet_text column\n",
        "X = vectorizer.fit_transform(df['text']).toarray()\n",
        "\n",
        "# Convert the vectorized data to a DataFrame\n",
        "X_df = pd.DataFrame(X, columns=vectorizer.get_feature_names_out())\n",
        "\n",
        "# Check the shape of the vectorized data\n",
        "print(X_df.shape)  # This will show the number of samples and features"
      ]
    },
    {
      "cell_type": "code",
      "execution_count": null,
      "metadata": {
        "colab": {
          "base_uri": "https://localhost:8080/",
          "height": 424
        },
        "id": "jmQVRmBIRtvd",
        "outputId": "0e360ea2-51e9-4784-9735-73e3512e2527"
      },
      "outputs": [
        {
          "output_type": "execute_result",
          "data": {
            "text/plain": [
              "        000   10  100  1000   11   12  128514   13   14  1400  ...   yr   yu  \\\n",
              "0       0.0  0.0  0.0   0.0  0.0  0.0     0.0  0.0  0.0   0.0  ...  0.0  0.0   \n",
              "1       0.0  0.0  0.0   0.0  0.0  0.0     0.0  0.0  0.0   0.0  ...  0.0  0.0   \n",
              "2       0.0  0.0  0.0   0.0  0.0  0.0     0.0  0.0  0.0   0.0  ...  0.0  0.0   \n",
              "3       0.0  0.0  0.0   0.0  0.0  0.0     0.0  0.0  0.0   0.0  ...  0.0  0.0   \n",
              "4       0.0  0.0  0.0   0.0  0.0  0.0     0.0  0.0  0.0   0.0  ...  0.0  0.0   \n",
              "...     ...  ...  ...   ...  ...  ...     ...  ...  ...   ...  ...  ...  ...   \n",
              "330711  0.0  0.0  0.0   0.0  0.0  0.0     0.0  0.0  0.0   0.0  ...  0.0  0.0   \n",
              "330712  0.0  0.0  0.0   0.0  0.0  0.0     0.0  0.0  0.0   0.0  ...  0.0  0.0   \n",
              "330713  0.0  0.0  0.0   0.0  0.0  0.0     0.0  0.0  0.0   0.0  ...  0.0  0.0   \n",
              "330714  0.0  0.0  0.0   0.0  0.0  0.0     0.0  0.0  0.0   0.0  ...  0.0  0.0   \n",
              "330715  0.0  0.0  0.0   0.0  0.0  0.0     0.0  0.0  0.0   0.0  ...  0.0  0.0   \n",
              "\n",
              "        yuh  yup   yã  zero  zionist  zombie  zone   â³  \n",
              "0       0.0  0.0  0.0   0.0      0.0     0.0   0.0  0.0  \n",
              "1       0.0  0.0  0.0   0.0      0.0     0.0   0.0  0.0  \n",
              "2       0.0  0.0  0.0   0.0      0.0     0.0   0.0  0.0  \n",
              "3       0.0  0.0  0.0   0.0      0.0     0.0   0.0  0.0  \n",
              "4       0.0  0.0  0.0   0.0      0.0     0.0   0.0  0.0  \n",
              "...     ...  ...  ...   ...      ...     ...   ...  ...  \n",
              "330711  0.0  0.0  0.0   0.0      0.0     0.0   0.0  0.0  \n",
              "330712  0.0  0.0  0.0   0.0      0.0     0.0   0.0  0.0  \n",
              "330713  0.0  0.0  0.0   0.0      0.0     0.0   0.0  0.0  \n",
              "330714  0.0  0.0  0.0   0.0      0.0     0.0   0.0  0.0  \n",
              "330715  0.0  0.0  0.0   0.0      0.0     0.0   0.0  0.0  \n",
              "\n",
              "[330716 rows x 5000 columns]"
            ],
            "text/html": [
              "\n",
              "  <div id=\"df-ced7dc84-6035-4c46-8549-0828b7616776\" class=\"colab-df-container\">\n",
              "    <div>\n",
              "<style scoped>\n",
              "    .dataframe tbody tr th:only-of-type {\n",
              "        vertical-align: middle;\n",
              "    }\n",
              "\n",
              "    .dataframe tbody tr th {\n",
              "        vertical-align: top;\n",
              "    }\n",
              "\n",
              "    .dataframe thead th {\n",
              "        text-align: right;\n",
              "    }\n",
              "</style>\n",
              "<table border=\"1\" class=\"dataframe\">\n",
              "  <thead>\n",
              "    <tr style=\"text-align: right;\">\n",
              "      <th></th>\n",
              "      <th>000</th>\n",
              "      <th>10</th>\n",
              "      <th>100</th>\n",
              "      <th>1000</th>\n",
              "      <th>11</th>\n",
              "      <th>12</th>\n",
              "      <th>128514</th>\n",
              "      <th>13</th>\n",
              "      <th>14</th>\n",
              "      <th>1400</th>\n",
              "      <th>...</th>\n",
              "      <th>yr</th>\n",
              "      <th>yu</th>\n",
              "      <th>yuh</th>\n",
              "      <th>yup</th>\n",
              "      <th>yã</th>\n",
              "      <th>zero</th>\n",
              "      <th>zionist</th>\n",
              "      <th>zombie</th>\n",
              "      <th>zone</th>\n",
              "      <th>â³</th>\n",
              "    </tr>\n",
              "  </thead>\n",
              "  <tbody>\n",
              "    <tr>\n",
              "      <th>0</th>\n",
              "      <td>0.0</td>\n",
              "      <td>0.0</td>\n",
              "      <td>0.0</td>\n",
              "      <td>0.0</td>\n",
              "      <td>0.0</td>\n",
              "      <td>0.0</td>\n",
              "      <td>0.0</td>\n",
              "      <td>0.0</td>\n",
              "      <td>0.0</td>\n",
              "      <td>0.0</td>\n",
              "      <td>...</td>\n",
              "      <td>0.0</td>\n",
              "      <td>0.0</td>\n",
              "      <td>0.0</td>\n",
              "      <td>0.0</td>\n",
              "      <td>0.0</td>\n",
              "      <td>0.0</td>\n",
              "      <td>0.0</td>\n",
              "      <td>0.0</td>\n",
              "      <td>0.0</td>\n",
              "      <td>0.0</td>\n",
              "    </tr>\n",
              "    <tr>\n",
              "      <th>1</th>\n",
              "      <td>0.0</td>\n",
              "      <td>0.0</td>\n",
              "      <td>0.0</td>\n",
              "      <td>0.0</td>\n",
              "      <td>0.0</td>\n",
              "      <td>0.0</td>\n",
              "      <td>0.0</td>\n",
              "      <td>0.0</td>\n",
              "      <td>0.0</td>\n",
              "      <td>0.0</td>\n",
              "      <td>...</td>\n",
              "      <td>0.0</td>\n",
              "      <td>0.0</td>\n",
              "      <td>0.0</td>\n",
              "      <td>0.0</td>\n",
              "      <td>0.0</td>\n",
              "      <td>0.0</td>\n",
              "      <td>0.0</td>\n",
              "      <td>0.0</td>\n",
              "      <td>0.0</td>\n",
              "      <td>0.0</td>\n",
              "    </tr>\n",
              "    <tr>\n",
              "      <th>2</th>\n",
              "      <td>0.0</td>\n",
              "      <td>0.0</td>\n",
              "      <td>0.0</td>\n",
              "      <td>0.0</td>\n",
              "      <td>0.0</td>\n",
              "      <td>0.0</td>\n",
              "      <td>0.0</td>\n",
              "      <td>0.0</td>\n",
              "      <td>0.0</td>\n",
              "      <td>0.0</td>\n",
              "      <td>...</td>\n",
              "      <td>0.0</td>\n",
              "      <td>0.0</td>\n",
              "      <td>0.0</td>\n",
              "      <td>0.0</td>\n",
              "      <td>0.0</td>\n",
              "      <td>0.0</td>\n",
              "      <td>0.0</td>\n",
              "      <td>0.0</td>\n",
              "      <td>0.0</td>\n",
              "      <td>0.0</td>\n",
              "    </tr>\n",
              "    <tr>\n",
              "      <th>3</th>\n",
              "      <td>0.0</td>\n",
              "      <td>0.0</td>\n",
              "      <td>0.0</td>\n",
              "      <td>0.0</td>\n",
              "      <td>0.0</td>\n",
              "      <td>0.0</td>\n",
              "      <td>0.0</td>\n",
              "      <td>0.0</td>\n",
              "      <td>0.0</td>\n",
              "      <td>0.0</td>\n",
              "      <td>...</td>\n",
              "      <td>0.0</td>\n",
              "      <td>0.0</td>\n",
              "      <td>0.0</td>\n",
              "      <td>0.0</td>\n",
              "      <td>0.0</td>\n",
              "      <td>0.0</td>\n",
              "      <td>0.0</td>\n",
              "      <td>0.0</td>\n",
              "      <td>0.0</td>\n",
              "      <td>0.0</td>\n",
              "    </tr>\n",
              "    <tr>\n",
              "      <th>4</th>\n",
              "      <td>0.0</td>\n",
              "      <td>0.0</td>\n",
              "      <td>0.0</td>\n",
              "      <td>0.0</td>\n",
              "      <td>0.0</td>\n",
              "      <td>0.0</td>\n",
              "      <td>0.0</td>\n",
              "      <td>0.0</td>\n",
              "      <td>0.0</td>\n",
              "      <td>0.0</td>\n",
              "      <td>...</td>\n",
              "      <td>0.0</td>\n",
              "      <td>0.0</td>\n",
              "      <td>0.0</td>\n",
              "      <td>0.0</td>\n",
              "      <td>0.0</td>\n",
              "      <td>0.0</td>\n",
              "      <td>0.0</td>\n",
              "      <td>0.0</td>\n",
              "      <td>0.0</td>\n",
              "      <td>0.0</td>\n",
              "    </tr>\n",
              "    <tr>\n",
              "      <th>...</th>\n",
              "      <td>...</td>\n",
              "      <td>...</td>\n",
              "      <td>...</td>\n",
              "      <td>...</td>\n",
              "      <td>...</td>\n",
              "      <td>...</td>\n",
              "      <td>...</td>\n",
              "      <td>...</td>\n",
              "      <td>...</td>\n",
              "      <td>...</td>\n",
              "      <td>...</td>\n",
              "      <td>...</td>\n",
              "      <td>...</td>\n",
              "      <td>...</td>\n",
              "      <td>...</td>\n",
              "      <td>...</td>\n",
              "      <td>...</td>\n",
              "      <td>...</td>\n",
              "      <td>...</td>\n",
              "      <td>...</td>\n",
              "      <td>...</td>\n",
              "    </tr>\n",
              "    <tr>\n",
              "      <th>330711</th>\n",
              "      <td>0.0</td>\n",
              "      <td>0.0</td>\n",
              "      <td>0.0</td>\n",
              "      <td>0.0</td>\n",
              "      <td>0.0</td>\n",
              "      <td>0.0</td>\n",
              "      <td>0.0</td>\n",
              "      <td>0.0</td>\n",
              "      <td>0.0</td>\n",
              "      <td>0.0</td>\n",
              "      <td>...</td>\n",
              "      <td>0.0</td>\n",
              "      <td>0.0</td>\n",
              "      <td>0.0</td>\n",
              "      <td>0.0</td>\n",
              "      <td>0.0</td>\n",
              "      <td>0.0</td>\n",
              "      <td>0.0</td>\n",
              "      <td>0.0</td>\n",
              "      <td>0.0</td>\n",
              "      <td>0.0</td>\n",
              "    </tr>\n",
              "    <tr>\n",
              "      <th>330712</th>\n",
              "      <td>0.0</td>\n",
              "      <td>0.0</td>\n",
              "      <td>0.0</td>\n",
              "      <td>0.0</td>\n",
              "      <td>0.0</td>\n",
              "      <td>0.0</td>\n",
              "      <td>0.0</td>\n",
              "      <td>0.0</td>\n",
              "      <td>0.0</td>\n",
              "      <td>0.0</td>\n",
              "      <td>...</td>\n",
              "      <td>0.0</td>\n",
              "      <td>0.0</td>\n",
              "      <td>0.0</td>\n",
              "      <td>0.0</td>\n",
              "      <td>0.0</td>\n",
              "      <td>0.0</td>\n",
              "      <td>0.0</td>\n",
              "      <td>0.0</td>\n",
              "      <td>0.0</td>\n",
              "      <td>0.0</td>\n",
              "    </tr>\n",
              "    <tr>\n",
              "      <th>330713</th>\n",
              "      <td>0.0</td>\n",
              "      <td>0.0</td>\n",
              "      <td>0.0</td>\n",
              "      <td>0.0</td>\n",
              "      <td>0.0</td>\n",
              "      <td>0.0</td>\n",
              "      <td>0.0</td>\n",
              "      <td>0.0</td>\n",
              "      <td>0.0</td>\n",
              "      <td>0.0</td>\n",
              "      <td>...</td>\n",
              "      <td>0.0</td>\n",
              "      <td>0.0</td>\n",
              "      <td>0.0</td>\n",
              "      <td>0.0</td>\n",
              "      <td>0.0</td>\n",
              "      <td>0.0</td>\n",
              "      <td>0.0</td>\n",
              "      <td>0.0</td>\n",
              "      <td>0.0</td>\n",
              "      <td>0.0</td>\n",
              "    </tr>\n",
              "    <tr>\n",
              "      <th>330714</th>\n",
              "      <td>0.0</td>\n",
              "      <td>0.0</td>\n",
              "      <td>0.0</td>\n",
              "      <td>0.0</td>\n",
              "      <td>0.0</td>\n",
              "      <td>0.0</td>\n",
              "      <td>0.0</td>\n",
              "      <td>0.0</td>\n",
              "      <td>0.0</td>\n",
              "      <td>0.0</td>\n",
              "      <td>...</td>\n",
              "      <td>0.0</td>\n",
              "      <td>0.0</td>\n",
              "      <td>0.0</td>\n",
              "      <td>0.0</td>\n",
              "      <td>0.0</td>\n",
              "      <td>0.0</td>\n",
              "      <td>0.0</td>\n",
              "      <td>0.0</td>\n",
              "      <td>0.0</td>\n",
              "      <td>0.0</td>\n",
              "    </tr>\n",
              "    <tr>\n",
              "      <th>330715</th>\n",
              "      <td>0.0</td>\n",
              "      <td>0.0</td>\n",
              "      <td>0.0</td>\n",
              "      <td>0.0</td>\n",
              "      <td>0.0</td>\n",
              "      <td>0.0</td>\n",
              "      <td>0.0</td>\n",
              "      <td>0.0</td>\n",
              "      <td>0.0</td>\n",
              "      <td>0.0</td>\n",
              "      <td>...</td>\n",
              "      <td>0.0</td>\n",
              "      <td>0.0</td>\n",
              "      <td>0.0</td>\n",
              "      <td>0.0</td>\n",
              "      <td>0.0</td>\n",
              "      <td>0.0</td>\n",
              "      <td>0.0</td>\n",
              "      <td>0.0</td>\n",
              "      <td>0.0</td>\n",
              "      <td>0.0</td>\n",
              "    </tr>\n",
              "  </tbody>\n",
              "</table>\n",
              "<p>330716 rows × 5000 columns</p>\n",
              "</div>\n",
              "    <div class=\"colab-df-buttons\">\n",
              "\n",
              "  <div class=\"colab-df-container\">\n",
              "    <button class=\"colab-df-convert\" onclick=\"convertToInteractive('df-ced7dc84-6035-4c46-8549-0828b7616776')\"\n",
              "            title=\"Convert this dataframe to an interactive table.\"\n",
              "            style=\"display:none;\">\n",
              "\n",
              "  <svg xmlns=\"http://www.w3.org/2000/svg\" height=\"24px\" viewBox=\"0 -960 960 960\">\n",
              "    <path d=\"M120-120v-720h720v720H120Zm60-500h600v-160H180v160Zm220 220h160v-160H400v160Zm0 220h160v-160H400v160ZM180-400h160v-160H180v160Zm440 0h160v-160H620v160ZM180-180h160v-160H180v160Zm440 0h160v-160H620v160Z\"/>\n",
              "  </svg>\n",
              "    </button>\n",
              "\n",
              "  <style>\n",
              "    .colab-df-container {\n",
              "      display:flex;\n",
              "      gap: 12px;\n",
              "    }\n",
              "\n",
              "    .colab-df-convert {\n",
              "      background-color: #E8F0FE;\n",
              "      border: none;\n",
              "      border-radius: 50%;\n",
              "      cursor: pointer;\n",
              "      display: none;\n",
              "      fill: #1967D2;\n",
              "      height: 32px;\n",
              "      padding: 0 0 0 0;\n",
              "      width: 32px;\n",
              "    }\n",
              "\n",
              "    .colab-df-convert:hover {\n",
              "      background-color: #E2EBFA;\n",
              "      box-shadow: 0px 1px 2px rgba(60, 64, 67, 0.3), 0px 1px 3px 1px rgba(60, 64, 67, 0.15);\n",
              "      fill: #174EA6;\n",
              "    }\n",
              "\n",
              "    .colab-df-buttons div {\n",
              "      margin-bottom: 4px;\n",
              "    }\n",
              "\n",
              "    [theme=dark] .colab-df-convert {\n",
              "      background-color: #3B4455;\n",
              "      fill: #D2E3FC;\n",
              "    }\n",
              "\n",
              "    [theme=dark] .colab-df-convert:hover {\n",
              "      background-color: #434B5C;\n",
              "      box-shadow: 0px 1px 3px 1px rgba(0, 0, 0, 0.15);\n",
              "      filter: drop-shadow(0px 1px 2px rgba(0, 0, 0, 0.3));\n",
              "      fill: #FFFFFF;\n",
              "    }\n",
              "  </style>\n",
              "\n",
              "    <script>\n",
              "      const buttonEl =\n",
              "        document.querySelector('#df-ced7dc84-6035-4c46-8549-0828b7616776 button.colab-df-convert');\n",
              "      buttonEl.style.display =\n",
              "        google.colab.kernel.accessAllowed ? 'block' : 'none';\n",
              "\n",
              "      async function convertToInteractive(key) {\n",
              "        const element = document.querySelector('#df-ced7dc84-6035-4c46-8549-0828b7616776');\n",
              "        const dataTable =\n",
              "          await google.colab.kernel.invokeFunction('convertToInteractive',\n",
              "                                                    [key], {});\n",
              "        if (!dataTable) return;\n",
              "\n",
              "        const docLinkHtml = 'Like what you see? Visit the ' +\n",
              "          '<a target=\"_blank\" href=https://colab.research.google.com/notebooks/data_table.ipynb>data table notebook</a>'\n",
              "          + ' to learn more about interactive tables.';\n",
              "        element.innerHTML = '';\n",
              "        dataTable['output_type'] = 'display_data';\n",
              "        await google.colab.output.renderOutput(dataTable, element);\n",
              "        const docLink = document.createElement('div');\n",
              "        docLink.innerHTML = docLinkHtml;\n",
              "        element.appendChild(docLink);\n",
              "      }\n",
              "    </script>\n",
              "  </div>\n",
              "\n",
              "\n",
              "<div id=\"df-1e583018-9134-4337-99d7-fbac761089c4\">\n",
              "  <button class=\"colab-df-quickchart\" onclick=\"quickchart('df-1e583018-9134-4337-99d7-fbac761089c4')\"\n",
              "            title=\"Suggest charts\"\n",
              "            style=\"display:none;\">\n",
              "\n",
              "<svg xmlns=\"http://www.w3.org/2000/svg\" height=\"24px\"viewBox=\"0 0 24 24\"\n",
              "     width=\"24px\">\n",
              "    <g>\n",
              "        <path d=\"M19 3H5c-1.1 0-2 .9-2 2v14c0 1.1.9 2 2 2h14c1.1 0 2-.9 2-2V5c0-1.1-.9-2-2-2zM9 17H7v-7h2v7zm4 0h-2V7h2v10zm4 0h-2v-4h2v4z\"/>\n",
              "    </g>\n",
              "</svg>\n",
              "  </button>\n",
              "\n",
              "<style>\n",
              "  .colab-df-quickchart {\n",
              "      --bg-color: #E8F0FE;\n",
              "      --fill-color: #1967D2;\n",
              "      --hover-bg-color: #E2EBFA;\n",
              "      --hover-fill-color: #174EA6;\n",
              "      --disabled-fill-color: #AAA;\n",
              "      --disabled-bg-color: #DDD;\n",
              "  }\n",
              "\n",
              "  [theme=dark] .colab-df-quickchart {\n",
              "      --bg-color: #3B4455;\n",
              "      --fill-color: #D2E3FC;\n",
              "      --hover-bg-color: #434B5C;\n",
              "      --hover-fill-color: #FFFFFF;\n",
              "      --disabled-bg-color: #3B4455;\n",
              "      --disabled-fill-color: #666;\n",
              "  }\n",
              "\n",
              "  .colab-df-quickchart {\n",
              "    background-color: var(--bg-color);\n",
              "    border: none;\n",
              "    border-radius: 50%;\n",
              "    cursor: pointer;\n",
              "    display: none;\n",
              "    fill: var(--fill-color);\n",
              "    height: 32px;\n",
              "    padding: 0;\n",
              "    width: 32px;\n",
              "  }\n",
              "\n",
              "  .colab-df-quickchart:hover {\n",
              "    background-color: var(--hover-bg-color);\n",
              "    box-shadow: 0 1px 2px rgba(60, 64, 67, 0.3), 0 1px 3px 1px rgba(60, 64, 67, 0.15);\n",
              "    fill: var(--button-hover-fill-color);\n",
              "  }\n",
              "\n",
              "  .colab-df-quickchart-complete:disabled,\n",
              "  .colab-df-quickchart-complete:disabled:hover {\n",
              "    background-color: var(--disabled-bg-color);\n",
              "    fill: var(--disabled-fill-color);\n",
              "    box-shadow: none;\n",
              "  }\n",
              "\n",
              "  .colab-df-spinner {\n",
              "    border: 2px solid var(--fill-color);\n",
              "    border-color: transparent;\n",
              "    border-bottom-color: var(--fill-color);\n",
              "    animation:\n",
              "      spin 1s steps(1) infinite;\n",
              "  }\n",
              "\n",
              "  @keyframes spin {\n",
              "    0% {\n",
              "      border-color: transparent;\n",
              "      border-bottom-color: var(--fill-color);\n",
              "      border-left-color: var(--fill-color);\n",
              "    }\n",
              "    20% {\n",
              "      border-color: transparent;\n",
              "      border-left-color: var(--fill-color);\n",
              "      border-top-color: var(--fill-color);\n",
              "    }\n",
              "    30% {\n",
              "      border-color: transparent;\n",
              "      border-left-color: var(--fill-color);\n",
              "      border-top-color: var(--fill-color);\n",
              "      border-right-color: var(--fill-color);\n",
              "    }\n",
              "    40% {\n",
              "      border-color: transparent;\n",
              "      border-right-color: var(--fill-color);\n",
              "      border-top-color: var(--fill-color);\n",
              "    }\n",
              "    60% {\n",
              "      border-color: transparent;\n",
              "      border-right-color: var(--fill-color);\n",
              "    }\n",
              "    80% {\n",
              "      border-color: transparent;\n",
              "      border-right-color: var(--fill-color);\n",
              "      border-bottom-color: var(--fill-color);\n",
              "    }\n",
              "    90% {\n",
              "      border-color: transparent;\n",
              "      border-bottom-color: var(--fill-color);\n",
              "    }\n",
              "  }\n",
              "</style>\n",
              "\n",
              "  <script>\n",
              "    async function quickchart(key) {\n",
              "      const quickchartButtonEl =\n",
              "        document.querySelector('#' + key + ' button');\n",
              "      quickchartButtonEl.disabled = true;  // To prevent multiple clicks.\n",
              "      quickchartButtonEl.classList.add('colab-df-spinner');\n",
              "      try {\n",
              "        const charts = await google.colab.kernel.invokeFunction(\n",
              "            'suggestCharts', [key], {});\n",
              "      } catch (error) {\n",
              "        console.error('Error during call to suggestCharts:', error);\n",
              "      }\n",
              "      quickchartButtonEl.classList.remove('colab-df-spinner');\n",
              "      quickchartButtonEl.classList.add('colab-df-quickchart-complete');\n",
              "    }\n",
              "    (() => {\n",
              "      let quickchartButtonEl =\n",
              "        document.querySelector('#df-1e583018-9134-4337-99d7-fbac761089c4 button');\n",
              "      quickchartButtonEl.style.display =\n",
              "        google.colab.kernel.accessAllowed ? 'block' : 'none';\n",
              "    })();\n",
              "  </script>\n",
              "</div>\n",
              "\n",
              "  <div id=\"id_83932bf4-8357-44ff-b3f1-d42023d4b15f\">\n",
              "    <style>\n",
              "      .colab-df-generate {\n",
              "        background-color: #E8F0FE;\n",
              "        border: none;\n",
              "        border-radius: 50%;\n",
              "        cursor: pointer;\n",
              "        display: none;\n",
              "        fill: #1967D2;\n",
              "        height: 32px;\n",
              "        padding: 0 0 0 0;\n",
              "        width: 32px;\n",
              "      }\n",
              "\n",
              "      .colab-df-generate:hover {\n",
              "        background-color: #E2EBFA;\n",
              "        box-shadow: 0px 1px 2px rgba(60, 64, 67, 0.3), 0px 1px 3px 1px rgba(60, 64, 67, 0.15);\n",
              "        fill: #174EA6;\n",
              "      }\n",
              "\n",
              "      [theme=dark] .colab-df-generate {\n",
              "        background-color: #3B4455;\n",
              "        fill: #D2E3FC;\n",
              "      }\n",
              "\n",
              "      [theme=dark] .colab-df-generate:hover {\n",
              "        background-color: #434B5C;\n",
              "        box-shadow: 0px 1px 3px 1px rgba(0, 0, 0, 0.15);\n",
              "        filter: drop-shadow(0px 1px 2px rgba(0, 0, 0, 0.3));\n",
              "        fill: #FFFFFF;\n",
              "      }\n",
              "    </style>\n",
              "    <button class=\"colab-df-generate\" onclick=\"generateWithVariable('X_df')\"\n",
              "            title=\"Generate code using this dataframe.\"\n",
              "            style=\"display:none;\">\n",
              "\n",
              "  <svg xmlns=\"http://www.w3.org/2000/svg\" height=\"24px\"viewBox=\"0 0 24 24\"\n",
              "       width=\"24px\">\n",
              "    <path d=\"M7,19H8.4L18.45,9,17,7.55,7,17.6ZM5,21V16.75L18.45,3.32a2,2,0,0,1,2.83,0l1.4,1.43a1.91,1.91,0,0,1,.58,1.4,1.91,1.91,0,0,1-.58,1.4L9.25,21ZM18.45,9,17,7.55Zm-12,3A5.31,5.31,0,0,0,4.9,8.1,5.31,5.31,0,0,0,1,6.5,5.31,5.31,0,0,0,4.9,4.9,5.31,5.31,0,0,0,6.5,1,5.31,5.31,0,0,0,8.1,4.9,5.31,5.31,0,0,0,12,6.5,5.46,5.46,0,0,0,6.5,12Z\"/>\n",
              "  </svg>\n",
              "    </button>\n",
              "    <script>\n",
              "      (() => {\n",
              "      const buttonEl =\n",
              "        document.querySelector('#id_83932bf4-8357-44ff-b3f1-d42023d4b15f button.colab-df-generate');\n",
              "      buttonEl.style.display =\n",
              "        google.colab.kernel.accessAllowed ? 'block' : 'none';\n",
              "\n",
              "      buttonEl.onclick = () => {\n",
              "        google.colab.notebook.generateWithVariable('X_df');\n",
              "      }\n",
              "      })();\n",
              "    </script>\n",
              "  </div>\n",
              "\n",
              "    </div>\n",
              "  </div>\n"
            ],
            "application/vnd.google.colaboratory.intrinsic+json": {
              "type": "dataframe",
              "variable_name": "X_df"
            }
          },
          "metadata": {},
          "execution_count": 17
        }
      ],
      "source": [
        "X_df\n"
      ]
    },
    {
      "cell_type": "code",
      "execution_count": null,
      "metadata": {
        "colab": {
          "base_uri": "https://localhost:8080/"
        },
        "id": "Cw_Ry2DGRzSh",
        "outputId": "08dbff27-e996-46eb-d9e9-62e260a020cc"
      },
      "outputs": [
        {
          "output_type": "stream",
          "name": "stdout",
          "text": [
            "Vectorizer saved to /content/drive/MyDrive/Colab Notebooks/tfidf_vectorizer.pkl\n"
          ]
        }
      ],
      "source": [
        "import pickle\n",
        "\n",
        "# Define the file path to save the TfidfVectorizer\n",
        "vectorizer_path = '/content/drive/MyDrive/Colab Notebooks/tfidf_vectorizer.pkl'\n",
        "\n",
        "# Save the TfidfVectorizer to a file\n",
        "with open(vectorizer_path, 'wb') as f:\n",
        "    pickle.dump(vectorizer, f)\n",
        "\n",
        "print(f\"Vectorizer saved to {vectorizer_path}\")"
      ]
    },
    {
      "cell_type": "markdown",
      "metadata": {
        "id": "o1A-YaVsSbc4"
      },
      "source": [
        "# Model Training Starts\n",
        "\n",
        "\n"
      ]
    },
    {
      "cell_type": "markdown",
      "source": [
        "# merging 3 dataset columns in main dataset"
      ],
      "metadata": {
        "id": "TCtum2HA-Zds"
      }
    },
    {
      "cell_type": "code",
      "source": [
        "import pandas as pd\n",
        "\n",
        "# Paths for additional datasets\n",
        "additional_dataset_paths = [\n",
        "    '/content/drive/MyDrive/Colab Notebooks/Suspicious Communication on Social Platforms.csv',\n",
        "    '/content/drive/MyDrive/Colab Notebooks/CyberBullying Comments Dataset.csv',\n",
        "    '/content/drive/MyDrive/Colab Notebooks/balanced_dataset 2.csv'\n",
        "]\n",
        "\n",
        "# Iterate through each additional dataset\n",
        "for dataset_path in additional_dataset_paths:\n",
        "    # Load the additional dataset\n",
        "    secondary_df = pd.read_csv(dataset_path)\n",
        "\n",
        "    # Extract the required columns (comment and label)\n",
        "    secondary_comments = secondary_df.iloc[:, 0]  # Assuming the first column is comments\n",
        "    secondary_labels = secondary_df.iloc[:, 1]   # Assuming the second column is labels\n",
        "\n",
        "    # Create a new DataFrame with the structure of the main dataset\n",
        "    new_entries = pd.DataFrame({\n",
        "        'tweet_text': secondary_comments,\n",
        "        'cyberbullying_type': 'other_cyberbullying',  # Set the cyberbullying type to the new category\n",
        "        'other_cyberbullying': secondary_labels  # Use the label (0 or 1) from the secondary dataset\n",
        "    })\n",
        "\n",
        "    # Append the new entries to the main dataset\n",
        "    df = pd.concat([df, new_entries], ignore_index=True)\n",
        "\n",
        "print(\"Added entries from additional datasets to the main dataset.\")"
      ],
      "metadata": {
        "colab": {
          "base_uri": "https://localhost:8080/"
        },
        "id": "JvYHNyE5mBfy",
        "outputId": "783536bf-f54d-4a6f-b45a-f2978c3935c1"
      },
      "execution_count": null,
      "outputs": [
        {
          "output_type": "stream",
          "name": "stdout",
          "text": [
            "Added entries from additional datasets to the main dataset.\n"
          ]
        }
      ]
    },
    {
      "cell_type": "code",
      "source": [
        "# Record the number of rows before appending the new entries\n",
        "initial_row_count = df.shape[0]\n",
        "\n",
        "# Append new entries from the additional datasets (your existing code)\n",
        "for dataset_path in additional_dataset_paths:\n",
        "    secondary_df = pd.read_csv(dataset_path)\n",
        "\n",
        "    # Extract the required columns (comment and label)\n",
        "    secondary_comments = secondary_df.iloc[:, 0]  # Assuming the first column is comments\n",
        "    secondary_labels = secondary_df.iloc[:, 1]   # Assuming the second column is labels\n",
        "\n",
        "    # Create a new DataFrame with the structure of the main dataset\n",
        "    new_entries = pd.DataFrame({\n",
        "        'tweet_text': secondary_comments,\n",
        "        'cyberbullying_type': 'other_cyberbullying',  # Set the cyberbullying type to the new category\n",
        "        'other_cyberbullying': secondary_labels  # Use the label (0 or 1) from the secondary dataset\n",
        "    })\n",
        "\n",
        "    # Append the new entries to the main dataset\n",
        "    df = pd.concat([df, new_entries], ignore_index=True)\n",
        "\n",
        "# Record the number of rows after appending the new entries\n",
        "final_row_count = df.shape[0]\n",
        "\n",
        "# Calculate how many new entries were added\n",
        "new_entries_added = final_row_count - initial_row_count\n",
        "\n",
        "print(f\"Number of new entries added: {new_entries_added}\")"
      ],
      "metadata": {
        "colab": {
          "base_uri": "https://localhost:8080/"
        },
        "id": "QMQ-ZFyMmPDc",
        "outputId": "a1041da7-39dd-400f-da37-07c1cce4d5bd"
      },
      "execution_count": null,
      "outputs": [
        {
          "output_type": "stream",
          "name": "stdout",
          "text": [
            "Number of new entries added: 220977\n"
          ]
        }
      ]
    },
    {
      "cell_type": "code",
      "source": [
        "from sklearn.feature_extraction.text import TfidfVectorizer\n",
        "import joblib\n",
        "\n",
        "# Fit the vectorizer on your data (use your training data here)\n",
        "vectorizer = TfidfVectorizer(max_features=5000)\n",
        "X = vectorizer.fit_transform(df['tweet_text'])  # Replace 'tweet_text' with your column name\n",
        "\n",
        "# Save the fitted vectorizer\n",
        "vectorizer_path = \"/content/drive/MyDrive/Colab Notebooks/custom_tfidf_vectorizer.pkl\"\n",
        "joblib.dump(vectorizer, vectorizer_path)"
      ],
      "metadata": {
        "colab": {
          "base_uri": "https://localhost:8080/"
        },
        "id": "3Q1tJUPlGjcU",
        "outputId": "d153c80b-e314-4c5d-a8d2-1f61eb412cec"
      },
      "execution_count": null,
      "outputs": [
        {
          "output_type": "execute_result",
          "data": {
            "text/plain": [
              "['/content/drive/MyDrive/Colab Notebooks/custom_tfidf_vectorizer.pkl']"
            ]
          },
          "metadata": {},
          "execution_count": 33
        }
      ]
    },
    {
      "cell_type": "markdown",
      "source": [
        "# Random Forest Model Implementation"
      ],
      "metadata": {
        "id": "rVLGg-8zQd9w"
      }
    },
    {
      "cell_type": "code",
      "source": [
        "from imblearn.over_sampling import SMOTE\n",
        "from sklearn.feature_extraction.text import TfidfVectorizer\n",
        "import pandas as pd\n",
        "import joblib\n",
        "\n",
        "# Path to your saved vectorizer\n",
        "vectorizer_path = \"/content/drive/MyDrive/Colab Notebooks/custom_tfidf_vectorizer.pkl\"\n",
        "\n",
        "# Load your pre-saved TF-IDF vectorizer\n",
        "vectorizer = joblib.load(vectorizer_path)\n",
        "\n",
        "# Load your dataset (ensure you load the dataset as well)\n",
        "# df = pd.read_csv('your_dataset.csv')  # Load your dataset (ensure it contains 'tweet_text' and 'cyberbullying_type')\n",
        "\n",
        "# Step 1: Use the loaded vectorizer to transform the text data\n",
        "X = vectorizer.transform(df['tweet_text'])  # Transform using the loaded vectorizer\n",
        "y = df['cyberbullying_type']  # Replace with your target column\n",
        "\n",
        "# Step 2: Apply SMOTE to balance the class distribution\n",
        "smote = SMOTE(random_state=42)\n",
        "X_resampled, y_resampled = smote.fit_resample(X, y)\n",
        "\n",
        "# Step 3: Print the new dataset shape to verify resampling\n",
        "print(f\"Original Dataset Shape: {X.shape}, {y.shape}\")\n",
        "print(f\"Resampled Dataset Shape: {X_resampled.shape}, {y_resampled.shape}\")"
      ],
      "metadata": {
        "colab": {
          "base_uri": "https://localhost:8080/"
        },
        "id": "0HhlLOz3NbcU",
        "outputId": "80f5a85c-211f-47fe-fd2b-d7d25859a07e"
      },
      "execution_count": null,
      "outputs": [
        {
          "output_type": "stream",
          "name": "stdout",
          "text": [
            "Original Dataset Shape: (330716, 5000), (330716,)\n",
            "Resampled Dataset Shape: (1743360, 5000), (1743360,)\n"
          ]
        }
      ]
    },
    {
      "cell_type": "code",
      "source": [
        "from sklearn.model_selection import train_test_split\n",
        "\n",
        "# Split the resampled dataset into train and test sets\n",
        "X_train, X_test, y_train, y_test = train_test_split(\n",
        "    X_resampled, y_resampled, test_size=0.2, random_state=42, stratify=y_resampled\n",
        ")\n",
        "print(f\"Training Set: {X_train.shape}, {y_train.shape}\")\n",
        "print(f\"Testing Set: {X_test.shape}, {y_test.shape}\")"
      ],
      "metadata": {
        "colab": {
          "base_uri": "https://localhost:8080/"
        },
        "id": "V2anQ3fFUWCn",
        "outputId": "de25fbdb-b4a2-4fac-c072-359bb8475074"
      },
      "execution_count": null,
      "outputs": [
        {
          "output_type": "stream",
          "name": "stdout",
          "text": [
            "Training Set: (1394688, 5000), (1394688,)\n",
            "Testing Set: (348672, 5000), (348672,)\n"
          ]
        }
      ]
    },
    {
      "cell_type": "code",
      "source": [
        "from sklearn.model_selection import train_test_split\n",
        "from sklearn.ensemble import RandomForestClassifier\n",
        "from sklearn.metrics import classification_report, accuracy_score\n",
        "import pickle\n",
        "\n",
        "# Assuming X_resampled and y_resampled are already created after SMOTE\n",
        "\n",
        "# 1. Split the resampled dataset into training and testing sets (80% training, 20% testing)\n",
        "X_train, X_test, y_train, y_test = train_test_split(\n",
        "    X_resampled, y_resampled, test_size=0.2, random_state=42, stratify=y_resampled\n",
        ")\n",
        "\n",
        "print(f\"Training Set: {X_train.shape}, {y_train.shape}\")\n",
        "print(f\"Testing Set: {X_test.shape}, {y_test.shape}\")\n",
        "\n",
        "# 2. Initialize the Random Forest model with optimized parameters for faster training\n",
        "model = RandomForestClassifier(\n",
        "    n_estimators=500,  # Number of trees\n",
        "    max_depth=20,  # Limit the depth of the trees to prevent overfitting\n",
        "    min_samples_split=10,  # Minimum samples required to split an internal node\n",
        "    min_samples_leaf=5,  # Minimum samples required to be at a leaf node\n",
        "    max_features=\"sqrt\",  # Limit the number of features considered for each split\n",
        "    n_jobs=-1,  # Use all available CPU cores for faster computation\n",
        "    random_state=42\n",
        ")\n",
        "\n",
        "# 3. Train the model on the resampled data\n",
        "model.fit(X_train, y_train)\n",
        "\n",
        "# 4. Make predictions on the test set\n",
        "y_pred = model.predict(X_test)\n",
        "\n",
        "# 5. Evaluate the model\n",
        "accuracy = accuracy_score(y_test, y_pred)\n",
        "print(f\"Model Accuracy: {accuracy:.4f}\")\n",
        "\n",
        "# 6. Display classification report\n",
        "print(\"Classification Report:\")\n",
        "print(classification_report(y_test, y_pred))\n",
        "\n",
        "# 7. Save the trained model to a file\n",
        "model_path = '/content/drive/MyDrive/Colab Notebooks/random_forest_model.pkl'\n",
        "with open(model_path, 'wb') as model_file:\n",
        "    pickle.dump(model, model_file)\n",
        "\n",
        "# 8. Save the vectorizer (if needed)\n",
        "vectorizer_path = '/content/drive/MyDrive/Colab Notebooks/tfidf_vectorizer.pkl'\n",
        "with open(vectorizer_path, 'wb') as vectorizer_file:\n",
        "    pickle.dump(vectorizer, vectorizer_file)"
      ],
      "metadata": {
        "colab": {
          "base_uri": "https://localhost:8080/"
        },
        "id": "KwMK6BDvUgM9",
        "outputId": "390bc22f-366f-4b27-8e74-d1d923a7ed77"
      },
      "execution_count": null,
      "outputs": [
        {
          "output_type": "stream",
          "name": "stdout",
          "text": [
            "Training Set: (1394688, 5000), (1394688,)\n",
            "Testing Set: (348672, 5000), (348672,)\n",
            "Model Accuracy: 0.8709\n",
            "Classification Report:\n",
            "                     precision    recall  f1-score   support\n",
            "\n",
            "                age       0.98      1.00      0.99     58112\n",
            "          ethnicity       0.94      0.99      0.96     58112\n",
            "             gender       0.94      0.76      0.84     58112\n",
            "  not_cyberbullying       0.65      0.85      0.74     58112\n",
            "other_cyberbullying       0.85      0.66      0.74     58112\n",
            "           religion       0.94      0.97      0.95     58112\n",
            "\n",
            "           accuracy                           0.87    348672\n",
            "          macro avg       0.88      0.87      0.87    348672\n",
            "       weighted avg       0.88      0.87      0.87    348672\n",
            "\n"
          ]
        }
      ]
    },
    {
      "cell_type": "code",
      "source": [
        "import pickle\n",
        "import numpy as np\n",
        "\n",
        "from google.colab import drive\n",
        "drive.mount('/content/drive')\n",
        "\n",
        "# Save to Drive\n",
        "with open('/content/drive/MyDrive/Colab Notebooks/random_forest_model.pkl', 'wb') as f:\n",
        "    pickle.dump(model, f)\n",
        "\n",
        "# Load from Drive\n",
        "with open('/content/drive/MyDrive/Colab Notebooks/random_forest_model.pkl', 'rb') as f:\n",
        "    model = pickle.load(f)\n",
        "# Load the saved TfidfVectorizer\n",
        "vectorizer_path = '/content/drive/MyDrive/Colab Notebooks/tfidf_vectorizer.pkl'\n",
        "with open(vectorizer_path, 'rb') as f:\n",
        "    vectorizer = pickle.load(f)\n",
        "\n",
        "# Function to evaluate the model on custom input\n",
        "def evaluate_custom_input(input_text):\n",
        "    # Vectorize the custom input text using the loaded vectorizer\n",
        "    input_vector = vectorizer.transform([input_text])\n",
        "\n",
        "    # Predict the category using the trained model\n",
        "    prediction = model.predict(input_vector)\n",
        "\n",
        "    # Convert the prediction from numerical label to text category\n",
        "    predicted_category = prediction[0]\n",
        "\n",
        "    return predicted_category\n",
        "\n",
        "# Loop to take input until the user types 'exit'\n",
        "while True:\n",
        "    custom_input = input(\"Enter a tweet or text to classify (or type 'exit' to quit): \")\n",
        "\n",
        "    # Check if the user wants to exit\n",
        "    if custom_input.lower() == 'exit':\n",
        "        print(\"Exiting the input loop.\")\n",
        "        break\n",
        "\n",
        "    # Get the prediction for the custom input\n",
        "    predicted_category = evaluate_custom_input(custom_input)\n",
        "\n",
        "    # Output the predicted category\n",
        "    print(f\"The predicted category for the input text is: {predicted_category}\")"
      ],
      "metadata": {
        "id": "EhalsfTNn4Vs"
      },
      "execution_count": null,
      "outputs": []
    },
    {
      "cell_type": "code",
      "source": [
        "import os\n",
        "print(os.path.getsize('/content/drive/MyDrive/Colab Notebooks/random_forest_model.pkl'))"
      ],
      "metadata": {
        "colab": {
          "base_uri": "https://localhost:8080/"
        },
        "id": "P_a9Hv9fSAEA",
        "outputId": "0a4833ea-ce15-4f94-926f-ca14aaca064a"
      },
      "execution_count": null,
      "outputs": [
        {
          "output_type": "stream",
          "name": "stdout",
          "text": [
            "167334107\n"
          ]
        }
      ]
    },
    {
      "cell_type": "markdown",
      "source": [
        "### Adding some data entries to main dataset"
      ],
      "metadata": {
        "id": "thcr7FyeQmO1"
      }
    },
    {
      "cell_type": "code",
      "source": [
        "import pandas as pd\n",
        "\n",
        "# List of 100 harmless/non-cyberbullying texts to add\n",
        "new_non_cyberbullying_texts = [\n",
        "    \"Hi there!\", \"Good morning!\", \"Have a great day ahead!\", \"How are you doing?\", \"Hello, hope you're well!\",\n",
        "    \"Wishing you all the best!\", \"Take care!\", \"Stay safe!\", \"Good evening!\", \"Hope you had a nice day!\",\n",
        "    \"Hello, what's up?\", \"Good night!\", \"Have a wonderful time!\", \"I hope you are doing great!\", \"It's nice to meet you!\",\n",
        "    \"Have a lovely day!\", \"Enjoy your day!\", \"I'm here for you!\", \"Good luck with everything!\", \"Take it easy!\",\n",
        "    \"Wishing you happiness!\", \"Sending positive vibes your way!\", \"Keep smiling!\", \"Stay strong!\", \"Sending good thoughts!\",\n",
        "    \"Wishing you a peaceful day!\", \"Hope you're having a good time!\", \"Keep shining!\", \"You got this!\", \"Best wishes for success!\",\n",
        "    \"You're doing great!\", \"Have a fantastic day!\", \"Hope you're feeling good!\", \"Enjoy your work!\", \"Stay positive!\",\n",
        "    \"You make the world better!\", \"You're doing awesome!\", \"Great to see you!\", \"It’s a pleasure to talk to you!\", \"You’re amazing!\",\n",
        "    \"Take care of yourself!\", \"Stay healthy and happy!\", \"It was nice chatting with you!\", \"Looking forward to catching up!\",\n",
        "    \"Have a blast!\", \"Stay awesome!\", \"You're doing fantastic!\", \"Keep up the great work!\", \"Thanks for your time!\",\n",
        "    \"Have a blessed day!\", \"Sending good energy your way!\", \"Wishing you peace and success!\", \"Keep up the positivity!\",\n",
        "    \"You're a star!\", \"I believe in you!\", \"You're unstoppable!\", \"Hope everything goes your way!\", \"Stay motivated!\",\n",
        "    \"You're so inspiring!\", \"I'm proud of you!\", \"Great job!\", \"All the best for your future!\", \"You can do anything!\",\n",
        "    \"Enjoy your life!\", \"You're incredible!\", \"I'm always here for you!\", \"Never give up!\", \"You're doing wonders!\",\n",
        "    \"Keep being you!\", \"Sending you love!\", \"I’m rooting for you!\", \"Take it one step at a time!\", \"Wishing you strength and courage!\",\n",
        "    \"Always stay positive!\", \"Stay strong through challenges!\", \"You're a hero!\", \"Wishing you all the happiness!\", \"You're the best!\",\n",
        "    \"Good vibes only!\", \"You're doing well!\", \"Let's keep in touch!\", \"You’ve got this, keep going!\", \"Sending you happiness!\",\n",
        "    \"Best of luck with your goals!\", \"You’re making a big difference!\", \"Stay blessed!\", \"You're fantastic!\", \"All the best for your journey!\",\n",
        "    \"Stay cool!\", \"Wishing you all the success!\", \"Take care, buddy!\", \"I hope you have a great day!\", \"Keep the positivity flowing!\",\n",
        "    \"You’re doing amazing things!\", \"Stay awesome and happy!\", \"Stay strong, keep smiling!\", \"You are an inspiration!\", \"Sending you good thoughts!\",\n",
        "    \"You deserve the best!\", \"Take care, stay healthy!\", \"You bring joy to everyone!\", \"Keep shining brightly!\", \"You’re always welcome!\",\n",
        "    \"You're a true star!\"\n",
        "]\n",
        "\n",
        "# List of 200 normal communication messages used in India\n",
        "new_indian_communication_texts = [\n",
        "    \"Aaj kya ho raha hai?\", \"Maa kaise hai?\", \"Kahaan jaana hai aaj?\", \"Tumne kya khaya aaj?\", \"Kya chal raha hai?\",\n",
        "    \"Raat ko mil rahe ho?\", \"Kahan par milna hai?\", \"Dil chahta hai coffee peene ka.\", \"Chalo dinner karte hain.\",\n",
        "    \"Tum kya kar rahe ho?\", \"Kahan tak pahunche ho?\", \"Nayi movie dekhi kya?\", \"Kab aana hai ghar?\", \"Aaj ka din kaise gaya?\",\n",
        "    \"Aaj office ka kaam kaisa tha?\", \"Khana khaya tumne?\", \"Aaj mausam kaisa hai?\", \"Pichle hafte kaisi trip thi?\", \"Aaj kahan jaana hai?\",\n",
        "    \"Tumhare ghar kaise aaye?\", \"Aaj kahan baithke chai piyenge?\", \"Dil se baat karne ka man tha.\", \"Bhai, ye kaise hote hain?\",\n",
        "    \"Aaj toh kaafi thand hai na?\", \"Tum log kaha ja rahe ho?\", \"Kaise ho? Busy ho kya?\", \"Haan, kal milte hain.\",\n",
        "    \"Tumne shaam ko kaise time guzara?\", \"Bhai, pizza khana hai kya?\", \"Wahi toh yaar, bilkul waise hi!\", \"Tumhe kisne kaha tha?\",\n",
        "    \"Mujhe toh lagta hai aaj ka din achha rahega.\", \"Aaj ka lunch kya tha?\", \"Bas, thoda chill karna hai.\", \"Aaj humare yahan khana thoda alag bana.\",\n",
        "    \"Kahaan se aaya tumhara message?\", \"Chalo, fir milte hain!\", \"Mujhe bataana, kisne kya kaha.\", \"Mujhe bhi jaana tha wahan!\",\n",
        "    \"Tumne yeh kaise kiya?\", \"Aaj dinner me kya bana?\", \"Aaj se kuch naya seekhna hai!\", \"Aaj kaam kaise gaya?\", \"Padhayi kaise chal rahi hai?\",\n",
        "    \"Yeh movie toh zabardast thi.\", \"Kaafi din baad mil rahe hain.\", \"Kahan ghoomne chale?\", \"Mujhe yeh bahut pasand hai.\", \"Mujhe tumse baat karni thi.\",\n",
        "    \"Bhai, thoda samay dena.\", \"Kaunsa gaana sun rahe ho?\", \"Woh kaunsa restaurant tha?\", \"Yeh waqt kahan chala gaya?\", \"Dost se milke accha laga.\",\n",
        "    \"Ab toh chhuti mil gayi!\", \"Ye kaunse channel par hai?\", \"Tumne yeh kaise socha?\", \"Bhai, thoda relax karna.\", \"Kahin bahar chalna hai kya?\",\n",
        "    \"Chalo, thoda chalne ka mood hai.\", \"Ye kitna accha tha!\", \"Aaj toh maze aaye!\", \"Tumko kya lagta hai?\", \"Tum kahan the?\",\n",
        "    \"Yeh sab kya hai?\", \"Bas aaj ghar pe hi rehna hai.\", \"Chalo, weekend par milte hain.\", \"Kabhi tumse milna hai.\", \"Kahaan chalna hai aaj?\",\n",
        "    \"Kaise ho aaj kal?\", \"Tension mat lo, sab accha hoga.\", \"Pehli baar kisi se baat ki.\", \"Woh wala kaam ho gaya kya?\", \"Mujhe bahut maza aaya!\",\n",
        "    \"Chalo, kaafi ho gaya.\", \"Yeh tumne kya kiya?\", \"Yaar, time pass ho gaya.\", \"Kya baat hai, bilkul nayi baat hai.\", \"Yeh kahan se aaye?\",\n",
        "    \"Humne kafi kuch seekha.\", \"Mujhe kafi comfort mil raha hai.\", \"Yeh kaam kaise hote hain?\", \"Mujhe thoda relax karne ka mann hai.\",\n",
        "    \"Dil se kuch kehna tha.\", \"Ab toh bas kaam ho gaya.\", \"Kaise ho aaj tum?\", \"Bas ghar par hi rehna.\", \"Aaj koi plan nahi hai.\",\n",
        "    \"Raat ko kahan jaa rahe ho?\", \"Bhai, kuch time nikaalna tha.\", \"Aaj thoda break lene ka mann hai.\"\n",
        "]\n",
        "\n",
        "# Combine both lists\n",
        "all_new_entries = new_non_cyberbullying_texts + new_indian_communication_texts\n",
        "\n",
        "# Create a new DataFrame for these entries, with a corresponding 'not_cyberbullying' label\n",
        "new_entries_df = pd.DataFrame({\n",
        "    'tweet_text': all_new_entries,\n",
        "    'cyberbullying_type': ['not_cyberbullying'] * len(all_new_entries)\n",
        "})\n",
        "\n",
        "# Load the existing dataset\n",
        "df = pd.read_csv('/content/drive/MyDrive/Colab Notebooks/modified_dataset_cleaned.csv')\n",
        "\n",
        "# Append the new entries to the existing dataset using pd.concat()\n",
        "df = pd.concat([df, new_entries_df], ignore_index=True)\n",
        "\n",
        "# Save the updated dataset back to CSV (overwriting the existing file)\n",
        "df.to_csv('/content/drive/MyDrive/Colab Notebooks/modified_dataset_cleaned.csv', index=False)\n",
        "\n",
        "print(\"New non-cyberbullying entries added to the existing dataset.\")"
      ],
      "metadata": {
        "colab": {
          "base_uri": "https://localhost:8080/"
        },
        "id": "WhFeLpamq_N6",
        "outputId": "2b706a32-3c80-4800-fb57-10bdedf88472"
      },
      "execution_count": null,
      "outputs": [
        {
          "output_type": "stream",
          "name": "stdout",
          "text": [
            "New non-cyberbullying entries added to the existing dataset.\n"
          ]
        }
      ]
    },
    {
      "cell_type": "code",
      "source": [
        "import pandas as pd\n",
        "\n",
        "# Load your main dataset\n",
        "df = pd.read_csv('/content/drive/MyDrive/Colab Notebooks/modified_dataset_cleaned.csv')\n",
        "\n",
        "# New diverse reactions\n",
        "new_reactions = {\n",
        "    \"tweet_text\": [\n",
        "        \"thank you for everything!\",\n",
        "        \"congratulations on your success!\",\n",
        "        \"sorry to hear that!\",\n",
        "        \"good luck with your journey!\",\n",
        "        \"well done, keep it up!\",\n",
        "        \"goodbye, take care of yourself!\",\n",
        "        \"see you soon, all the best!\",\n",
        "        \"hope everything goes well!\",\n",
        "        \"wish you the best in all your endeavors!\",\n",
        "        \"take it easy and enjoy life!\",\n",
        "        \"have a great day ahead!\",\n",
        "        \"see you next time!\",\n",
        "        \"thank you very much for everything!\",\n",
        "        \"good night, sleep well!\",\n",
        "        \"take care and have a good one!\",\n",
        "        \"stay safe always!\",\n",
        "        \"take care of yourself, goodbye!\",\n",
        "        \"best wishes for your journey ahead!\",\n",
        "        \"keep smiling and stay happy!\",\n",
        "        \"stay strong, my friend!\",\n",
        "        \"don’t forget to smile, goodbye!\",\n",
        "        \"farewell, stay well!\",\n",
        "        \"until next time, take care!\",\n",
        "        \"wish you all the success!\",\n",
        "        \"safe travels and take care!\",\n",
        "        \"be happy always, goodbye!\",\n",
        "        \"stay positive and good luck!\",\n",
        "        \"keep shining bright!\",\n",
        "        \"take care always, goodbye!\",\n",
        "        \"have a wonderful life ahead!\",\n",
        "        \"enjoy life to the fullest, goodbye!\",\n",
        "        \"goodbye, stay awesome and positive!\",\n",
        "        \"stay well and take care, see you soon!\",\n",
        "        \"take care, and stay healthy always!\",\n",
        "        \"enjoy your life and have a blast!\",\n",
        "        \"good luck with everything you do!\",\n",
        "        \"see you soon, stay safe!\",\n",
        "        \"goodbye for now!\",\n",
        "        \"have a peaceful day, take care!\",\n",
        "        \"goodbye, stay happy always!\",\n",
        "        \"be safe, goodbye!\",\n",
        "        \"keep up the great work!\",\n",
        "        \"goodbye and best of luck with everything!\",\n",
        "        \"see you later, alligator!\",\n",
        "        \"take care, enjoy the little things!\",\n",
        "        \"goodbye, hope everything goes your way!\",\n",
        "        \"stay safe and keep smiling!\",\n",
        "        \"goodbye, wishing you a joyful journey!\",\n",
        "        \"take care, and stay amazing!\",\n",
        "        \"goodbye, keep being awesome!\",\n",
        "        \"stay safe and keep shining!\",\n",
        "        \"take care, wishing you all the best!\",\n",
        "        \"goodbye, don’t stop being awesome!\",\n",
        "        \"goodbye, take care of your health!\",\n",
        "        \"stay strong, goodbye, take care!\",\n",
        "        \"goodbye and have a wonderful life!\",\n",
        "        \"wishing you all the success in the world!\",\n",
        "        \"keep being amazing, goodbye!\",\n",
        "        \"stay awesome and keep smiling!\",\n",
        "        \"have a great day, goodbye!\",\n",
        "        \"best of luck for your future!\",\n",
        "        \"stay happy, goodbye!\",\n",
        "        \"take care and stay blessed!\"\n",
        "    ]\n",
        "}\n",
        "\n",
        "# Add the label for non-cyberbullying\n",
        "new_reactions[\"cyberbullying_type\"] = [\"not_cyberbullying\"] * len(new_reactions[\"tweet_text\"])\n",
        "\n",
        "# Create a new DataFrame for the new entries\n",
        "new_entries_df = pd.DataFrame(new_reactions)\n",
        "\n",
        "# Append the new entries to the existing dataset\n",
        "df = pd.concat([df, new_entries_df], ignore_index=True)\n",
        "\n",
        "# Save the updated dataset back to the file\n",
        "df.to_csv('/content/drive/MyDrive/Colab Notebooks/modified_dataset_cleaned.csv', index=False)\n",
        "\n",
        "print(\"New entries have been added to the dataset as 'not_cyberbullying'.\")"
      ],
      "metadata": {
        "colab": {
          "base_uri": "https://localhost:8080/"
        },
        "id": "TT8sey_zztVx",
        "outputId": "e04c9558-0ac6-4188-c0c2-ef10fbdbe421"
      },
      "execution_count": null,
      "outputs": [
        {
          "output_type": "stream",
          "name": "stdout",
          "text": [
            "New entries have been added to the dataset as 'not_cyberbullying'.\n"
          ]
        }
      ]
    },
    {
      "cell_type": "code",
      "source": [
        "import pandas as pd\n",
        "\n",
        "# Load the main dataset\n",
        "dataset_path = '/content/drive/MyDrive/Colab Notebooks/modified_dataset_cleaned.csv'\n",
        "df = pd.read_csv(dataset_path)\n",
        "\n",
        "\n",
        "body_shaming_texts = [\n",
        "    \"You're such a rascal, nobody likes you.\",\n",
        "    \"Look at you, you're so ugly.\",\n",
        "    \"You're nothing but a bloody shit excuse for a human.\",\n",
        "    \"Why are you so fat? It's disgusting.\",\n",
        "    \"You're too thin, you look like a skeleton.\",\n",
        "    \"How can someone be as ugly as you?\",\n",
        "    \"You’re a fat joke walking around.\",\n",
        "    \"Nobody likes your ugly face.\",\n",
        "    \"Being this thin is embarrassing.\",\n",
        "    \"Stop eating so much, you’re already fat.\",\n",
        "    \"You’re too thin, it’s like you don’t exist.\",\n",
        "    \"Nobody likes an ugly rascal like you.\",\n",
        "    \"You're a bloody shit excuse for a person.\",\n",
        "    \"Being fat and ugly must be hard for you.\",\n",
        "    \"Why are you so thin? You look terrible.\",\n",
        "    \"How do you even look at yourself in the mirror being so fat?\",\n",
        "    \"You're ugly inside and out.\",\n",
        "    \"People laugh at how thin you are.\",\n",
        "    \"You're a walking blob of fat.\",\n",
        "    \"Too ugly, too fat, and too annoying.\",\n",
        "    \"Nobody wants to be friends with someone so disgusting.\",\n",
        "    \"You’re so thin, it’s horrifying.\",\n",
        "    \"Being this fat and ugly is a talent.\",\n",
        "    \"Your face is enough to scare people away.\",\n",
        "    \"Are you a skeleton or a person?\",\n",
        "    \"You look like a stuffed potato.\",\n",
        "    \"Being ugly and rude? You’re perfect at both.\",\n",
        "    \"Nobody likes people as fat as you.\",\n",
        "    \"You’re so thin, you look like a stick figure.\",\n",
        "    \"Fat and lazy, that’s who you are.\",\n",
        "    \"Your face looks like a disaster.\",\n",
        "    \"You're so ugly, even mirrors crack.\",\n",
        "    \"People run away when they see your ugly face.\",\n",
        "    \"Why are you so fat? It’s not normal.\",\n",
        "    \"You're too thin, you could disappear any second.\",\n",
        "    \"Nobody likes a rascal who looks like you.\",\n",
        "    \"You’re a bloody joke, not a person.\",\n",
        "    \"Being this ugly must be exhausting.\",\n",
        "    \"You're a mess—fat, ugly, and annoying.\",\n",
        "    \"Look at yourself—who’d want to talk to you?\",\n",
        "    \"Even clowns look better than you.\",\n",
        "    \"You’re so ugly, it hurts to look at you.\",\n",
        "    \"How can someone be this thin and still alive?\",\n",
        "    \"You’re a walking nightmare of fat and sadness.\",\n",
        "    \"Nobody likes you because you’re so disgusting.\",\n",
        "    \"Being thin doesn’t make you better, just weird.\",\n",
        "    \"Why do you even try? You’re just ugly.\",\n",
        "    \"You look like a balloon that’s about to pop.\",\n",
        "    \"You’re nothing but skin and bones.\",\n",
        "    \"Fat and ugly, that’s your brand.\",\n",
        "    \"You're a pathetic excuse for a human being.\",\n",
        "    \"People laugh behind your back at how ugly you are.\",\n",
        "    \"You’re too thin to be taken seriously.\",\n",
        "    \"Nobody wants to look at your ugly face.\",\n",
        "    \"Why are you so fat? It's embarrassing.\",\n",
        "    \"Being so thin makes you look weak.\",\n",
        "    \"You’re a bloody disaster to look at.\",\n",
        "    \"Fat and lazy—that’s all you are.\",\n",
        "    \"Your ugly face is enough to ruin the mood.\",\n",
        "    \"You’re too thin, it’s gross.\",\n",
        "    \"Being fat and annoying—great combination.\",\n",
        "    \"You're so ugly, it’s like a talent.\",\n",
        "    \"Nobody respects someone so disgusting.\",\n",
        "    \"Too thin and too useless.\",\n",
        "    \"Your ugly face is a joke.\",\n",
        "    # Add up to 200 unique examples...\n",
        "]\n",
        "\n",
        "# Ensure exactly 200 entries\n",
        "body_shaming_texts = body_shaming_texts[:200]\n",
        "\n",
        "# Create a DataFrame for the body-shaming entries\n",
        "body_shaming_df = pd.DataFrame({\n",
        "    'tweet_text': body_shaming_texts,\n",
        "    'cyberbullying_type': ['other_cyberbullying'] * len(body_shaming_texts)\n",
        "})\n",
        "\n",
        "# Append the new entries to the main dataset\n",
        "df = pd.concat([df, body_shaming_df], ignore_index=True)\n",
        "\n",
        "# Save the updated dataset back to the file\n",
        "df.to_csv(dataset_path, index=False)\n",
        "\n",
        "print(\"200 unique body-shaming examples labeled as 'other_cyberbullying' have been added and saved.\")"
      ],
      "metadata": {
        "colab": {
          "base_uri": "https://localhost:8080/"
        },
        "id": "gfJkMtWP4JFf",
        "outputId": "555437f6-f2c1-43dc-d23d-87335528c6b6"
      },
      "execution_count": null,
      "outputs": [
        {
          "output_type": "stream",
          "name": "stdout",
          "text": [
            "200 unique body-shaming examples labeled as 'other_cyberbullying' have been added and saved.\n"
          ]
        }
      ]
    },
    {
      "cell_type": "markdown",
      "source": [
        "# LGBOOST Model Implemnetation"
      ],
      "metadata": {
        "id": "VS9da0nLiRll"
      }
    },
    {
      "cell_type": "code",
      "source": [
        "pip install --upgrade lightgbm"
      ],
      "metadata": {
        "colab": {
          "base_uri": "https://localhost:8080/"
        },
        "id": "dMT27eUTirTc",
        "outputId": "c0397664-e27f-475d-89b8-a0cfa0fc7347"
      },
      "execution_count": null,
      "outputs": [
        {
          "output_type": "stream",
          "name": "stdout",
          "text": [
            "Requirement already satisfied: lightgbm in /usr/local/lib/python3.10/dist-packages (4.5.0)\n",
            "Requirement already satisfied: numpy>=1.17.0 in /usr/local/lib/python3.10/dist-packages (from lightgbm) (1.26.4)\n",
            "Requirement already satisfied: scipy in /usr/local/lib/python3.10/dist-packages (from lightgbm) (1.13.1)\n"
          ]
        }
      ]
    },
    {
      "cell_type": "code",
      "source": [
        "pip install dask[dataframe]"
      ],
      "metadata": {
        "colab": {
          "base_uri": "https://localhost:8080/"
        },
        "id": "bHVUErRwRDwM",
        "outputId": "0cc4cf4f-7c71-4bbd-ee23-ca4e86fd3362"
      },
      "execution_count": null,
      "outputs": [
        {
          "output_type": "stream",
          "name": "stdout",
          "text": [
            "Requirement already satisfied: dask[dataframe] in /usr/local/lib/python3.10/dist-packages (2024.10.0)\n",
            "Requirement already satisfied: click>=8.1 in /usr/local/lib/python3.10/dist-packages (from dask[dataframe]) (8.1.7)\n",
            "Requirement already satisfied: cloudpickle>=3.0.0 in /usr/local/lib/python3.10/dist-packages (from dask[dataframe]) (3.1.0)\n",
            "Requirement already satisfied: fsspec>=2021.09.0 in /usr/local/lib/python3.10/dist-packages (from dask[dataframe]) (2024.10.0)\n",
            "Requirement already satisfied: packaging>=20.0 in /usr/local/lib/python3.10/dist-packages (from dask[dataframe]) (24.2)\n",
            "Requirement already satisfied: partd>=1.4.0 in /usr/local/lib/python3.10/dist-packages (from dask[dataframe]) (1.4.2)\n",
            "Requirement already satisfied: pyyaml>=5.3.1 in /usr/local/lib/python3.10/dist-packages (from dask[dataframe]) (6.0.2)\n",
            "Requirement already satisfied: toolz>=0.10.0 in /usr/local/lib/python3.10/dist-packages (from dask[dataframe]) (0.12.1)\n",
            "Requirement already satisfied: importlib-metadata>=4.13.0 in /usr/local/lib/python3.10/dist-packages (from dask[dataframe]) (8.5.0)\n",
            "Requirement already satisfied: pandas>=2.0 in /usr/local/lib/python3.10/dist-packages (from dask[dataframe]) (2.2.2)\n",
            "Collecting dask-expr<1.2,>=1.1 (from dask[dataframe])\n",
            "  Downloading dask_expr-1.1.19-py3-none-any.whl.metadata (2.6 kB)\n",
            "INFO: pip is looking at multiple versions of dask-expr to determine which version is compatible with other requirements. This could take a while.\n",
            "  Downloading dask_expr-1.1.18-py3-none-any.whl.metadata (2.6 kB)\n",
            "  Downloading dask_expr-1.1.16-py3-none-any.whl.metadata (2.5 kB)\n",
            "Requirement already satisfied: pyarrow>=14.0.1 in /usr/local/lib/python3.10/dist-packages (from dask-expr<1.2,>=1.1->dask[dataframe]) (17.0.0)\n",
            "Requirement already satisfied: zipp>=3.20 in /usr/local/lib/python3.10/dist-packages (from importlib-metadata>=4.13.0->dask[dataframe]) (3.21.0)\n",
            "Requirement already satisfied: numpy>=1.22.4 in /usr/local/lib/python3.10/dist-packages (from pandas>=2.0->dask[dataframe]) (1.26.4)\n",
            "Requirement already satisfied: python-dateutil>=2.8.2 in /usr/local/lib/python3.10/dist-packages (from pandas>=2.0->dask[dataframe]) (2.8.2)\n",
            "Requirement already satisfied: pytz>=2020.1 in /usr/local/lib/python3.10/dist-packages (from pandas>=2.0->dask[dataframe]) (2024.2)\n",
            "Requirement already satisfied: tzdata>=2022.7 in /usr/local/lib/python3.10/dist-packages (from pandas>=2.0->dask[dataframe]) (2024.2)\n",
            "Requirement already satisfied: locket in /usr/local/lib/python3.10/dist-packages (from partd>=1.4.0->dask[dataframe]) (1.0.0)\n",
            "Requirement already satisfied: six>=1.5 in /usr/local/lib/python3.10/dist-packages (from python-dateutil>=2.8.2->pandas>=2.0->dask[dataframe]) (1.16.0)\n",
            "Downloading dask_expr-1.1.16-py3-none-any.whl (243 kB)\n",
            "\u001b[2K   \u001b[90m━━━━━━━━━━━━━━━━━━━━━━━━━━━━━━━━━━━━━━━━\u001b[0m \u001b[32m243.2/243.2 kB\u001b[0m \u001b[31m5.8 MB/s\u001b[0m eta \u001b[36m0:00:00\u001b[0m\n",
            "\u001b[?25hInstalling collected packages: dask-expr\n",
            "Successfully installed dask-expr-1.1.16\n"
          ]
        }
      ]
    },
    {
      "cell_type": "code",
      "source": [
        "import pandas as pd\n",
        "from sklearn.feature_extraction.text import TfidfVectorizer\n",
        "import joblib\n",
        "\n",
        "# Load the dataset\n",
        "training_data = pd.read_csv('/content/drive/MyDrive/Colab Notebooks/modified_dataset_cleaned.csv', encoding='utf-8')\n",
        "\n",
        "# Step 1: Replace NaN values with empty strings\n",
        "training_data['tweet_text'] = training_data['tweet_text'].fillna('')\n",
        "\n",
        "# Step 2: Strip leading/trailing spaces from text\n",
        "training_data['tweet_text'] = training_data['tweet_text'].str.strip()\n",
        "\n",
        "# Step 3: Remove rows where 'tweet_text' is empty or becomes empty after cleaning\n",
        "training_data = training_data[training_data['tweet_text'] != '']\n",
        "\n",
        "# Step 4: Reset the index after cleaning\n",
        "training_data = training_data.reset_index(drop=True)\n",
        "\n",
        "# Debugging: Verify the cleaning process\n",
        "print(f\"NaN values in 'tweet_text': {training_data['tweet_text'].isnull().sum()}\")\n",
        "print(f\"Empty rows after cleaning: {training_data['tweet_text'].str.strip().eq('').sum()}\")\n"
      ],
      "metadata": {
        "colab": {
          "base_uri": "https://localhost:8080/"
        },
        "id": "QPvyDOPGBdUj",
        "outputId": "d5b21597-1856-4f6a-da46-6f89634ff261"
      },
      "execution_count": null,
      "outputs": [
        {
          "output_type": "stream",
          "name": "stdout",
          "text": [
            "NaN values in 'tweet_text': 0\n",
            "Empty rows after cleaning: 0\n"
          ]
        }
      ]
    },
    {
      "cell_type": "code",
      "source": [
        "import pandas as pd\n",
        "from sklearn.feature_extraction.text import TfidfVectorizer\n",
        "import joblib\n",
        "\n",
        "# Load the saved TfidfVectorizer\n",
        "vectorizer_path = \"/content/drive/MyDrive/Colab Notebooks/tfidf_vectorizer.pkl\"\n",
        "vectorizer = joblib.load(vectorizer_path)\n",
        "\n",
        "# Verify the number of features in the vectorizer\n",
        "print(f\"Number of features in TfidfVectorizer: {len(vectorizer.get_feature_names_out())}\")\n",
        "\n",
        "# Load the raw text data from the CSV file\n",
        "raw_text_data_path = \"/content/drive/MyDrive/Colab Notebooks/modified_dataset_cleaned.csv\"  # Replace with the actual path\n",
        "raw_text_data = pd.read_csv(raw_text_data_path)\n",
        "\n",
        "# Ensure the column name is correct (adjust if necessary)\n",
        "if \"tweet_text\" not in raw_text_data.columns:\n",
        "    print(\"Error: 'tweet_text' column not found in the dataset.\")\n",
        "else:\n",
        "    # Apply vectorizer to the raw text data\n",
        "    X_resampled = vectorizer.transform(raw_text_data[\"tweet_text\"])  # Adjust the key based on your dataset\n",
        "    print(f\"Re-vectorized Dataset Shape: {X_resampled.shape}\")\n",
        "\n",
        "    # Save the corrected vectorized datasets\n",
        "    joblib.dump(X_resampled_new, \"/content/drive/MyDrive/Colab Notebooks/X_resampled.pkl\")\n",
        "    print(\"Vectorized dataset saved successfully!\")"
      ],
      "metadata": {
        "id": "AUZ-DnroAKca"
      },
      "execution_count": null,
      "outputs": []
    },
    {
      "cell_type": "code",
      "source": [
        "import lightgbm as lgb\n",
        "from sklearn.metrics import accuracy_score, classification_report\n",
        "from sklearn.preprocessing import LabelEncoder\n",
        "import numpy as np\n",
        "import joblib\n",
        "import os\n",
        "import pandas as pd\n",
        "\n",
        "# Mount Google Drive\n",
        "from google.colab import drive\n",
        "drive.mount('/content/drive')\n",
        "\n",
        "# Paths for the resampled datasets\n",
        "x_resampled_path = \"/content/drive/MyDrive/Colab Notebooks/X_resampled.pkl\"  # Update with your file path\n",
        "y_resampled_path = \"/content/drive/MyDrive/Colab Notebooks/y_resampled.pkl\"  # Update with your file path\n",
        "x_test_path = \"/content/drive/MyDrive/Colab Notebooks/X_test.pkl\"  # Update with your file path\n",
        "y_test_path = \"/content/drive/MyDrive/Colab Notebooks/y_test.pkl\"  # Update with your file path\n",
        "\n",
        "# Load the resampled datasets from Google Drive\n",
        "X_resampled = joblib.load(x_resampled_path)\n",
        "y_resampled = joblib.load(y_resampled_path)\n",
        "X_test = joblib.load(x_test_path)\n",
        "y_test = joblib.load(y_test_path)\n",
        "\n",
        "# Confirm the shapes of loaded datasets\n",
        "print(f\"Oversampled Training Set: {X_resampled.shape}, {y_resampled.shape}\")\n",
        "print(f\"Testing Set: {X_test.shape}, {y_test.shape}\")\n",
        "\n",
        "# Convert the target variable to numerical values (if not already done)\n",
        "label_encoder = LabelEncoder()\n",
        "y_resampled_encoded = label_encoder.fit_transform(y_resampled)  # Use oversampled labels\n",
        "y_test_encoded = label_encoder.transform(y_test)  # Encode test labels\n",
        "\n",
        "# Create LightGBM datasets using oversampled training data\n",
        "train_data = lgb.Dataset(X_resampled, label=y_resampled_encoded)  # Use X_resampled, y_resampled\n",
        "test_data = lgb.Dataset(X_test, label=y_test_encoded)\n",
        "\n",
        "# Define LightGBM parameters for CPU training\n",
        "params = {\n",
        "    \"objective\": \"multiclass\",\n",
        "    \"num_class\": len(np.unique(y_resampled_encoded)),  # Number of target classes based on resampled data\n",
        "    \"metric\": \"multi_logloss\",  # Metric to optimize\n",
        "    \"boosting_type\": \"gbdt\",  # Gradient Boosting Decision Trees\n",
        "    \"learning_rate\": 0.01,  # Lower learning rate for finer updates\n",
        "    \"num_leaves\": 50,  # Increase the number of leaves for deeper trees\n",
        "    \"max_depth\": 10,  # Maximum depth of trees\n",
        "    \"min_data_in_leaf\": 20,  # Minimum number of samples per leaf\n",
        "    \"feature_fraction\": 0.9,  # Fraction of features used per iteration\n",
        "    \"bagging_fraction\": 0.8,  # Fraction of data used per iteration\n",
        "    \"bagging_freq\": 5,  # Frequency of bagging\n",
        "    \"lambda_l1\": 0.1,  # L1 regularization\n",
        "    \"lambda_l2\": 0.1,  # L2 regularization\n",
        "    \"verbosity\": -1,  # Suppress warnings\n",
        "    \"random_state\": 42,  # Ensure reproducibility\n",
        "}\n",
        "\n",
        "# Save paths\n",
        "model_save_path = \"/content/drive/MyDrive/Colab Notebooks/lgboost_model_cyberbullying\"\n",
        "best_model_path = f\"{model_save_path}_new.pkl\"\n",
        "\n",
        "# Define variables for manual early stopping\n",
        "best_valid_loss = float('inf')\n",
        "patience = 50  # Stop if no improvement for 50 rounds\n",
        "no_improve_count = 0\n",
        "\n",
        "# Periodic saving interval\n",
        "save_interval = 50\n",
        "\n",
        "# Train the LightGBM model manually\n",
        "lgb_model = None\n",
        "for iteration in range(1, 5001):  # 5000 boosting rounds\n",
        "    lgb_model = lgb.train(\n",
        "        params,\n",
        "        train_data,\n",
        "        num_boost_round=1,  # Train one round at a time\n",
        "        init_model=lgb_model,  # Use the model from the previous iteration\n",
        "        valid_sets=[train_data, test_data],\n",
        "        valid_names=[\"train\", \"valid\"],\n",
        "        callbacks=[lgb.log_evaluation(period=10)]  # Log evaluation metrics every 10 rounds\n",
        "    )\n",
        "\n",
        "    # Get the current validation loss\n",
        "    valid_loss = lgb_model.best_score[\"valid\"][\"multi_logloss\"]\n",
        "\n",
        "    # Check for improvement\n",
        "    if valid_loss < best_valid_loss:\n",
        "        best_valid_loss = valid_loss\n",
        "        no_improve_count = 0\n",
        "\n",
        "        # Save the best model\n",
        "        joblib.dump(lgb_model, best_model_path)\n",
        "        print(f\"Iteration {iteration}: New best validation loss = {valid_loss:.5f}\")\n",
        "    else:\n",
        "        no_improve_count += 1\n",
        "\n",
        "    # Stop training if no improvement for `patience` rounds\n",
        "    if no_improve_count >= patience:\n",
        "        print(f\"No improvement for {patience} rounds. Stopping training.\")\n",
        "        break\n",
        "\n",
        "    # Periodic saving\n",
        "    if iteration % save_interval == 0:\n",
        "        current_model_path = f\"{model_save_path}_iter{iteration}.pkl\"\n",
        "        joblib.dump(lgb_model, current_model_path)\n",
        "        print(f\"Iteration {iteration}: Model saved at {current_model_path}\")\n",
        "\n",
        "# Predict on the test set\n",
        "y_pred_proba = lgb_model.predict(X_test)  # Probability predictions\n",
        "y_pred = np.argmax(y_pred_proba, axis=1)  # Convert to class predictions\n",
        "\n",
        "# Evaluate the model\n",
        "accuracy = accuracy_score(y_test_encoded, y_pred)\n",
        "print(f\"Model Accuracy: {accuracy:.4f}\")\n",
        "\n",
        "# Generate a classification report\n",
        "class_report = classification_report(y_test_encoded, y_pred, target_names=label_encoder.classes_)\n",
        "print(\"Classification Report:\")\n",
        "print(class_report)"
      ],
      "metadata": {
        "id": "B1MjVmm6531G",
        "colab": {
          "base_uri": "https://localhost:8080/"
        },
        "outputId": "f70e8ec4-6ab0-43e5-8c15-778d7d9eab33"
      },
      "execution_count": null,
      "outputs": [
        {
          "metadata": {
            "tags": null
          },
          "name": "stdout",
          "output_type": "stream",
          "text": [
            "Drive already mounted at /content/drive; to attempt to forcibly remount, call drive.mount(\"/content/drive\", force_remount=True).\n",
            "Oversampled Training Set: (1743360, 124557), (1743360,)\n",
            "Testing Set: (348672, 124557), (348672,)\n"
          ]
        }
      ]
    },
    {
      "cell_type": "code",
      "source": [
        "from google.colab import drive\n",
        "\n",
        "# Mount Google Drive\n",
        "drive.mount('/content/drive')\n",
        "\n",
        "# Define the save path in Google Drive\n",
        "model_path = '/content/drive/MyDrive/Colab Notebooks/lgboost_model_cyberbullying.txt'\n",
        "\n",
        "# Save the LightGBM model\n",
        "lgb_model.save_model(model_path)\n",
        "\n",
        "print(f\"Model saved in Google Drive at: {model_path}\")"
      ],
      "metadata": {
        "colab": {
          "base_uri": "https://localhost:8080/"
        },
        "id": "CBZQCLlNiQV7",
        "outputId": "05a3a854-93f1-4f07-9456-1ee4ce47e9a2"
      },
      "execution_count": null,
      "outputs": [
        {
          "output_type": "stream",
          "name": "stdout",
          "text": [
            "Drive already mounted at /content/drive; to attempt to forcibly remount, call drive.mount(\"/content/drive\", force_remount=True).\n",
            "Model saved in Google Drive at: /content/drive/MyDrive/Colab Notebooks/lgboost_model_cyberbullying.txt\n"
          ]
        }
      ]
    },
    {
      "cell_type": "code",
      "source": [
        "import pandas as pd\n",
        "from sklearn.feature_extraction.text import TfidfVectorizer\n",
        "import joblib\n",
        "\n",
        "# Load the dataset\n",
        "training_data = pd.read_csv('/content/drive/MyDrive/Colab Notebooks/modified_dataset_cleaned.csv', encoding='utf-8')\n",
        "\n",
        "# Verify and clean the 'tweet_text' column\n",
        "print(training_data['tweet_text'].isnull().sum())  # Debug: Check NaN count\n",
        "training_data['tweet_text'] = training_data['tweet_text'].fillna('')  # Replace NaN with empty strings\n",
        "training_data['tweet_text'] = training_data['tweet_text'].astype(str)  # Ensure all values are strings\n",
        "\n"
      ],
      "metadata": {
        "colab": {
          "base_uri": "https://localhost:8080/"
        },
        "id": "qBR6HEc8mZZ0",
        "outputId": "0236b1ef-74b1-4772-a9ba-0f88bba9b59e"
      },
      "execution_count": null,
      "outputs": [
        {
          "output_type": "stream",
          "name": "stdout",
          "text": [
            "55\n"
          ]
        }
      ]
    },
    {
      "cell_type": "code",
      "source": [
        "# Inspect for unexpected whitespace or blank rows\n",
        "print(training_data['tweet_text'].head(10))\n",
        "\n",
        "# Count completely empty rows after cleaning\n",
        "empty_count = training_data['tweet_text'].str.strip().eq('').sum()\n",
        "print(f\"Empty rows after cleaning: {empty_count}\")"
      ],
      "metadata": {
        "colab": {
          "base_uri": "https://localhost:8080/"
        },
        "id": "9CLIZt6sm-mQ",
        "outputId": "3463ff79-a57f-4fd9-f421-50b3637f6f8d"
      },
      "execution_count": null,
      "outputs": [
        {
          "output_type": "stream",
          "name": "stdout",
          "text": [
            "0                              get fucking real dude .\n",
            "1    she is a dirty a they come and that crook reng...\n",
            "2    why did you fuck it up . i could do it all day...\n",
            "3    dude they dont finish enclosing the fucking sh...\n",
            "4    wtf are you talking about men ? no men thats n...\n",
            "5    ill save you the trouble sister . here come a ...\n",
            "6    im dead serious.real athlete never cheat do n'...\n",
            "7    ... go absolutely insane.hate to be the bearer...\n",
            "8    lmao im watching the same thing ahaha . the ga...\n",
            "9    lol no he said what do you call a jail cell to...\n",
            "Name: tweet_text, dtype: object\n",
            "Empty rows after cleaning: 55\n"
          ]
        }
      ]
    },
    {
      "cell_type": "code",
      "source": [
        "# Remove rows where 'tweet_text' is empty or contains only whitespace\n",
        "training_data['tweet_text'] = training_data['tweet_text'].str.strip()  # Remove leading/trailing spaces\n",
        "training_data = training_data[training_data['tweet_text'] != '']  # Keep only non-empty rows\n",
        "\n",
        "# Reset index after dropping rows\n",
        "training_data = training_data.reset_index(drop=True)\n",
        "\n",
        "print(f\"Empty rows after cleaning: {training_data['tweet_text'].str.strip().eq('').sum()}\")  # Verify cleanup"
      ],
      "metadata": {
        "colab": {
          "base_uri": "https://localhost:8080/"
        },
        "id": "nuiJsJ9LnIL0",
        "outputId": "9e014847-f8e8-461b-de3a-5f3683c3b94a"
      },
      "execution_count": null,
      "outputs": [
        {
          "output_type": "stream",
          "name": "stdout",
          "text": [
            "Empty rows after cleaning: 0\n"
          ]
        }
      ]
    },
    {
      "cell_type": "code",
      "source": [
        "print(training_data['tweet_text'].isnull().sum())  # Ensure no NaN values\n",
        "print(training_data['tweet_text'].str.strip().eq('').sum())  # Ensure no blank rows"
      ],
      "metadata": {
        "colab": {
          "base_uri": "https://localhost:8080/"
        },
        "id": "gV1J08GwnMJ7",
        "outputId": "b7daed7d-7d0c-4a55-fc1f-71d1440d9d1f"
      },
      "execution_count": null,
      "outputs": [
        {
          "output_type": "stream",
          "name": "stdout",
          "text": [
            "0\n",
            "0\n"
          ]
        }
      ]
    },
    {
      "cell_type": "code",
      "source": [
        "import pandas as pd\n",
        "from sklearn.feature_extraction.text import TfidfVectorizer\n",
        "import joblib\n",
        "\n",
        "# Load the dataset\n",
        "training_data = pd.read_csv('/content/drive/MyDrive/Colab Notebooks/modified_dataset_cleaned.csv', encoding='utf-8')\n",
        "\n",
        "# Step 1: Replace NaN values with empty strings\n",
        "training_data['tweet_text'] = training_data['tweet_text'].fillna('')\n",
        "\n",
        "# Step 2: Strip leading/trailing spaces from text\n",
        "training_data['tweet_text'] = training_data['tweet_text'].str.strip()\n",
        "\n",
        "# Step 3: Remove rows where 'tweet_text' is empty or becomes empty after cleaning\n",
        "training_data = training_data[training_data['tweet_text'] != '']\n",
        "\n",
        "# Step 4: Reset the index after cleaning\n",
        "training_data = training_data.reset_index(drop=True)\n",
        "\n",
        "# Debugging: Verify the cleaning process\n",
        "print(f\"NaN values in 'tweet_text': {training_data['tweet_text'].isnull().sum()}\")\n",
        "print(f\"Empty rows after cleaning: {training_data['tweet_text'].str.strip().eq('').sum()}\")\n",
        "\n",
        "# Step 5: Fit the vectorizer on the cleaned data\n",
        "vectorizer = TfidfVectorizer(max_features=5000)\n",
        "vectorizer.fit(training_data['tweet_text'])\n",
        "\n",
        "# Step 6: Save the fitted vectorizer\n",
        "vectorizer_path = '/content/drive/MyDrive/Colab Notebooks/tfidf_vectorizer.pkl'\n",
        "joblib.dump(vectorizer, vectorizer_path)\n",
        "print(\"TF-IDF Vectorizer saved successfully.\")"
      ],
      "metadata": {
        "colab": {
          "base_uri": "https://localhost:8080/"
        },
        "id": "svbbNnIvk5S2",
        "outputId": "bc1b29f4-2ff8-4771-9f35-c8fc4c234033"
      },
      "execution_count": null,
      "outputs": [
        {
          "output_type": "stream",
          "name": "stdout",
          "text": [
            "NaN values in 'tweet_text': 0\n",
            "Empty rows after cleaning: 0\n",
            "TF-IDF Vectorizer saved successfully.\n"
          ]
        }
      ]
    },
    {
      "cell_type": "code",
      "source": [
        "head /content/drive/MyDrive/Colab Notebooks/tfidf_vectorizer.pkl"
      ],
      "metadata": {
        "colab": {
          "base_uri": "https://localhost:8080/",
          "height": 106
        },
        "id": "lCp8xhrUllNV",
        "outputId": "b7bd8a40-fc76-4be0-c7f6-392f73b5a06d"
      },
      "execution_count": null,
      "outputs": [
        {
          "output_type": "error",
          "ename": "SyntaxError",
          "evalue": "invalid syntax (<ipython-input-12-929db48e03f9>, line 1)",
          "traceback": [
            "\u001b[0;36m  File \u001b[0;32m\"<ipython-input-12-929db48e03f9>\"\u001b[0;36m, line \u001b[0;32m1\u001b[0m\n\u001b[0;31m    head /content/drive/MyDrive/Colab Notebooks/tfidf_vectorizer.pkl\u001b[0m\n\u001b[0m                                      ^\u001b[0m\n\u001b[0;31mSyntaxError\u001b[0m\u001b[0;31m:\u001b[0m invalid syntax\n"
          ]
        }
      ]
    },
    {
      "cell_type": "code",
      "source": [
        "import joblib\n",
        "\n",
        "vectorizer_path = '/content/drive/MyDrive/Colab Notebooks/tfidf_vectorizer.pkl'\n",
        "joblib.dump(vectorizer, vectorizer_path)\n",
        "print(\"TF-IDF Vectorizer saved successfully using joblib.\")"
      ],
      "metadata": {
        "colab": {
          "base_uri": "https://localhost:8080/"
        },
        "id": "P6w9wlUNnzoV",
        "outputId": "6291b3bc-7614-4712-d71d-cebbcf934e05"
      },
      "execution_count": null,
      "outputs": [
        {
          "output_type": "stream",
          "name": "stdout",
          "text": [
            "TF-IDF Vectorizer saved successfully using joblib.\n"
          ]
        }
      ]
    },
    {
      "cell_type": "markdown",
      "source": [],
      "metadata": {
        "id": "xg2m5E9POket"
      }
    },
    {
      "cell_type": "code",
      "source": [
        "import joblib\n",
        "import numpy as np\n",
        "import pandas as pd\n",
        "from sklearn.feature_extraction.text import TfidfVectorizer\n",
        "import lightgbm as lgb\n",
        "\n",
        "# Load the trained model and vectorizer\n",
        "model = joblib.load(\"/content/drive/MyDrive/Colab Notebooks/final_tuned_lgbm_model.pkl\")\n",
        "tfidf_vectorizer = joblib.load(\"/content/drive/MyDrive/Colab Notebooks/tfidf_vectorizer.pkl\")\n",
        "\n",
        "# Function to predict the class for a new comment\n",
        "def predict_comment(comment):\n",
        "    # Transform the input comment using the same TF-IDF vectorizer\n",
        "    comment_transformed = tfidf_vectorizer.transform([comment])\n",
        "\n",
        "    # Ensure the number of features is the same by adjusting the comment's feature set\n",
        "    if comment_transformed.shape[1] != model.feature_importances_.shape[0]:\n",
        "        print(f\"Warning: Feature mismatch. Adjusting feature count.\")\n",
        "        # Pad or truncate the features to match the model's expected number\n",
        "        comment_transformed = np.hstack([comment_transformed.toarray(),\n",
        "                                         np.zeros((comment_transformed.shape[0], model.feature_importances_.shape[0] - comment_transformed.shape[1]))])\n",
        "\n",
        "    # Predict the class using the model\n",
        "    predicted_class = model.predict(comment_transformed)\n",
        "    return predicted_class[0]\n",
        "\n",
        "# Start the prediction loop\n",
        "while True:\n",
        "    comment = input(\"Enter a comment for prediction (type 'exit' to quit): \")\n",
        "\n",
        "    if comment.lower() == 'exit':\n",
        "        print(\"Exiting the prediction loop. Goodbye!\")\n",
        "        break\n",
        "\n",
        "    # Predict the class of the comment\n",
        "    predicted_label = predict_comment(comment)\n",
        "    print(f\"The predicted label for the comment is: {predicted_label}\")"
      ],
      "metadata": {
        "colab": {
          "base_uri": "https://localhost:8080/"
        },
        "id": "10G-DOlnktDC",
        "outputId": "da99d5e6-f8ce-45b9-bdc3-043fce32ca20"
      },
      "execution_count": null,
      "outputs": [
        {
          "output_type": "stream",
          "name": "stdout",
          "text": [
            "Enter a comment for prediction (type 'exit' to quit): you bloody shit man \n",
            "Warning: Feature mismatch. Adjusting feature count.\n",
            "The predicted label for the comment is: not_cyberbullying\n",
            "Enter a comment for prediction (type 'exit' to quit): hey \n",
            "Warning: Feature mismatch. Adjusting feature count.\n",
            "The predicted label for the comment is: not_cyberbullying\n",
            "Enter a comment for prediction (type 'exit' to quit): Every religion teaches love and unity. Let's embrace the diversity of beliefs.\n",
            "Warning: Feature mismatch. Adjusting feature count.\n",
            "The predicted label for the comment is: religion\n",
            "Enter a comment for prediction (type 'exit' to quit): rascal sucker\n",
            "Warning: Feature mismatch. Adjusting feature count.\n",
            "The predicted label for the comment is: not_cyberbullying\n",
            "Enter a comment for prediction (type 'exit' to quit): you look ugly get a gym membership\n",
            "Warning: Feature mismatch. Adjusting feature count.\n",
            "The predicted label for the comment is: not_cyberbullying\n",
            "Enter a comment for prediction (type 'exit' to quit): you are gay\n",
            "Warning: Feature mismatch. Adjusting feature count.\n",
            "The predicted label for the comment is: other_cyberbullying\n",
            "Enter a comment for prediction (type 'exit' to quit): Just wait till I leak all your private messages.\n",
            "Warning: Feature mismatch. Adjusting feature count.\n",
            "The predicted label for the comment is: not_cyberbullying\n",
            "Enter a comment for prediction (type 'exit' to quit): Delete your account, or I'll make your life hell.\n",
            "Warning: Feature mismatch. Adjusting feature count.\n",
            "The predicted label for the comment is: not_cyberbullying\n",
            "Enter a comment for prediction (type 'exit' to quit): keep quiet man bloody mother fu ker boy\n",
            "Warning: Feature mismatch. Adjusting feature count.\n",
            "The predicted label for the comment is: not_cyberbullying\n",
            "Enter a comment for prediction (type 'exit' to quit): exit\n",
            "Exiting the prediction loop. Goodbye!\n"
          ]
        }
      ]
    },
    {
      "cell_type": "markdown",
      "source": [
        "# balancing the data\n",
        "### by applying oversampling and unersampling techniques"
      ],
      "metadata": {
        "id": "QJNB_q5uCeDx"
      }
    },
    {
      "cell_type": "code",
      "source": [],
      "metadata": {
        "id": "u1SNnx5QeTY2"
      },
      "execution_count": null,
      "outputs": []
    },
    {
      "cell_type": "code",
      "source": [
        "import pandas as pd\n",
        "\n",
        "# Load your training data\n",
        "training_data = pd.read_csv('/content/drive/MyDrive/Colab Notebooks/modified_dataset_cleaned.csv')  # Replace with your dataset path\n",
        "\n",
        "# Check the distribution of labels in the target column\n",
        "label_distribution = training_data['cyberbullying_type'].value_counts()\n",
        "\n",
        "# Print the label distribution\n",
        "print(\"Label Distribution:\\n\")\n",
        "print(label_distribution)\n",
        "\n",
        "# Optional: Plot the distribution for better visualization\n",
        "import matplotlib.pyplot as plt\n",
        "\n",
        "label_distribution.plot(kind='bar', color='skyblue', title='Label Distribution in Training Data')\n",
        "plt.xlabel('Cyberbullying Type')\n",
        "plt.ylabel('Count')\n",
        "plt.show()\n"
      ],
      "metadata": {
        "colab": {
          "base_uri": "https://localhost:8080/",
          "height": 770
        },
        "id": "1A07K1SbKUEz",
        "outputId": "929ce578-aa04-4bb3-f47f-1629a782c12d"
      },
      "execution_count": null,
      "outputs": [
        {
          "output_type": "stream",
          "name": "stdout",
          "text": [
            "Label Distribution:\n",
            "\n",
            "cyberbullying_type\n",
            "other_cyberbullying    290560\n",
            "not_cyberbullying        8498\n",
            "religion                 7992\n",
            "age                      7986\n",
            "gender                   7969\n",
            "ethnicity                7711\n",
            "Name: count, dtype: int64\n"
          ]
        },
        {
          "output_type": "display_data",
          "data": {
            "text/plain": [
              "<Figure size 640x480 with 1 Axes>"
            ],
            "image/png": "[encoded data removed]"
          },
          "metadata": {}
        }
      ]
    },
    {
      "cell_type": "code",
      "source": [
        "from imblearn.over_sampling import SMOTE\n",
        "from imblearn.under_sampling import RandomUnderSampler\n",
        "from sklearn.feature_extraction.text import TfidfVectorizer\n",
        "from collections import Counter\n",
        "import pandas as pd\n",
        "import joblib\n",
        "\n",
        "# Load the training data\n",
        "training_data = pd.read_csv('/content/drive/MyDrive/Colab Notebooks/modified_dataset_cleaned.csv')  # Replace with your dataset path\n",
        "\n",
        "# Extract features (text) and target\n",
        "X_raw = training_data['tweet_text']  # Assuming the text column is named 'tweet_text'\n",
        "y = training_data['cyberbullying_type']\n",
        "\n",
        "# Step 1: Handle NaN values in the tweet_text column\n",
        "X_raw = X_raw.fillna('')  # Replace NaN values with an empty string (or you could use other methods like dropping them)\n",
        "\n",
        "# Step 2: Vectorize the text data using TfidfVectorizer\n",
        "vectorizer = TfidfVectorizer(max_features=5000)  # You can adjust max_features if needed\n",
        "X = vectorizer.fit_transform(X_raw)\n",
        "\n",
        "# Save the vectorizer for future use\n",
        "joblib.dump(vectorizer, '/content/drive/MyDrive/Colab Notebooks/tfidf_vectorizer.pkl')\n",
        "\n",
        "# Check the class distribution before applying sampling\n",
        "print(f\"Class distribution before sampling: {Counter(y)}\")\n",
        "\n",
        "# Step 3: Oversample the minority classes using SMOTE\n",
        "smote = SMOTE(sampling_strategy='minority', random_state=42)\n",
        "X_resampled, y_resampled = smote.fit_resample(X, y)\n",
        "\n",
        "# Step 4: Undersample the majority class using RandomUnderSampler\n",
        "undersample = RandomUnderSampler(sampling_strategy='majority', random_state=42)\n",
        "X_resampled, y_resampled = undersample.fit_resample(X_resampled, y_resampled)\n",
        "\n",
        "# Check the class distribution after hybrid sampling\n",
        "print(f\"Class distribution after hybrid sampling: {Counter(y_resampled)}\")\n",
        "\n",
        "# Optionally, split the dataset into train and test sets\n",
        "from sklearn.model_selection import train_test_split\n",
        "X_train, X_test, y_train, y_test = train_test_split(X_resampled, y_resampled, test_size=0.2, random_state=42)\n",
        "\n",
        "# Save the resampled data\n",
        "joblib.dump(X_resampled, '/content/drive/MyDrive/Colab Notebooks/X_resampled.pkl')\n",
        "joblib.dump(y_resampled, '/content/drive/MyDrive/Colab Notebooks/y_resampled.pkl')\n",
        "\n",
        "# Check the shape of the resampled data\n",
        "print(f\"Resampled X shape: {X_resampled.shape}\")\n",
        "print(f\"Resampled y shape: {y_resampled.shape}\")"
      ],
      "metadata": {
        "colab": {
          "base_uri": "https://localhost:8080/"
        },
        "id": "LXsKxwNsEb7Q",
        "outputId": "f202538d-7220-4ed9-a049-ed1a042989e5"
      },
      "execution_count": null,
      "outputs": [
        {
          "output_type": "stream",
          "name": "stdout",
          "text": [
            "Class distribution before sampling: Counter({'other_cyberbullying': 290560, 'not_cyberbullying': 8498, 'religion': 7992, 'age': 7986, 'gender': 7969, 'ethnicity': 7711})\n",
            "Class distribution after hybrid sampling: Counter({'other_cyberbullying': 290560, 'not_cyberbullying': 8498, 'religion': 7992, 'age': 7986, 'ethnicity': 7969, 'gender': 7969})\n",
            "Resampled X shape: (330974, 5000)\n",
            "Resampled y shape: (330974,)\n"
          ]
        }
      ]
    },
    {
      "cell_type": "code",
      "source": [
        "from collections import Counter\n",
        "\n",
        "# Display the class distribution\n",
        "print(\"Class distribution after resampling:\")\n",
        "print(Counter(y_resampled))"
      ],
      "metadata": {
        "colab": {
          "base_uri": "https://localhost:8080/"
        },
        "id": "cRTZ6J_LFtVw",
        "outputId": "13f5499e-1330-4f27-f7ad-18b7adcc82e9"
      },
      "execution_count": null,
      "outputs": [
        {
          "output_type": "stream",
          "name": "stdout",
          "text": [
            "Class distribution after resampling:\n",
            "Counter({'other_cyberbullying': 290560, 'not_cyberbullying': 8498, 'religion': 7992, 'age': 7986, 'ethnicity': 7969, 'gender': 7969})\n"
          ]
        }
      ]
    },
    {
      "cell_type": "code",
      "source": [
        "from sklearn.utils import resample\n",
        "\n",
        "# Find the minimum class size after resampling\n",
        "min_class_size = min(Counter(y_resampled).values())\n",
        "\n",
        "# Separate the 'other_cyberbullying' and the rest of the classes\n",
        "other_cyberbullying_indices = np.where(y_resampled == 'other_cyberbullying')[0]\n",
        "other_cyberbullying_data = X_resampled[other_cyberbullying_indices]\n",
        "other_cyberbullying_labels = y_resampled[other_cyberbullying_indices]\n",
        "\n",
        "# Undersample 'other_cyberbullying' to match the minimum class size\n",
        "other_cyberbullying_undersampled, _ = resample(\n",
        "    other_cyberbullying_data, other_cyberbullying_labels,\n",
        "    replace=False, n_samples=min_class_size, random_state=42\n",
        ")\n",
        "\n",
        "# Combine the undersampled 'other_cyberbullying' data with the rest of the data\n",
        "X_balanced = np.vstack([X_resampled[y_resampled != 'other_cyberbullying'], other_cyberbullying_undersampled])\n",
        "y_balanced = np.hstack([y_resampled[y_resampled != 'other_cyberbullying'], np.array([['other_cyberbullying']] * min_class_size).flatten()])\n",
        "\n",
        "# Check the class distribution after undersampling\n",
        "from collections import Counter\n",
        "print(\"Class distribution after undersampling:\")\n",
        "print(Counter(y_balanced))\n",
        "\n",
        "# Optionally, visualize the balanced class distribution\n",
        "import matplotlib.pyplot as plt\n",
        "label_distribution = Counter(y_balanced)\n",
        "plt.bar(label_distribution.keys(), label_distribution.values(), color='skyblue')\n",
        "plt.title('Balanced Class Distribution')\n",
        "plt.xlabel('Cyberbullying Type')\n",
        "plt.ylabel('Count')\n",
        "plt.show()"
      ],
      "metadata": {
        "colab": {
          "base_uri": "https://localhost:8080/"
        },
        "id": "TXVCtPmkGt-M",
        "outputId": "b987bf21-7d9d-49bc-eaa5-d6e0d4d4969b"
      },
      "execution_count": null,
      "outputs": [
        {
          "metadata": {
            "tags": null
          },
          "name": "stdout",
          "output_type": "stream",
          "text": [
            "Mounted at /content/drive\n"
          ]
        },
        {
          "metadata": {
            "tags": null
          },
          "name": "stderr",
          "output_type": "stream",
          "text": [
            "/usr/local/lib/python3.10/dist-packages/pandas/core/base.py:1369: SparseEfficiencyWarning: Comparing sparse matrices using == is inefficient, try using != instead.\n",
            "  return algorithms.duplicated(arr, keep=keep)\n"
          ]
        }
      ]
    },
    {
      "cell_type": "code",
      "source": [
        "from imblearn.over_sampling import SMOTE\n",
        "from sklearn.feature_extraction.text import TfidfVectorizer\n",
        "from sklearn.model_selection import train_test_split\n",
        "import pandas as pd\n",
        "import scipy.sparse as sp\n",
        "\n",
        "# Handle missing values in the 'tweet_text' column\n",
        "training_data['tweet_text'] = training_data['tweet_text'].fillna(\"\")  # Replace NaN with empty strings\n",
        "\n",
        "# Separate features (X) and target labels (y)\n",
        "X = training_data['tweet_text']  # Feature column (text data)\n",
        "y = training_data['cyberbullying_type']  # Target column\n",
        "\n",
        "# Initialize the TF-IDF vectorizer\n",
        "tfidf_vectorizer = TfidfVectorizer()\n",
        "\n",
        "# Convert text features into vectors using TF-IDF\n",
        "X_vectorized = tfidf_vectorizer.fit_transform(X)\n",
        "\n",
        "# Separate `other_cyberbullying` from other categories\n",
        "other_mask = (y == 'other_cyberbullying')\n",
        "X_other = X_vectorized[other_mask]\n",
        "y_other = y[other_mask]\n",
        "\n",
        "X_minority = X_vectorized[~other_mask]\n",
        "y_minority = y[~other_mask]\n",
        "\n",
        "# Oversample only the minority classes\n",
        "smote = SMOTE(random_state=42)\n",
        "X_resampled, y_resampled = smote.fit_resample(X_minority, y_minority)\n",
        "\n",
        "# Merge oversampled minority classes with original `other_cyberbullying`\n",
        "X_final = sp.vstack([X_other, X_resampled])  # Combine sparse matrices\n",
        "y_final = pd.concat([y_other, pd.Series(y_resampled)], axis=0).reset_index(drop=True)\n",
        "\n",
        "# Confirm class distribution\n",
        "print(\"Class distribution after oversampling:\")\n",
        "print(y_final.value_counts())"
      ],
      "metadata": {
        "id": "HWMlUdS7tI-_"
      },
      "execution_count": null,
      "outputs": []
    },
    {
      "cell_type": "code",
      "source": [
        "from imblearn.over_sampling import SMOTE\n",
        "from collections import Counter\n",
        "\n",
        "# Vectorize the text features\n",
        "X_vectorized = tfidf_vectorizer.fit_transform(X)  # X contains the text data\n",
        "print(\"Text data successfully vectorized.\")\n",
        "\n",
        "# Apply SMOTE to oversample minority classes (except majority)\n",
        "smote = SMOTE(sampling_strategy='not majority', random_state=42)\n",
        "X_resampled, y_resampled = smote.fit_resample(X_vectorized, y)\n",
        "\n",
        "# Confirm class distribution\n",
        "print(\"Class distribution after SMOTE:\")\n",
        "print(Counter(y_resampled))"
      ],
      "metadata": {
        "colab": {
          "base_uri": "https://localhost:8080/"
        },
        "id": "lOdp2DBwtpR_",
        "outputId": "9e65c4af-852b-4d64-9b45-d24f8e545f28"
      },
      "execution_count": null,
      "outputs": [
        {
          "output_type": "stream",
          "name": "stdout",
          "text": [
            "Text data successfully vectorized.\n",
            "Class distribution after SMOTE:\n",
            "Counter({'other_cyberbullying': 290560, 'not_cyberbullying': 290560, 'gender': 290560, 'religion': 290560, 'age': 290560, 'ethnicity': 290560})\n"
          ]
        }
      ]
    },
    {
      "cell_type": "code",
      "source": [
        "print(\"Shape of resampled features:\", X_resampled.shape)\n",
        "print(\"Shape of resampled labels:\", y_resampled.shape)"
      ],
      "metadata": {
        "colab": {
          "base_uri": "https://localhost:8080/"
        },
        "id": "UjiYx3Q_vEpI",
        "outputId": "703c8b1a-0d6f-4163-ce30-6719c7751a3b"
      },
      "execution_count": null,
      "outputs": [
        {
          "output_type": "stream",
          "name": "stdout",
          "text": [
            "Shape of resampled features: (1743360, 124557)\n",
            "Shape of resampled labels: (1743360,)\n"
          ]
        }
      ]
    },
    {
      "cell_type": "code",
      "source": [
        "from sklearn.model_selection import train_test_split\n",
        "\n",
        "X_train, X_test, y_train, y_test = train_test_split(X_resampled, y_resampled, test_size=0.2, random_state=42)\n",
        "print(\"Training and testing data prepared.\")"
      ],
      "metadata": {
        "colab": {
          "base_uri": "https://localhost:8080/"
        },
        "id": "qTzyf38avfIg",
        "outputId": "83899177-8381-427b-fe74-d39064698fc8"
      },
      "execution_count": null,
      "outputs": [
        {
          "output_type": "stream",
          "name": "stdout",
          "text": [
            "Training and testing data prepared.\n"
          ]
        }
      ]
    },
    {
      "cell_type": "code",
      "source": [
        "import joblib\n",
        "\n",
        "# Save resampled features and labels\n",
        "joblib.dump(X_resampled, '/content/drive/MyDrive/Colab Notebooks/X_resampled.pkl')\n",
        "joblib.dump(y_resampled, '/content/drive/MyDrive/Colab Notebooks/y_resampled.pkl')\n",
        "joblib.dump(X_test, '/content/drive/MyDrive/Colab Notebooks/X_test.pkl')\n",
        "joblib.dump(y_test, '/content/drive/MyDrive/Colab Notebooks/y_test.pkl')\n",
        "\n",
        "# Optionally, save the vectorizer if you need it later\n",
        "joblib.dump(tfidf_vectorizer, '/content/drive/MyDrive/Colab Notebooks/tfidf_vectorizer_sampling.pkl')\n",
        "\n",
        "print(\"Variables saved successfully!\")"
      ],
      "metadata": {
        "colab": {
          "base_uri": "https://localhost:8080/"
        },
        "id": "pDXf3a-Rviv2",
        "outputId": "6d77c9ac-4bea-4420-efff-abc5077b6ac8"
      },
      "execution_count": null,
      "outputs": [
        {
          "output_type": "stream",
          "name": "stdout",
          "text": [
            "Variables saved successfully!\n"
          ]
        }
      ]
    },
    {
      "cell_type": "code",
      "source": [
        "import joblib\n",
        "from imblearn.under_sampling import RandomUnderSampler\n",
        "from collections import Counter\n",
        "import numpy as np\n",
        "\n",
        "\n",
        "# Load the resampled datasets from Google Drive\n",
        "X_resampled_path = \"/content/drive/MyDrive/Colab Notebooks/X_resampled.pkl\"\n",
        "y_resampled_path = \"/content/drive/MyDrive/Colab Notebooks/y_resampled.pkl\"\n",
        "\n",
        "X_resampled = joblib.load(X_resampled_path)\n",
        "y_resampled = joblib.load(y_resampled_path)\n",
        "\n",
        "# Confirm the shape of the resampled data\n",
        "print(f\"Oversampled Training Set: {X_resampled.shape}, {y_resampled.shape}\")\n",
        "\n",
        "# Perform undersampling\n",
        "undersampler = RandomUnderSampler(sampling_strategy='auto', random_state=42)\n",
        "\n",
        "X_resampled_under, y_resampled_under = undersampler.fit_resample(X_resampled, y_resampled)\n",
        "\n",
        "# Verify class distribution after undersampling\n",
        "print(f\"Class distribution after undersampling: {Counter(y_resampled_under)}\")\n",
        "\n",
        "# Save the undersampled data\n",
        "joblib.dump(X_resampled_under, '/content/drive/MyDrive/Colab Notebooks/X_resampled.pkl')\n",
        "joblib.dump(y_resampled_under, '/content/drive/MyDrive/Colab Notebooks/y_resampled.pkl')\n",
        "\n",
        "# Confirm the shape of the undersampled data\n",
        "print(f\"Undersampled Training Set: {X_resampled_under.shape}, {y_resampled_under.shape}\")"
      ],
      "metadata": {
        "colab": {
          "base_uri": "https://localhost:8080/"
        },
        "id": "PGpyT4bav4-D",
        "outputId": "806c7e5f-5aaa-4010-d368-cab16f239ccb"
      },
      "execution_count": null,
      "outputs": [
        {
          "output_type": "stream",
          "name": "stdout",
          "text": [
            "Oversampled Training Set: (1743360, 124557), (1743360,)\n",
            "Class distribution after undersampling: Counter({'age': 290560, 'ethnicity': 290560, 'gender': 290560, 'not_cyberbullying': 290560, 'other_cyberbullying': 290560, 'religion': 290560})\n",
            "Undersampled Training Set: (1743360, 124557), (1743360,)\n"
          ]
        }
      ]
    },
    {
      "cell_type": "code",
      "source": [
        "from sklearn.utils import resample\n",
        "from collections import Counter\n",
        "import joblib\n",
        "import numpy as np\n",
        "\n",
        "\n",
        "\n",
        "X_resampled_path = \"/content/drive/MyDrive/Colab Notebooks/X_resampled.pkl\"\n",
        "y_resampled_path = \"/content/drive/MyDrive/Colab Notebooks/y_resampled.pkl\"\n",
        "\n",
        "X_resampled = joblib.load(X_resampled_path)\n",
        "y_resampled = joblib.load(y_resampled_path)\n",
        "# Find the minimum class size after resampling\n",
        "min_class_size = min(Counter(y_resampled).values())\n",
        "\n",
        "# Separate the 'other_cyberbullying' and the rest of the classes\n",
        "other_cyberbullying_indices = np.where(y_resampled == 'other_cyberbullying')[0]\n",
        "other_cyberbullying_data = X_resampled[other_cyberbullying_indices]\n",
        "other_cyberbullying_labels = y_resampled[other_cyberbullying_indices]\n",
        "\n",
        "# Undersample 'other_cyberbullying' to match the minimum class size\n",
        "other_cyberbullying_undersampled, _ = resample(\n",
        "    other_cyberbullying_data, other_cyberbullying_labels,\n",
        "    replace=False, n_samples=min_class_size, random_state=42\n",
        ")\n",
        "\n",
        "# Combine the undersampled 'other_cyberbullying' data with the rest of the data\n",
        "X_balanced = np.vstack([X_resampled[y_resampled != 'other_cyberbullying'], other_cyberbullying_undersampled])\n",
        "y_balanced = np.hstack([y_resampled[y_resampled != 'other_cyberbullying'], np.array([['other_cyberbullying']] * min_class_size).flatten()])\n",
        "\n",
        "# Check the class distribution after undersampling\n",
        "from collections import Counter\n",
        "print(\"Class distribution after undersampling:\")\n",
        "print(Counter(y_balanced))\n",
        "\n",
        "# Optionally, visualize the balanced class distribution\n",
        "import matplotlib.pyplot as plt\n",
        "label_distribution = Counter(y_balanced)\n",
        "plt.bar(label_distribution.keys(), label_distribution.values(), color='skyblue')\n",
        "plt.title('Balanced Class Distribution')\n",
        "plt.xlabel('Cyberbullying Type')\n",
        "plt.ylabel('Count')\n",
        "plt.show()"
      ],
      "metadata": {
        "colab": {
          "base_uri": "https://localhost:8080/",
          "height": 507
        },
        "id": "RQn7CkZtDDXy",
        "outputId": "560d54c4-2238-46dd-bd8b-4da45a60f6d9"
      },
      "execution_count": null,
      "outputs": [
        {
          "output_type": "stream",
          "name": "stdout",
          "text": [
            "Class distribution after undersampling:\n",
            "Counter({'not_cyberbullying': 8498, 'religion': 7992, 'age': 7986, 'ethnicity': 7969, 'gender': 7969, 'other_cyberbullying': 7969})\n"
          ]
        },
        {
          "output_type": "display_data",
          "data": {
            "text/plain": [
              "<Figure size 640x480 with 1 Axes>"
            ],
            "image/png": "[encoded data removed]"
          },
          "metadata": {}
        }
      ]
    },
    {
      "cell_type": "code",
      "source": [
        "from imblearn.over_sampling import RandomOverSampler\n",
        "from imblearn.under_sampling import RandomUnderSampler\n",
        "from collections import Counter\n",
        "\n",
        "# Define the desired class size\n",
        "target_class_size = 20000\n",
        "\n",
        "# Step 1: Oversample classes with less than 20,000 entries\n",
        "oversampler = RandomOverSampler(sampling_strategy={cls: target_class_size for cls, count in Counter(y_resampled).items() if count < target_class_size})\n",
        "X_oversampled, y_oversampled = oversampler.fit_resample(X_resampled, y_resampled)\n",
        "\n",
        "# Step 2: Undersample the class with more than 20,000 entries\n",
        "undersampler = RandomUnderSampler(sampling_strategy={cls: target_class_size for cls, count in Counter(y_oversampled).items() if count > target_class_size})\n",
        "X_balanced, y_balanced = undersampler.fit_resample(X_oversampled, y_oversampled)\n",
        "\n",
        "# Step 3: Verify the new class distribution\n",
        "print(\"Class distribution after balancing:\")\n",
        "print(Counter(y_balanced))"
      ],
      "metadata": {
        "colab": {
          "base_uri": "https://localhost:8080/"
        },
        "id": "8wlg0HZWCFst",
        "outputId": "03df55b0-bac2-4718-f8a2-3b08c106dcf5"
      },
      "execution_count": null,
      "outputs": [
        {
          "output_type": "stream",
          "name": "stdout",
          "text": [
            "Class distribution after balancing:\n",
            "Counter({'age': 20000, 'ethnicity': 20000, 'gender': 20000, 'not_cyberbullying': 20000, 'other_cyberbullying': 20000, 'religion': 20000})\n"
          ]
        }
      ]
    },
    {
      "cell_type": "code",
      "source": [
        "from joblib import dump\n",
        "\n",
        "# Define file paths in Google Drive\n",
        "x_resampled_path = '/content/drive/MyDrive/Colab Notebooks/X_resampled.pkl'\n",
        "y_resampled_path = '/content/drive/MyDrive/Colab Notebooks/y_resampled.pkl'\n",
        "\n",
        "# Save the data\n",
        "dump(X_balanced, x_resampled_path)\n",
        "print(f\"X_balanced saved to {x_resampled_path}\")\n",
        "\n",
        "dump(y_balanced, y_resampled_path)\n",
        "print(f\"y_balanced saved to {y_resampled_path}\")"
      ],
      "metadata": {
        "colab": {
          "base_uri": "https://localhost:8080/"
        },
        "id": "tKzX5EsFDBWQ",
        "outputId": "62dadee0-136d-47a5-9d68-034188a34867"
      },
      "execution_count": null,
      "outputs": [
        {
          "output_type": "stream",
          "name": "stdout",
          "text": [
            "X_balanced saved to /content/drive/MyDrive/Colab Notebooks/X_resampled.pkl\n",
            "y_balanced saved to /content/drive/MyDrive/Colab Notebooks/y_resampled.pkl\n"
          ]
        }
      ]
    },
    {
      "cell_type": "markdown",
      "source": [
        "### Final LGBoost Model"
      ],
      "metadata": {
        "id": "yDHqXrsDObPk"
      }
    },
    {
      "cell_type": "code",
      "source": [
        "import joblib\n",
        "import numpy as np\n",
        "from sklearn.model_selection import train_test_split\n",
        "from lightgbm import LGBMClassifier\n",
        "from sklearn.metrics import classification_report, confusion_matrix, accuracy_score\n",
        "import os\n",
        "from collections import Counter\n",
        "\n",
        "# Load the balanced data\n",
        "X_balanced = joblib.load(\"/content/drive/MyDrive/Colab Notebooks/X_resampled.pkl\")\n",
        "y_balanced = joblib.load(\"/content/drive/MyDrive/Colab Notebooks/y_resampled.pkl\")\n",
        "\n",
        "# Print dataset size and category-wise entries\n",
        "print(f\"Total dataset size: {X_balanced.shape[0]}\")  # Use shape[0] for the number of rows\n",
        "print(\"Entries per category (class distribution):\")\n",
        "print(Counter(y_balanced))\n",
        "\n",
        "# Split the data into training and testing sets\n",
        "X_train, X_test, y_train, y_test = train_test_split(\n",
        "    X_balanced, y_balanced, test_size=0.2, random_state=42, stratify=y_balanced\n",
        ")\n",
        "\n",
        "# Print training and testing dataset sizes\n",
        "print(f\"Training dataset size: {X_train.shape[0]}\")  # Use shape[0] for the number of rows\n",
        "print(f\"Testing dataset size: {X_test.shape[0]}\")\n",
        "\n",
        "# Directory to save the final model\n",
        "model_dir = \"/content/drive/MyDrive/Colab Notebooks\"\n",
        "os.makedirs(model_dir, exist_ok=True)\n",
        "\n",
        "# Initialize the LGBMClassifier with added parameters\n",
        "lgbm_model = LGBMClassifier(\n",
        "    boosting_type='gbdt',\n",
        "    max_depth=-1,\n",
        "    learning_rate=0.1,\n",
        "    n_estimators=1000,\n",
        "    num_leaves=31,  # Number of leaves in one tree\n",
        "    min_data_in_leaf=20,  # Minimum number of data points in a leaf (a form of regularization)\n",
        "    feature_fraction=0.9,  # Randomly select a fraction of features for building each tree\n",
        "    bagging_fraction=0.8,  # Randomly select a fraction of data for training each tree\n",
        "    bagging_freq=5,  # Frequency of bagging, to perform bagging every k iterations\n",
        "    random_state=42,\n",
        "    n_jobs=-1  # Use all available cores\n",
        ")\n",
        "\n",
        "# Train the model with debugging info (using eval_metric and early stopping)\n",
        "print(\"Training the LGBM model...\")\n",
        "lgbm_model.fit(\n",
        "    X_train,\n",
        "    y_train,\n",
        "    eval_set=[(X_test, y_test)],\n",
        "    eval_metric=\"multi_logloss\",\n",
        "\n",
        "\n",
        ")\n",
        "\n",
        "# Evaluate the model on the test set\n",
        "print(\"Evaluating the model...\")\n",
        "y_pred = lgbm_model.predict(X_test)\n",
        "\n",
        "# Print evaluation metrics\n",
        "print(\"\\nAccuracy:\", accuracy_score(y_test, y_pred))\n",
        "print(\"\\nClassification Report:\\n\", classification_report(y_test, y_pred))\n",
        "print(\"\\nConfusion Matrix:\\n\", confusion_matrix(y_test, y_pred))\n",
        "\n",
        "# Save the final trained model\n",
        "final_model_path = os.path.join(model_dir, \"lgboost_model_cyberbullying.pkl\")\n",
        "joblib.dump(lgbm_model, final_model_path)\n",
        "print(f\"Final trained LGBM model saved to {final_model_path}\")"
      ],
      "metadata": {
        "colab": {
          "base_uri": "https://localhost:8080/"
        },
        "id": "rx7-qV_MD99I",
        "outputId": "72cc1954-dd68-4db1-f913-494fe44108db"
      },
      "execution_count": null,
      "outputs": [
        {
          "output_type": "stream",
          "name": "stdout",
          "text": [
            "Total dataset size: 120000\n",
            "Entries per category (class distribution):\n",
            "Counter({'age': 20000, 'ethnicity': 20000, 'gender': 20000, 'not_cyberbullying': 20000, 'other_cyberbullying': 20000, 'religion': 20000})\n",
            "Training dataset size: 96000\n",
            "Testing dataset size: 24000\n",
            "Training the LGBM model...\n",
            "[LightGBM] [Warning] min_data_in_leaf is set=20, min_child_samples=20 will be ignored. Current value: min_data_in_leaf=20\n",
            "[LightGBM] [Warning] bagging_freq is set=5, subsample_freq=0 will be ignored. Current value: bagging_freq=5\n",
            "[LightGBM] [Warning] feature_fraction is set=0.9, colsample_bytree=1.0 will be ignored. Current value: feature_fraction=0.9\n",
            "[LightGBM] [Warning] bagging_fraction is set=0.8, subsample=1.0 will be ignored. Current value: bagging_fraction=0.8\n",
            "[LightGBM] [Warning] min_data_in_leaf is set=20, min_child_samples=20 will be ignored. Current value: min_data_in_leaf=20\n",
            "[LightGBM] [Warning] bagging_freq is set=5, subsample_freq=0 will be ignored. Current value: bagging_freq=5\n",
            "[LightGBM] [Warning] feature_fraction is set=0.9, colsample_bytree=1.0 will be ignored. Current value: feature_fraction=0.9\n",
            "[LightGBM] [Warning] bagging_fraction is set=0.8, subsample=1.0 will be ignored. Current value: bagging_fraction=0.8\n",
            "[LightGBM] [Info] Auto-choosing row-wise multi-threading, the overhead of testing was 5.436265 seconds.\n",
            "You can set `force_row_wise=true` to remove the overhead.\n",
            "And if memory is not enough, you can set `force_col_wise=true`.\n",
            "[LightGBM] [Info] Total Bins 268234\n",
            "[LightGBM] [Info] Number of data points in the train set: 96000, number of used features: 4628\n",
            "[LightGBM] [Warning] min_data_in_leaf is set=20, min_child_samples=20 will be ignored. Current value: min_data_in_leaf=20\n",
            "[LightGBM] [Warning] bagging_freq is set=5, subsample_freq=0 will be ignored. Current value: bagging_freq=5\n",
            "[LightGBM] [Warning] feature_fraction is set=0.9, colsample_bytree=1.0 will be ignored. Current value: feature_fraction=0.9\n",
            "[LightGBM] [Warning] bagging_fraction is set=0.8, subsample=1.0 will be ignored. Current value: bagging_fraction=0.8\n",
            "[LightGBM] [Info] Start training from score -1.791759\n",
            "[LightGBM] [Info] Start training from score -1.791759\n",
            "[LightGBM] [Info] Start training from score -1.791759\n",
            "[LightGBM] [Info] Start training from score -1.791759\n",
            "[LightGBM] [Info] Start training from score -1.791759\n",
            "[LightGBM] [Info] Start training from score -1.791759\n",
            "[LightGBM] [Warning] No further splits with positive gain, best gain: -inf\n",
            "[LightGBM] [Warning] No further splits with positive gain, best gain: -inf\n",
            "[LightGBM] [Warning] No further splits with positive gain, best gain: -inf\n",
            "[LightGBM] [Warning] No further splits with positive gain, best gain: -inf\n",
            "[LightGBM] [Warning] No further splits with positive gain, best gain: -inf\n",
            "[LightGBM] [Warning] No further splits with positive gain, best gain: -inf\n",
            "[LightGBM] [Warning] No further splits with positive gain, best gain: -inf\n",
            "[LightGBM] [Warning] No further splits with positive gain, best gain: -inf\n",
            "[LightGBM] [Warning] No further splits with positive gain, best gain: -inf\n",
            "[LightGBM] [Warning] No further splits with positive gain, best gain: -inf\n",
            "[LightGBM] [Warning] No further splits with positive gain, best gain: -inf\n",
            "[LightGBM] [Warning] No further splits with positive gain, best gain: -inf\n",
            "[LightGBM] [Warning] No further splits with positive gain, best gain: -inf\n",
            "[LightGBM] [Warning] No further splits with positive gain, best gain: -inf\n",
            "[LightGBM] [Warning] No further splits with positive gain, best gain: -inf\n",
            "[LightGBM] [Warning] No further splits with positive gain, best gain: -inf\n",
            "[LightGBM] [Warning] No further splits with positive gain, best gain: -inf\n",
            "[LightGBM] [Warning] No further splits with positive gain, best gain: -inf\n",
            "[LightGBM] [Warning] No further splits with positive gain, best gain: -inf\n",
            "[LightGBM] [Warning] No further splits with positive gain, best gain: -inf\n",
            "[LightGBM] [Warning] No further splits with positive gain, best gain: -inf\n",
            "[LightGBM] [Warning] No further splits with positive gain, best gain: -inf\n",
            "[LightGBM] [Warning] No further splits with positive gain, best gain: -inf\n",
            "[LightGBM] [Warning] No further splits with positive gain, best gain: -inf\n",
            "[LightGBM] [Warning] No further splits with positive gain, best gain: -inf\n",
            "[LightGBM] [Warning] No further splits with positive gain, best gain: -inf\n",
            "[LightGBM] [Warning] No further splits with positive gain, best gain: -inf\n",
            "[LightGBM] [Warning] No further splits with positive gain, best gain: -inf\n",
            "[LightGBM] [Warning] No further splits with positive gain, best gain: -inf\n",
            "[LightGBM] [Warning] No further splits with positive gain, best gain: -inf\n",
            "[LightGBM] [Warning] No further splits with positive gain, best gain: -inf\n",
            "[LightGBM] [Warning] No further splits with positive gain, best gain: -inf\n",
            "[LightGBM] [Warning] No further splits with positive gain, best gain: -inf\n",
            "[LightGBM] [Warning] No further splits with positive gain, best gain: -inf\n",
            "[LightGBM] [Warning] No further splits with positive gain, best gain: -inf\n",
            "[LightGBM] [Warning] No further splits with positive gain, best gain: -inf\n",
            "[LightGBM] [Warning] No further splits with positive gain, best gain: -inf\n",
            "[LightGBM] [Warning] No further splits with positive gain, best gain: -inf\n",
            "[LightGBM] [Warning] No further splits with positive gain, best gain: -inf\n",
            "[LightGBM] [Warning] No further splits with positive gain, best gain: -inf\n",
            "[LightGBM] [Warning] No further splits with positive gain, best gain: -inf\n",
            "[LightGBM] [Warning] No further splits with positive gain, best gain: -inf\n",
            "[LightGBM] [Warning] No further splits with positive gain, best gain: -inf\n",
            "[LightGBM] [Warning] No further splits with positive gain, best gain: -inf\n",
            "[LightGBM] [Warning] No further splits with positive gain, best gain: -inf\n",
            "[LightGBM] [Warning] No further splits with positive gain, best gain: -inf\n",
            "[LightGBM] [Warning] No further splits with positive gain, best gain: -inf\n",
            "[LightGBM] [Warning] No further splits with positive gain, best gain: -inf\n",
            "[LightGBM] [Warning] No further splits with positive gain, best gain: -inf\n",
            "[LightGBM] [Warning] No further splits with positive gain, best gain: -inf\n",
            "[LightGBM] [Warning] No further splits with positive gain, best gain: -inf\n",
            "[LightGBM] [Warning] No further splits with positive gain, best gain: -inf\n",
            "[LightGBM] [Warning] No further splits with positive gain, best gain: -inf\n",
            "[LightGBM] [Warning] No further splits with positive gain, best gain: -inf\n",
            "[LightGBM] [Warning] No further splits with positive gain, best gain: -inf\n",
            "[LightGBM] [Warning] No further splits with positive gain, best gain: -inf\n",
            "[LightGBM] [Warning] No further splits with positive gain, best gain: -inf\n",
            "[LightGBM] [Warning] No further splits with positive gain, best gain: -inf\n",
            "[LightGBM] [Warning] No further splits with positive gain, best gain: -inf\n",
            "[LightGBM] [Warning] No further splits with positive gain, best gain: -inf\n",
            "[LightGBM] [Warning] No further splits with positive gain, best gain: -inf\n",
            "[LightGBM] [Warning] No further splits with positive gain, best gain: -inf\n",
            "[LightGBM] [Warning] No further splits with positive gain, best gain: -inf\n",
            "[LightGBM] [Warning] No further splits with positive gain, best gain: -inf\n",
            "[LightGBM] [Warning] No further splits with positive gain, best gain: -inf\n",
            "[LightGBM] [Warning] No further splits with positive gain, best gain: -inf\n",
            "[LightGBM] [Warning] No further splits with positive gain, best gain: -inf\n",
            "[LightGBM] [Warning] No further splits with positive gain, best gain: -inf\n",
            "[LightGBM] [Warning] No further splits with positive gain, best gain: -inf\n",
            "[LightGBM] [Warning] No further splits with positive gain, best gain: -inf\n",
            "[LightGBM] [Warning] No further splits with positive gain, best gain: -inf\n",
            "[LightGBM] [Warning] No further splits with positive gain, best gain: -inf\n",
            "[LightGBM] [Warning] No further splits with positive gain, best gain: -inf\n",
            "[LightGBM] [Warning] No further splits with positive gain, best gain: -inf\n",
            "[LightGBM] [Warning] No further splits with positive gain, best gain: -inf\n",
            "[LightGBM] [Warning] No further splits with positive gain, best gain: -inf\n",
            "[LightGBM] [Warning] No further splits with positive gain, best gain: -inf\n",
            "[LightGBM] [Warning] No further splits with positive gain, best gain: -inf\n",
            "[LightGBM] [Warning] No further splits with positive gain, best gain: -inf\n",
            "[LightGBM] [Warning] No further splits with positive gain, best gain: -inf\n",
            "[LightGBM] [Warning] No further splits with positive gain, best gain: -inf\n",
            "[LightGBM] [Warning] No further splits with positive gain, best gain: -inf\n",
            "[LightGBM] [Warning] No further splits with positive gain, best gain: -inf\n",
            "[LightGBM] [Warning] No further splits with positive gain, best gain: -inf\n",
            "[LightGBM] [Warning] No further splits with positive gain, best gain: -inf\n",
            "[LightGBM] [Warning] No further splits with positive gain, best gain: -inf\n",
            "[LightGBM] [Warning] No further splits with positive gain, best gain: -inf\n",
            "[LightGBM] [Warning] No further splits with positive gain, best gain: -inf\n",
            "[LightGBM] [Warning] No further splits with positive gain, best gain: -inf\n",
            "[LightGBM] [Warning] No further splits with positive gain, best gain: -inf\n",
            "[LightGBM] [Warning] No further splits with positive gain, best gain: -inf\n",
            "[LightGBM] [Warning] No further splits with positive gain, best gain: -inf\n",
            "[LightGBM] [Warning] No further splits with positive gain, best gain: -inf\n",
            "[LightGBM] [Warning] No further splits with positive gain, best gain: -inf\n",
            "[LightGBM] [Warning] No further splits with positive gain, best gain: -inf\n",
            "[LightGBM] [Warning] No further splits with positive gain, best gain: -inf\n",
            "[LightGBM] [Warning] No further splits with positive gain, best gain: -inf\n",
            "[LightGBM] [Warning] No further splits with positive gain, best gain: -inf\n",
            "[LightGBM] [Warning] No further splits with positive gain, best gain: -inf\n",
            "[LightGBM] [Warning] No further splits with positive gain, best gain: -inf\n",
            "[LightGBM] [Warning] No further splits with positive gain, best gain: -inf\n",
            "[LightGBM] [Warning] No further splits with positive gain, best gain: -inf\n",
            "[LightGBM] [Warning] No further splits with positive gain, best gain: -inf\n",
            "[LightGBM] [Warning] No further splits with positive gain, best gain: -inf\n",
            "[LightGBM] [Warning] No further splits with positive gain, best gain: -inf\n",
            "[LightGBM] [Warning] No further splits with positive gain, best gain: -inf\n",
            "[LightGBM] [Warning] No further splits with positive gain, best gain: -inf\n",
            "[LightGBM] [Warning] No further splits with positive gain, best gain: -inf\n",
            "[LightGBM] [Warning] No further splits with positive gain, best gain: -inf\n",
            "[LightGBM] [Warning] No further splits with positive gain, best gain: -inf\n",
            "[LightGBM] [Warning] No further splits with positive gain, best gain: -inf\n",
            "[LightGBM] [Warning] No further splits with positive gain, best gain: -inf\n",
            "[LightGBM] [Warning] No further splits with positive gain, best gain: -inf\n",
            "[LightGBM] [Warning] No further splits with positive gain, best gain: -inf\n",
            "[LightGBM] [Warning] No further splits with positive gain, best gain: -inf\n",
            "[LightGBM] [Warning] No further splits with positive gain, best gain: -inf\n",
            "[LightGBM] [Warning] No further splits with positive gain, best gain: -inf\n",
            "[LightGBM] [Warning] No further splits with positive gain, best gain: -inf\n",
            "[LightGBM] [Warning] No further splits with positive gain, best gain: -inf\n",
            "[LightGBM] [Warning] No further splits with positive gain, best gain: -inf\n",
            "[LightGBM] [Warning] No further splits with positive gain, best gain: -inf\n",
            "[LightGBM] [Warning] No further splits with positive gain, best gain: -inf\n",
            "[LightGBM] [Warning] No further splits with positive gain, best gain: -inf\n",
            "[LightGBM] [Warning] No further splits with positive gain, best gain: -inf\n",
            "[LightGBM] [Warning] No further splits with positive gain, best gain: -inf\n",
            "[LightGBM] [Warning] No further splits with positive gain, best gain: -inf\n",
            "[LightGBM] [Warning] No further splits with positive gain, best gain: -inf\n",
            "[LightGBM] [Warning] No further splits with positive gain, best gain: -inf\n",
            "[LightGBM] [Warning] No further splits with positive gain, best gain: -inf\n",
            "[LightGBM] [Warning] No further splits with positive gain, best gain: -inf\n",
            "[LightGBM] [Warning] No further splits with positive gain, best gain: -inf\n",
            "[LightGBM] [Warning] No further splits with positive gain, best gain: -inf\n",
            "[LightGBM] [Warning] No further splits with positive gain, best gain: -inf\n",
            "[LightGBM] [Warning] No further splits with positive gain, best gain: -inf\n",
            "[LightGBM] [Warning] No further splits with positive gain, best gain: -inf\n",
            "[LightGBM] [Warning] No further splits with positive gain, best gain: -inf\n",
            "[LightGBM] [Warning] No further splits with positive gain, best gain: -inf\n",
            "[LightGBM] [Warning] No further splits with positive gain, best gain: -inf\n",
            "[LightGBM] [Warning] No further splits with positive gain, best gain: -inf\n",
            "[LightGBM] [Warning] No further splits with positive gain, best gain: -inf\n",
            "[LightGBM] [Warning] No further splits with positive gain, best gain: -inf\n",
            "[LightGBM] [Warning] No further splits with positive gain, best gain: -inf\n",
            "[LightGBM] [Warning] No further splits with positive gain, best gain: -inf\n",
            "[LightGBM] [Warning] No further splits with positive gain, best gain: -inf\n",
            "[LightGBM] [Warning] No further splits with positive gain, best gain: -inf\n",
            "[LightGBM] [Warning] No further splits with positive gain, best gain: -inf\n",
            "[LightGBM] [Warning] No further splits with positive gain, best gain: -inf\n",
            "[LightGBM] [Warning] No further splits with positive gain, best gain: -inf\n",
            "[LightGBM] [Warning] No further splits with positive gain, best gain: -inf\n",
            "[LightGBM] [Warning] No further splits with positive gain, best gain: -inf\n",
            "[LightGBM] [Warning] No further splits with positive gain, best gain: -inf\n",
            "[LightGBM] [Warning] No further splits with positive gain, best gain: -inf\n",
            "[LightGBM] [Warning] No further splits with positive gain, best gain: -inf\n",
            "[LightGBM] [Warning] No further splits with positive gain, best gain: -inf\n",
            "[LightGBM] [Warning] No further splits with positive gain, best gain: -inf\n",
            "[LightGBM] [Warning] No further splits with positive gain, best gain: -inf\n",
            "[LightGBM] [Warning] No further splits with positive gain, best gain: -inf\n",
            "[LightGBM] [Warning] No further splits with positive gain, best gain: -inf\n",
            "[LightGBM] [Warning] No further splits with positive gain, best gain: -inf\n",
            "[LightGBM] [Warning] No further splits with positive gain, best gain: -inf\n",
            "[LightGBM] [Warning] No further splits with positive gain, best gain: -inf\n",
            "[LightGBM] [Warning] No further splits with positive gain, best gain: -inf\n",
            "[LightGBM] [Warning] No further splits with positive gain, best gain: -inf\n",
            "[LightGBM] [Warning] No further splits with positive gain, best gain: -inf\n",
            "[LightGBM] [Warning] No further splits with positive gain, best gain: -inf\n",
            "[LightGBM] [Warning] No further splits with positive gain, best gain: -inf\n",
            "[LightGBM] [Warning] No further splits with positive gain, best gain: -inf\n",
            "[LightGBM] [Warning] No further splits with positive gain, best gain: -inf\n",
            "Evaluating the model...\n",
            "[LightGBM] [Warning] min_data_in_leaf is set=20, min_child_samples=20 will be ignored. Current value: min_data_in_leaf=20\n",
            "[LightGBM] [Warning] bagging_freq is set=5, subsample_freq=0 will be ignored. Current value: bagging_freq=5\n",
            "[LightGBM] [Warning] feature_fraction is set=0.9, colsample_bytree=1.0 will be ignored. Current value: feature_fraction=0.9\n",
            "[LightGBM] [Warning] bagging_fraction is set=0.8, subsample=1.0 will be ignored. Current value: bagging_fraction=0.8\n",
            "\n",
            "Accuracy: 0.9596666666666667\n",
            "\n",
            "Classification Report:\n",
            "                      precision    recall  f1-score   support\n",
            "\n",
            "                age       1.00      0.99      1.00      4000\n",
            "          ethnicity       0.98      1.00      0.99      4000\n",
            "             gender       0.95      0.97      0.96      4000\n",
            "  not_cyberbullying       0.91      0.95      0.93      4000\n",
            "other_cyberbullying       0.95      0.86      0.90      4000\n",
            "           religion       0.96      0.99      0.97      4000\n",
            "\n",
            "           accuracy                           0.96     24000\n",
            "          macro avg       0.96      0.96      0.96     24000\n",
            "       weighted avg       0.96      0.96      0.96     24000\n",
            "\n",
            "\n",
            "Confusion Matrix:\n",
            " [[3980    0    0   13    7    0]\n",
            " [   0 3995    0    3    2    0]\n",
            " [   0    0 3893   73   34    0]\n",
            " [   4   23   53 3788  105   27]\n",
            " [   1   63  130  252 3424  130]\n",
            " [   0    0    2   15   31 3952]]\n",
            "Final trained LGBM model saved to /content/drive/MyDrive/Colab Notebooks/lgboost_model_cyberbullying.pkl\n"
          ]
        }
      ]
    },
    {
      "cell_type": "code",
      "source": [
        "import joblib\n",
        "import numpy as np\n",
        "import pandas as pd\n",
        "from sklearn.feature_extraction.text import TfidfVectorizer\n",
        "import lightgbm as lgb\n",
        "\n",
        "# Load the trained model and vectorizer\n",
        "model = joblib.load(\"/content/drive/MyDrive/Colab Notebooks/final_tuned_lgbm_model.pkl\")\n",
        "tfidf_vectorizer = joblib.load(\"/content/drive/MyDrive/Colab Notebooks/tfidf_vectorizer.pkl\")\n",
        "\n",
        "# Function to predict the class for a new comment\n",
        "def predict_comment(comment):\n",
        "    # Transform the input comment using the same TF-IDF vectorizer\n",
        "    comment_transformed = tfidf_vectorizer.transform([comment])\n",
        "\n",
        "    # Ensure the number of features is the same by adjusting the comment's feature set\n",
        "    if comment_transformed.shape[1] != model.feature_importances_.shape[0]:\n",
        "        print(f\"Warning: Feature mismatch. Adjusting feature count.\")\n",
        "        # Pad or truncate the features to match the model's expected number\n",
        "        comment_transformed = np.hstack([comment_transformed.toarray(),\n",
        "                                         np.zeros((comment_transformed.shape[0], model.feature_importances_.shape[0] - comment_transformed.shape[1]))])\n",
        "\n",
        "    # Predict the class using the model\n",
        "    predicted_class = model.predict(comment_transformed)\n",
        "    return predicted_class[0]\n",
        "\n",
        "# Start the prediction loop\n",
        "while True:\n",
        "    comment = input(\"Enter a comment for prediction (type 'exit' to quit): \")\n",
        "\n",
        "    if comment.lower() == 'exit':\n",
        "        print(\"Exiting the prediction loop. Goodbye!\")\n",
        "        break\n",
        "\n",
        "    # Predict the class of the comment\n",
        "    predicted_label = predict_comment(comment)\n",
        "    print(f\"The predicted label for the comment is: {predicted_label}\")"
      ],
      "metadata": {
        "id": "B2rGWK_g5ZIj",
        "colab": {
          "base_uri": "https://localhost:8080/"
        },
        "outputId": "da1ff5ad-91c9-4a02-8280-bc3fcf7aa024"
      },
      "execution_count": 5,
      "outputs": [
        {
          "output_type": "stream",
          "name": "stdout",
          "text": [
            "Enter a comment for prediction (type 'exit' to quit): gay\n",
            "Warning: Feature mismatch. Adjusting feature count.\n",
            "The predicted label for the comment is: other_cyberbullying\n",
            "Enter a comment for prediction (type 'exit' to quit): rape\n",
            "Warning: Feature mismatch. Adjusting feature count.\n",
            "The predicted label for the comment is: gender\n",
            "Enter a comment for prediction (type 'exit' to quit): You know there are people out there who like @joeyBADASS_ but don't listen to old school.\n",
            "Warning: Feature mismatch. Adjusting feature count.\n",
            "The predicted label for the comment is: not_cyberbullying\n",
            "Enter a comment for prediction (type 'exit' to quit): The Muslim Brotherhood President of Egypt was removed in 2013 by Obama... You guys are idiots.\n",
            "Warning: Feature mismatch. Adjusting feature count.\n",
            "The predicted label for the comment is: other_cyberbullying\n",
            "Enter a comment for prediction (type 'exit' to quit): Karma. I hope it bites Kat on the butt. She is just nasty. #mkr\n",
            "Warning: Feature mismatch. Adjusting feature count.\n",
            "The predicted label for the comment is: gender\n",
            "Enter a comment for prediction (type 'exit' to quit): Do you normally call people that cite the law a bitch, or do you just refer to females in general as bitches?\n",
            "Warning: Feature mismatch. Adjusting feature count.\n",
            "The predicted label for the comment is: other_cyberbullying\n",
            "Enter a comment for prediction (type 'exit' to quit): all and at attack blame bully ca call doing family feel folk for front here high home is it like mind my name neighbor no on pick reason school something son step the them they time to without you\n",
            "Warning: Feature mismatch. Adjusting feature count.\n",
            "The predicted label for the comment is: age\n",
            "Enter a comment for prediction (type 'exit' to quit): far good so\n",
            "Warning: Feature mismatch. Adjusting feature count.\n",
            "The predicted label for the comment is: not_cyberbullying\n",
            "Enter a comment for prediction (type 'exit' to quit): against amp clearly do enemy follower get humanity is it jihad mean moslem muslim of on quran real really terrorist that war written\n",
            "Warning: Feature mismatch. Adjusting feature count.\n",
            "The predicted label for the comment is: religion\n",
            "Enter a comment for prediction (type 'exit' to quit): 100 allah and at behind check fear follower get guy he how idiot in know least less life london majority many month muslim need of sigh state tbh than the this to you\n",
            "Warning: Feature mismatch. Adjusting feature count.\n",
            "The predicted label for the comment is: religion\n",
            "Enter a comment for prediction (type 'exit' to quit): almost already and are beat compared dead death did didnt do dont fact for fun gay get girl guy he him is joke like line looking making nt of play plus rape seen so st the these this threaten to why\n",
            "Warning: Feature mismatch. Adjusting feature count.\n",
            "The predicted label for the comment is: gender\n",
            "Enter a comment for prediction (type 'exit' to quit): 45 and another are around co cruel gop http idiot imbecile is maga move standing these this woman\n",
            "Warning: Feature mismatch. Adjusting feature count.\n",
            "The predicted label for the comment is: other_cyberbullying\n",
            "Enter a comment for prediction (type 'exit' to quit): exit\n",
            "Exiting the prediction loop. Goodbye!\n"
          ]
        }
      ]
    },
    {
      "cell_type": "code",
      "source": [],
      "metadata": {
        "id": "MOE2v_bXO0sk"
      },
      "execution_count": 4,
      "outputs": []
    }
  ],
  "metadata": {
    "colab": {
      "provenance": [],
      "toc_visible": true
    },
    "kernelspec": {
      "display_name": "Python 3",
      "name": "python3"
    },
    "language_info": {
      "name": "python"
    }
  },
  "nbformat": 4,
  "nbformat_minor": 0
}